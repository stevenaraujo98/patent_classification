{
  "cells": [
    {
      "cell_type": "code",
      "execution_count": 1,
      "id": "30210f0f",
      "metadata": {
        "colab": {
          "base_uri": "https://localhost:8080/"
        },
        "id": "30210f0f",
        "outputId": "fa4541ab-751d-462f-83ee-7156c7183d21"
      },
      "outputs": [],
      "source": [
        "# Mount Google Drive if using Colab\n",
        "try:\n",
        "    from google.colab import drive\n",
        "    drive.mount('/content/drive')\n",
        "    USING_COLAB = True\n",
        "except:\n",
        "    USING_COLAB = False"
      ]
    },
    {
      "cell_type": "code",
      "execution_count": 2,
      "id": "e7caa1b6",
      "metadata": {
        "id": "e7caa1b6"
      },
      "outputs": [],
      "source": [
        "import pandas as pd\n",
        "import numpy as np\n",
        "import seaborn as sns\n",
        "import matplotlib.pyplot as plt\n",
        "# from datasets import load_dataset\n",
        "import glob\n",
        "import json\n",
        "import concurrent.futures\n",
        "import os\n",
        "import time"
      ]
    },
    {
      "cell_type": "code",
      "execution_count": 3,
      "id": "714df467",
      "metadata": {
        "colab": {
          "base_uri": "https://localhost:8080/"
        },
        "id": "714df467",
        "outputId": "51b3ac3c-2627-44d3-cafe-b48994e2ce37"
      },
      "outputs": [],
      "source": [
        "# !pip install nlpaug"
      ]
    },
    {
      "cell_type": "code",
      "execution_count": 4,
      "id": "436fd549",
      "metadata": {
        "id": "436fd549"
      },
      "outputs": [],
      "source": [
        "import torch\n",
        "import pandas as pd\n",
        "from concurrent.futures import ThreadPoolExecutor\n",
        "import nlpaug.augmenter.word as naw\n",
        "import math"
      ]
    },
    {
      "cell_type": "code",
      "execution_count": 5,
      "id": "5c843265",
      "metadata": {
        "id": "5c843265"
      },
      "outputs": [],
      "source": [
        "pd.set_option('display.max_columns', None)"
      ]
    },
    {
      "cell_type": "code",
      "execution_count": 6,
      "id": "5f882685",
      "metadata": {
        "id": "5f882685"
      },
      "outputs": [],
      "source": [
        "if USING_COLAB:\n",
        "    _METADATA_PATH = \"/content/drive/My Drive/GTSI/Codigos_investigadores/supervised_new_data/dataset/hupd_metadata_2022-02-22.feather\"\n",
        "    path_dataset = \"/content/drive/My Drive/GTSI/Codigos_investigadores/supervised_new_data/dataset\"\n",
        "    path_dataset_USPTO = \"/content/drive/My Drive/GTSI/Codigos_investigadores/nesupervised_new_dataw_data/dataset/USPTO\"\n",
        "    path_output = \"/content/drive/My Drive/GTSI/Codigos_investigadores/supervised_new_data/dataset/target\"\n",
        "else:\n",
        "    _METADATA_PATH = \"./dataset/hupd_metadata_2022-02-22.feather\"\n",
        "    path_dataset = \"./dataset\"\n",
        "    path_dataset_USPTO = \"./dataset/USPTO\"\n",
        "    path_output = \"./dataset/target\""
      ]
    },
    {
      "cell_type": "markdown",
      "id": "9c2a9e9a",
      "metadata": {
        "id": "9c2a9e9a"
      },
      "source": [
        "##### Por año"
      ]
    },
    {
      "cell_type": "code",
      "execution_count": null,
      "id": "adbe61a5",
      "metadata": {
        "id": "adbe61a5"
      },
      "outputs": [],
      "source": [
        "# year = \"2018\"\n",
        "# list_patents = glob.glob(path_dataset + \"/patentes_\" + year + \"_paralelo_*.csv\")\n",
        "# list_patents.sort() # Sort the list of patents ascendingly"
      ]
    },
    {
      "cell_type": "code",
      "execution_count": 8,
      "id": "16f4ee58",
      "metadata": {
        "id": "16f4ee58"
      },
      "outputs": [],
      "source": [
        "# for file in list_patents:\n",
        "#     print(f\"Processing file: {file}\")\n",
        "#     df = pd.read_csv(file)\n",
        "#     df = df[['aplication_number', 'publication_number', 'title', 'abstract', 'decision']]\n",
        "#     print(f\"Number of rows in {file}: {df.shape[0]}\")\n",
        "#     print(df[\"decision\"].value_counts())\n",
        "#     print(\"-\"*10)\n",
        "\n",
        "#     df_target = df[((df[\"decision\"] == \"REJECTED\") | (df[\"decision\"] == \"ACCEPTED\"))]\n",
        "#     print(f\"Number of target rows: {df_target.shape[0]}\")\n",
        "\n",
        "#     df_target_oring = pd.read_csv(path_dataset + \"/patentes_target_\" + year + \".csv\")\n",
        "#     print(f\"Number of original target rows: {df_target_oring.shape[0]}\")\n",
        "\n",
        "#     print(\"-\"*10)\n",
        "#     df_new = pd.concat([df_target_oring, df_target], axis=0).drop_duplicates()\n",
        "#     print(f\"Number of new target rows: {df_new.shape[0]}\")\n",
        "#     print(\"-\"*10)\n",
        "\n",
        "#     df_new.to_csv(path_dataset + \"/patentes_target_\" + year + \".csv\", index=False)\n",
        "#     print(f\"Saved new target rows to {path_dataset}/patentes_target_\" + year + \".csv\")\n",
        "#     print(\"=\"*50)\n"
      ]
    },
    {
      "cell_type": "markdown",
      "id": "f7463596",
      "metadata": {
        "id": "f7463596"
      },
      "source": [
        "##### Target"
      ]
    },
    {
      "cell_type": "code",
      "execution_count": 9,
      "id": "f2a038b1",
      "metadata": {
        "id": "f2a038b1"
      },
      "outputs": [],
      "source": [
        "# list_patents_target = glob.glob(path_dataset + \"/patentes_target_*.csv\")\n",
        "# df_results = pd.DataFrame()"
      ]
    },
    {
      "cell_type": "code",
      "execution_count": 10,
      "id": "e743ccbb",
      "metadata": {
        "id": "e743ccbb"
      },
      "outputs": [],
      "source": [
        "# for file in list_patents_target:\n",
        "#     print(f\"Processing file: {file}\")\n",
        "#     df = pd.read_csv(file)\n",
        "#     print(f\"Number of rows in {file}: {df.shape[0]}\")\n",
        "#     if df_results.empty:\n",
        "#         df_results = df.copy()\n",
        "#     else:\n",
        "#         df_results = pd.concat([df_results, df], axis=0, ignore_index=True)\n",
        "#     print(f\"Number of rows in results DataFrame: {df_results.shape[0]}\")\n",
        "#     print(\"-\" * 10)"
      ]
    },
    {
      "cell_type": "code",
      "execution_count": 11,
      "id": "5f529237",
      "metadata": {
        "id": "5f529237"
      },
      "outputs": [],
      "source": [
        "# df_results.to_csv(path_dataset + \"/patentes_target.csv\", index=False)"
      ]
    },
    {
      "cell_type": "markdown",
      "id": "76d3849f",
      "metadata": {
        "id": "76d3849f"
      },
      "source": [
        "##### EDA (Análisis Exploratorio de Datos)"
      ]
    },
    {
      "cell_type": "code",
      "execution_count": 12,
      "id": "78ad12ad",
      "metadata": {
        "id": "78ad12ad"
      },
      "outputs": [],
      "source": [
        "df = pd.read_csv(path_dataset + \"/patentes_target.csv\")"
      ]
    },
    {
      "cell_type": "code",
      "execution_count": 13,
      "id": "d5b6524e",
      "metadata": {
        "colab": {
          "base_uri": "https://localhost:8080/",
          "height": 206
        },
        "id": "d5b6524e",
        "outputId": "f2fa172a-ceb6-4913-f4f3-934f7d04e7d3"
      },
      "outputs": [
        {
          "data": {
            "text/html": [
              "<div>\n",
              "<style scoped>\n",
              "    .dataframe tbody tr th:only-of-type {\n",
              "        vertical-align: middle;\n",
              "    }\n",
              "\n",
              "    .dataframe tbody tr th {\n",
              "        vertical-align: top;\n",
              "    }\n",
              "\n",
              "    .dataframe thead th {\n",
              "        text-align: right;\n",
              "    }\n",
              "</style>\n",
              "<table border=\"1\" class=\"dataframe\">\n",
              "  <thead>\n",
              "    <tr style=\"text-align: right;\">\n",
              "      <th></th>\n",
              "      <th>aplication_number</th>\n",
              "      <th>publication_number</th>\n",
              "      <th>title</th>\n",
              "      <th>abstract</th>\n",
              "      <th>decision</th>\n",
              "    </tr>\n",
              "  </thead>\n",
              "  <tbody>\n",
              "    <tr>\n",
              "      <th>0</th>\n",
              "      <td>14176610</td>\n",
              "      <td>US20140159107A1-20140612</td>\n",
              "      <td>SEMICONDUCTOR DEVICE</td>\n",
              "      <td>Some aspects of the invention include a trench...</td>\n",
              "      <td>ACCEPTED</td>\n",
              "    </tr>\n",
              "    <tr>\n",
              "      <th>1</th>\n",
              "      <td>14176611</td>\n",
              "      <td>US20140225674A1-20140814</td>\n",
              "      <td>BI-DIRECTIONAL POWER SUPPLY SIGNAL BASED LINEA...</td>\n",
              "      <td>Circuitry, which includes a linear amplifier, ...</td>\n",
              "      <td>ACCEPTED</td>\n",
              "    </tr>\n",
              "    <tr>\n",
              "      <th>2</th>\n",
              "      <td>14176612</td>\n",
              "      <td>US20140212394A1-20140731</td>\n",
              "      <td>NOVEL VIP3 TOXINS AND METHODS OF USE</td>\n",
              "      <td>Nucleic acid molecules encoding novel Vip3 tox...</td>\n",
              "      <td>ACCEPTED</td>\n",
              "    </tr>\n",
              "    <tr>\n",
              "      <th>3</th>\n",
              "      <td>14176614</td>\n",
              "      <td>US20140227940A1-20140814</td>\n",
              "      <td>SOLAR-POWERED ROTATING ORNAMENTAL DEVICE</td>\n",
              "      <td>A device providing a spinning ornamental desig...</td>\n",
              "      <td>REJECTED</td>\n",
              "    </tr>\n",
              "    <tr>\n",
              "      <th>4</th>\n",
              "      <td>14176615</td>\n",
              "      <td>US20140153098A1-20140605</td>\n",
              "      <td>OPTICAL FILTER AND OPTICAL MODULE HAVING OPTIC...</td>\n",
              "      <td>An optical filter includes a first substrate, ...</td>\n",
              "      <td>ACCEPTED</td>\n",
              "    </tr>\n",
              "  </tbody>\n",
              "</table>\n",
              "</div>"
            ],
            "text/plain": [
              "   aplication_number        publication_number  \\\n",
              "0           14176610  US20140159107A1-20140612   \n",
              "1           14176611  US20140225674A1-20140814   \n",
              "2           14176612  US20140212394A1-20140731   \n",
              "3           14176614  US20140227940A1-20140814   \n",
              "4           14176615  US20140153098A1-20140605   \n",
              "\n",
              "                                               title  \\\n",
              "0                               SEMICONDUCTOR DEVICE   \n",
              "1  BI-DIRECTIONAL POWER SUPPLY SIGNAL BASED LINEA...   \n",
              "2               NOVEL VIP3 TOXINS AND METHODS OF USE   \n",
              "3           SOLAR-POWERED ROTATING ORNAMENTAL DEVICE   \n",
              "4  OPTICAL FILTER AND OPTICAL MODULE HAVING OPTIC...   \n",
              "\n",
              "                                            abstract  decision  \n",
              "0  Some aspects of the invention include a trench...  ACCEPTED  \n",
              "1  Circuitry, which includes a linear amplifier, ...  ACCEPTED  \n",
              "2  Nucleic acid molecules encoding novel Vip3 tox...  ACCEPTED  \n",
              "3  A device providing a spinning ornamental desig...  REJECTED  \n",
              "4  An optical filter includes a first substrate, ...  ACCEPTED  "
            ]
          },
          "execution_count": 13,
          "metadata": {},
          "output_type": "execute_result"
        }
      ],
      "source": [
        "df.head()"
      ]
    },
    {
      "cell_type": "code",
      "execution_count": 14,
      "id": "a0c1717b",
      "metadata": {
        "colab": {
          "base_uri": "https://localhost:8080/",
          "height": 178
        },
        "id": "a0c1717b",
        "outputId": "a9d3b3c2-a241-4d87-8830-34fb98b12a08"
      },
      "outputs": [
        {
          "data": {
            "text/plain": [
              "decision\n",
              "ACCEPTED    579769\n",
              "REJECTED    178623\n",
              "Name: count, dtype: int64"
            ]
          },
          "execution_count": 14,
          "metadata": {},
          "output_type": "execute_result"
        }
      ],
      "source": [
        "df[\"decision\"].value_counts()"
      ]
    },
    {
      "cell_type": "code",
      "execution_count": 15,
      "id": "b901af09",
      "metadata": {
        "colab": {
          "base_uri": "https://localhost:8080/",
          "height": 607
        },
        "id": "b901af09",
        "outputId": "17da226c-d591-4d34-992f-1831cc2d1aa3"
      },
      "outputs": [
        {
          "data": {
            "image/png": "[encoded data removed]",
            "text/plain": [
              "<Figure size 1000x600 with 1 Axes>"
            ]
          },
          "metadata": {},
          "output_type": "display_data"
        }
      ],
      "source": [
        "# diagrama de barras de la columna \"decision\"\n",
        "plt.figure(figsize=(10, 6))\n",
        "sns.countplot(data=df, x='decision', order=df['decision'].value_counts().index)\n",
        "plt.title('Distribución de Decisiones de Patentes')\n",
        "plt.xlabel('Decisión')\n",
        "plt.ylabel('Número de Patentes')\n",
        "plt.xticks(rotation=45)\n",
        "plt.tight_layout()\n",
        "plt.show()"
      ]
    },
    {
      "cell_type": "markdown",
      "id": "f99ed044",
      "metadata": {},
      "source": [
        "##### Balanceo de datos"
      ]
    },
    {
      "cell_type": "markdown",
      "id": "dea9ffc5",
      "metadata": {
        "id": "dea9ffc5"
      },
      "source": [
        "Nlpaug generates new text data, while DataFrame.sample() returns a subset of the original DataFrame."
      ]
    },
    {
      "cell_type": "markdown",
      "id": "bd8304d0",
      "metadata": {
        "id": "bd8304d0"
      },
      "source": [
        "###### Opcion 1 de balanceo\n"
      ]
    },
    {
      "cell_type": "code",
      "execution_count": 72,
      "id": "179f23bc",
      "metadata": {
        "id": "179f23bc"
      },
      "outputs": [],
      "source": [
        "# # equilibrar las clases\n",
        "# df_rejected = df[df[\"decision\"] == \"REJECTED\"]\n",
        "# df_accepted = df[df[\"decision\"] == \"ACCEPTED\"]\n",
        "# df_rejected = df_rejected.sample(n=len(df_accepted), random_state=42, replace=True)\n",
        "# df_balanced = pd.concat([df_rejected, df_accepted], axis=0, ignore_index=True)\n",
        "# df_balanced[\"decision\"].value_counts()"
      ]
    },
    {
      "cell_type": "code",
      "execution_count": 73,
      "id": "70fe9cf2",
      "metadata": {
        "id": "70fe9cf2"
      },
      "outputs": [],
      "source": [
        "# df_balanced[\"title\"].value_counts()"
      ]
    },
    {
      "cell_type": "code",
      "execution_count": 74,
      "id": "119fc869",
      "metadata": {
        "id": "119fc869"
      },
      "outputs": [],
      "source": [
        "# df[df[\"title\"] == \"SEMICONDUCTOR DEVICE\"].shape, df_balanced[df_balanced[\"title\"] == \"SEMICONDUCTOR DEVICE\"].shape"
      ]
    },
    {
      "cell_type": "code",
      "execution_count": 75,
      "id": "d9415903",
      "metadata": {
        "id": "d9415903"
      },
      "outputs": [],
      "source": [
        "# # diagrama de barras de la columna \"decision\"\n",
        "# plt.figure(figsize=(10, 6))\n",
        "# sns.countplot(data=df_balanced, x='decision', order=df_balanced['decision'].value_counts().index)\n",
        "# plt.title('Distribución de Decisiones de Patentes')\n",
        "# plt.xlabel('Decisión')\n",
        "# plt.ylabel('Número de Patentes')\n",
        "# plt.xticks(rotation=45)\n",
        "# plt.tight_layout()\n",
        "# plt.show()"
      ]
    },
    {
      "cell_type": "markdown",
      "id": "1543356f",
      "metadata": {
        "id": "1543356f"
      },
      "source": [
        "###### opcion 2 de balanceo"
      ]
    },
    {
      "cell_type": "code",
      "execution_count": null,
      "id": "8c1b0e70",
      "metadata": {
        "id": "8c1b0e70"
      },
      "outputs": [],
      "source": [
        "def balance_with_multi_gpu(df, text_col='abstract', label_col='decision', gpu_ids=[0, 1]):\n",
        "    \"\"\"Balancea dataset usando múltiples GPUs para patentes\"\"\"\n",
        "    # Verificar GPUs disponibles\n",
        "    available_gpus = torch.cuda.device_count() if torch.cuda.is_available() else 0\n",
        "    print(f\"GPUs disponibles: {available_gpus}\")\n",
        "\n",
        "    if available_gpus == 0:\n",
        "        print(\"⚠️ No hay GPUs disponibles, usando CPU\")\n",
        "        gpu_ids = ['cpu']\n",
        "    elif available_gpus < len(gpu_ids):\n",
        "        print(f\"⚠️ Solo {available_gpus} GPUs disponibles, usando las primeras {available_gpus}\")\n",
        "        gpu_ids = gpu_ids[:available_gpus]\n",
        "\n",
        "\n",
        "    augmenters = {}\n",
        "    for gpu_id in gpu_ids:\n",
        "        device = f'cuda:{gpu_id}' if gpu_id != 'cpu' else 'cpu'\n",
        "        augmenters[gpu_id] = naw.ContextualWordEmbsAug(\n",
        "            model_path='bert-base-multilingual-uncased',\n",
        "            aug_p=0.1,\n",
        "            device=device\n",
        "        )\n",
        "        print(f\"✅ Augmenter creado en {'GPU' if gpu_id != 'cpu' else 'CPU'} {gpu_id}\")\n",
        "\n",
        "    # Análisis de clases\n",
        "    class_counts = df[label_col].value_counts()\n",
        "    target_count = class_counts.max()\n",
        "\n",
        "    print(f\"\\nDistribución actual:\")\n",
        "    for class_label, count in class_counts.items():\n",
        "        print(f\"  {class_label}: {count:,}\")\n",
        "    print(f\"\\nObjetivo: {target_count:,} muestras por clase\")\n",
        "\n",
        "    def process_class_on_gpu(args):\n",
        "        \"\"\"Procesa una clase en una GPU específica\"\"\"\n",
        "        class_label, needed_samples, class_texts, gpu_id = args\n",
        "\n",
        "        augmenter = augmenters[gpu_id]\n",
        "        augmented_data = []\n",
        "\n",
        "        print(f\"🚀 {'GPU' if gpu_id != 'cpu' else 'CPU'} {gpu_id}: Procesando clase {class_label} ({needed_samples:,} muestras)\")\n",
        "\n",
        "        batch_size = 16\n",
        "        for i in range(0, needed_samples, batch_size):\n",
        "            batch_end = min(i + batch_size, needed_samples)\n",
        "            batch_texts = [class_texts[j % len(class_texts)] for j in range(i, batch_end)]\n",
        "\n",
        "            try:\n",
        "                augmented_batch = augmenter.augment(batch_texts, \n",
        "                                                    n=math.ceil((batch_end - i) / len(class_texts)),\n",
        "                                                    num_thread=1 if gpu_id == 'cpu' else 4)\n",
        "\n",
        "                for j, aug_text in enumerate(augmented_batch):\n",
        "                    # Mantener las columnas originales del dataframe\n",
        "                    original_row = df[df[label_col] == class_label].iloc[j % len(class_texts)]\n",
        "\n",
        "                    augmented_data.append({\n",
        "                        'aplication_number': f\"AUG_{original_row['aplication_number']}_{i+j}\",\n",
        "                        'publication_number': f\"AUG_{original_row['publication_number']}_{i+j}\",\n",
        "                        'title': original_row['title'],  # Mantener título original\n",
        "                        text_col: aug_text,  # Abstract aumentado\n",
        "                        label_col: class_label,\n",
        "                        'gpu_used': gpu_id\n",
        "                    })\n",
        "\n",
        "            except Exception as e:\n",
        "                print(f\"Error en {'GPU' if gpu_id != 'cpu' else 'CPU'} {gpu_id}: {e}\")\n",
        "                # Fallback: duplicar datos originales\n",
        "                for j, text in enumerate(batch_texts):\n",
        "                    original_row = df[df[label_col] == class_label].iloc[j % len(class_texts)]\n",
        "\n",
        "                    augmented_data.append({\n",
        "                        'aplication_number': f\"DUP_{original_row['aplication_number']}_{i+j}\",\n",
        "                        'publication_number': f\"DUP_{original_row['publication_number']}_{i+j}\",\n",
        "                        'title': original_row['title'],\n",
        "                        text_col: text,\n",
        "                        label_col: class_label,\n",
        "                        'gpu_used': gpu_id\n",
        "                    })\n",
        "\n",
        "        print(f\"✅ {'GPU' if gpu_id != 'cpu' else 'CPU'} {gpu_id}: Completada clase {class_label}\")\n",
        "        return augmented_data\n",
        "\n",
        "    # Preparar trabajos para cada GPU\n",
        "    jobs = []\n",
        "    gpu_idx = 0\n",
        "\n",
        "    for class_label, current_count in class_counts.items():\n",
        "        needed = target_count - current_count\n",
        "        if needed <= 0:\n",
        "            print(f\"Clase {class_label} ya tiene suficientes muestras ({current_count:,})\")\n",
        "            continue\n",
        "\n",
        "        class_texts = df[df[label_col] == class_label][text_col].tolist()\n",
        "        gpu_id = gpu_ids[gpu_idx % len(gpu_ids)]\n",
        "\n",
        "        jobs.append((class_label, needed, class_texts, gpu_id))\n",
        "        gpu_idx += 1\n",
        "\n",
        "        print(f\"📋 Clase {class_label}: necesita {needed:,} muestras adicionales -> {'GPU' if gpu_id != 'cpu' else 'CPU'} {gpu_id}\")\n",
        "\n",
        "    if not jobs:\n",
        "        print(\"✅ El dataset ya está balanceado\")\n",
        "        return df\n",
        "\n",
        "    # Ejecutar en paralelo\n",
        "    all_augmented_data = []\n",
        "    with ThreadPoolExecutor(max_workers=len(gpu_ids)) as executor:\n",
        "        results = executor.map(process_class_on_gpu, jobs)\n",
        "\n",
        "        for result in results:\n",
        "            all_augmented_data.extend(result)\n",
        "\n",
        "    # Combinar resultados\n",
        "    if all_augmented_data:\n",
        "        augmented_df = pd.DataFrame(all_augmented_data)\n",
        "        balanced_df = pd.concat([df, augmented_df], ignore_index=True)\n",
        "    else:\n",
        "        balanced_df = df.copy()\n",
        "\n",
        "    print(f\"\\n🎉 Completado!\")\n",
        "    print(f\"Total original: {len(df):,}\")\n",
        "    print(f\"Total final: {len(balanced_df):,}\")\n",
        "    print(f\"Muestras añadidas: {len(all_augmented_data):,}\")\n",
        "\n",
        "    # Mostrar distribución final\n",
        "    final_counts = balanced_df[label_col].value_counts()\n",
        "    print(f\"\\nDistribución final:\")\n",
        "    for class_label, count in final_counts.items():\n",
        "        print(f\"  {class_label}: {count:,}\")\n",
        "\n",
        "    # Mostrar uso por GPU\n",
        "    if len(all_augmented_data) > 0:\n",
        "        augmented_df_temp = pd.DataFrame(all_augmented_data)\n",
        "        gpu_usage = augmented_df_temp['gpu_used'].value_counts()\n",
        "        print(\"\\nUso por GPU:\")\n",
        "        for gpu_id, count in gpu_usage.items():\n",
        "            print(f\"  {'GPU' if gpu_id != 'cpu' else 'CPU'} {gpu_id}: {count:,} muestras\")\n",
        "\n",
        "    return balanced_df"
      ]
    },
    {
      "cell_type": "code",
      "execution_count": 77,
      "id": "719515ce",
      "metadata": {
        "id": "719515ce"
      },
      "outputs": [],
      "source": [
        "# # Usar con 1 GPU\n",
        "# balanced_df = balance_with_multi_gpu(df, gpu_ids=[0])\n",
        "\n",
        "# # Usar con 2 GPUs\n",
        "# # balanced_df = balance_with_multi_gpu(df, gpu_ids=[0, 1])"
      ]
    },
    {
      "cell_type": "code",
      "execution_count": 78,
      "id": "322f2987",
      "metadata": {
        "id": "322f2987"
      },
      "outputs": [],
      "source": [
        "# balanced_df.to_csv(path_dataset + \"/patentes_target_balanced.csv\", index=False)"
      ]
    },
    {
      "cell_type": "code",
      "execution_count": 79,
      "id": "d28402c9",
      "metadata": {
        "id": "d28402c9"
      },
      "outputs": [],
      "source": [
        "\n",
        "# df_example = pd.DataFrame(sample_data)\n",
        "# print(\"Datos de ejemplo:\")\n",
        "# print(df_example.head())\n",
        "# print(f\"\\nDistribución original:\")\n",
        "# print(df_example['decision'].value_counts())\n",
        "\n",
        "# # Simular el balanceo (sin GPUs reales para el ejemplo)\n",
        "# print(\"\\n\" + \"=\"*50)\n",
        "# print(\"SIMULACIÓN DE BALANCEO\")\n",
        "# print(\"=\"*50)\n",
        "\n",
        "# # balanced_df = balance_with_multi_gpu(df_example, gpu_ids=[0])"
      ]
    },
    {
      "cell_type": "code",
      "execution_count": null,
      "id": "7-naEMyyTQ7_",
      "metadata": {
        "id": "7-naEMyyTQ7_"
      },
      "outputs": [],
      "source": [
        "def balance_with_multi_gpu_parallel(df, text_col='abstract', label_col='decision', gpu_ids=[0, 1]):\n",
        "    \"\"\"Balancea dataset usando múltiples GPUs con paralelización intra-clase\"\"\"\n",
        "    # Verificar GPUs disponibles\n",
        "    available_gpus = torch.cuda.device_count() if torch.cuda.is_available() else 0\n",
        "    print(f\"GPUs disponibles: {available_gpus}\")\n",
        "\n",
        "    if available_gpus == 0:\n",
        "        print(\"⚠️ No hay GPUs disponibles, usando CPU\")\n",
        "        gpu_ids = ['cpu']\n",
        "    elif available_gpus < len(gpu_ids):\n",
        "        print(f\"⚠️ Solo {available_gpus} GPUs disponibles, usando las primeras {available_gpus}\")\n",
        "        gpu_ids = gpu_ids[:available_gpus]\n",
        "\n",
        "    # Crear augmenters para cada GPU\n",
        "    augmenters = {}\n",
        "    for gpu_id in gpu_ids:\n",
        "        device = f'cuda:{gpu_id}' if gpu_id != 'cpu' else 'cpu'\n",
        "        augmenters[gpu_id] = naw.ContextualWordEmbsAug(\n",
        "            model_path='bert-base-multilingual-uncased',\n",
        "            aug_p=0.1,\n",
        "            device=device\n",
        "        )\n",
        "        print(f\"✅ Augmenter creado en {'GPU' if gpu_id != 'cpu' else 'CPU'} {gpu_id}\")\n",
        "\n",
        "    # Análisis de clases\n",
        "    class_counts = df[label_col].value_counts()\n",
        "    target_count = class_counts.max()\n",
        "\n",
        "    print(f\"\\nDistribución actual:\")\n",
        "    for class_label, count in class_counts.items():\n",
        "        print(f\"  {class_label}: {count:,}\")\n",
        "    print(f\"\\nObjetivo: {target_count:,} muestras por clase\")\n",
        "\n",
        "    def process_batch_on_gpu(args):\n",
        "        \"\"\"Procesa un lote de una clase en una GPU específica\"\"\"\n",
        "        class_label, batch_start, batch_size, class_texts, gpu_id, total_needed = args\n",
        "\n",
        "        augmenter = augmenters[gpu_id]\n",
        "        augmented_data = []\n",
        "\n",
        "        batch_end = min(batch_start + batch_size, total_needed)\n",
        "        actual_batch_size = batch_end - batch_start\n",
        "        print(\"actual_batch_size\", actual_batch_size, \"batch_end\", batch_end, \"batch_start\", batch_start)\n",
        "\n",
        "        print(f\"🚀 {'GPU' if gpu_id != 'cpu' else 'CPU'} {gpu_id}: Procesando clase {class_label} \"\n",
        "              f\"[{batch_start:,}-{batch_end:,}] ({actual_batch_size:,} muestras)\")\n",
        "\n",
        "            \n",
        "        # Procesar en mini-batches\n",
        "        mini_batch_size = 16\n",
        "        for i in range(0, actual_batch_size, mini_batch_size):\n",
        "            mini_end = min(i + mini_batch_size, actual_batch_size)\n",
        "            print(\"desde\", i, \"hasta\", mini_end, \"mini_batch_size\", mini_batch_size, \"actual_batch_size\", actual_batch_size)\n",
        "            mini_texts = [class_texts[j % len(class_texts)] for j in range(i, mini_end)]\n",
        "            print(f\"  Procesando mini-batch {i // mini_batch_size + 1}, i {i}, mini_end {mini_end}, mini_texts {len(mini_texts)}\")\n",
        "\n",
        "            try:\n",
        "                augmented_batch = augmenter.augment(mini_texts, \n",
        "                                                    n=math.ceil((batch_end - i) / len(class_texts)),\n",
        "                                                    num_thread=1 if gpu_id == 'cpu' else 4)\n",
        "\n",
        "                for j, aug_text in enumerate(augmented_batch):\n",
        "                    # Mantener las columnas originales del dataframe\n",
        "                    original_idx = (i + j) % len(class_texts)\n",
        "                    original_row = df[df[label_col] == class_label].iloc[original_idx]\n",
        "\n",
        "                    global_idx = batch_start + i + j\n",
        "                    augmented_data.append({\n",
        "                        'aplication_number': f\"AUG_GPU{gpu_id}_{original_row['aplication_number']}_{global_idx}\",\n",
        "                        'publication_number': f\"AUG_GPU{gpu_id}_{original_row['publication_number']}_{global_idx}\",\n",
        "                        'title': original_row['title'],\n",
        "                        text_col: aug_text,\n",
        "                        label_col: class_label,\n",
        "                        'gpu_used': gpu_id,\n",
        "                        'batch_id': f\"{class_label}_GPU{gpu_id}_{batch_start}-{batch_end}\"\n",
        "                    })\n",
        "\n",
        "            except Exception as e:\n",
        "                print(f\"Error en {'GPU' if gpu_id != 'cpu' else 'CPU'} {gpu_id}: {e}\")\n",
        "                # Fallback\n",
        "                for j, text in enumerate(mini_texts):\n",
        "                    original_idx = (i + j) % len(class_texts)\n",
        "                    original_row = df[df[label_col] == class_label].iloc[original_idx]\n",
        "\n",
        "                    global_idx = batch_start + i + j\n",
        "                    augmented_data.append({\n",
        "                        'aplication_number': f\"DUP_GPU{gpu_id}_{original_row['aplication_number']}_{global_idx}\",\n",
        "                        'publication_number': f\"DUP_GPU{gpu_id}_{original_row['publication_number']}_{global_idx}\",\n",
        "                        'title': original_row['title'],\n",
        "                        text_col: text,\n",
        "                        label_col: class_label,\n",
        "                        'gpu_used': gpu_id,\n",
        "                        'batch_id': f\"{class_label}_GPU{gpu_id}_{batch_start}-{batch_end}\"\n",
        "                    })\n",
        "            finally:\n",
        "                print(f\"✅ {'GPU' if gpu_id != 'cpu' else 'CPU'} {gpu_id}: Completado lote {class_label} batch {i // batch_size + 1} ({len(augmented_data):,} muestras), i {i})\")\n",
        "\n",
        "        print(f\"✅ {'GPU' if gpu_id != 'cpu' else 'CPU'} {gpu_id}: Completado lote {class_label} \"\n",
        "              f\"[{batch_start:,}-{batch_end:,}] - {len(augmented_data)} muestras generadas\")\n",
        "        return augmented_data\n",
        "\n",
        "    # Preparar trabajos dividiendo cada clase entre GPUs\n",
        "    all_jobs = []\n",
        "\n",
        "    for class_label, current_count in class_counts.items():\n",
        "        needed = target_count - current_count\n",
        "        \n",
        "        if needed <= 0:\n",
        "            print(f\"Clase {class_label} ya tiene suficientes muestras ({current_count:,})\")\n",
        "            continue\n",
        "\n",
        "        print(\"needed\", needed, \"needed menos\", 5000)\n",
        "        needed = 5000\n",
        "        \n",
        "        class_texts = df[df[label_col] == class_label][text_col].tolist()\n",
        "        class_texts.reverse()\n",
        "\n",
        "        num_batches = 8  # O el número de hilos que quieras\n",
        "        batch_size = math.ceil(needed / num_batches)\n",
        "        for i in range(num_batches):\n",
        "            batch_start = i * batch_size\n",
        "            if batch_start >= needed:\n",
        "                break\n",
        "            this_batch_size = min(batch_size, needed - batch_start)\n",
        "            all_jobs.append((class_label, batch_start, this_batch_size, class_texts, gpu_ids[0], needed))\n",
        "\n",
        "\n",
        "        # # Dividir el trabajo de esta clase entre todas las GPUs disponibles\n",
        "        # samples_per_gpu = math.ceil(needed / len(gpu_ids))\n",
        "\n",
        "        # print(f\"\\n📋 Clase {class_label}: necesita {needed:,} muestras adicionales\")\n",
        "        # print(f\"   Dividiendo en ~{samples_per_gpu:,} muestras por GPU\")\n",
        "\n",
        "        # for i, gpu_id in enumerate(gpu_ids):\n",
        "        #     batch_start = i * samples_per_gpu\n",
        "        #     if batch_start >= needed:\n",
        "        #         break  # Ya no hay más trabajo para esta GPU\n",
        "\n",
        "        #     batch_size = min(samples_per_gpu, needed - batch_start)\n",
        "\n",
        "        #     all_jobs.append((class_label, batch_start, batch_size, class_texts, gpu_id, needed))\n",
        "\n",
        "        #     print(f\"   -> {'GPU' if gpu_id != 'cpu' else 'CPU'} {gpu_id}: \"\n",
        "        #           f\"muestras {batch_start:,}-{batch_start + batch_size:,} ({batch_size:,} muestras)\")\n",
        "\n",
        "    if not all_jobs:\n",
        "        print(\"✅ El dataset ya está balanceado\")\n",
        "        return df\n",
        "\n",
        "    print(f\"\\n🔥 Total de trabajos paralelos: {len(all_jobs)}\")\n",
        "\n",
        "    # Ejecutar todos los trabajos en paralelo\n",
        "    all_augmented_data = []\n",
        "    max_workers = min(len(all_jobs), len(gpu_ids) * 2)  # Limitar workers\n",
        "    # max_workers = len(all_jobs)\n",
        "    print(\"max_workers\", max_workers, len(all_jobs), len(gpu_ids))\n",
        "\n",
        "    with ThreadPoolExecutor(max_workers=max_workers) as executor:\n",
        "        results = executor.map(process_batch_on_gpu, all_jobs)\n",
        "\n",
        "        for result in results:\n",
        "            all_augmented_data.extend(result)\n",
        "\n",
        "    # Combinar resultados\n",
        "    if all_augmented_data:\n",
        "        augmented_df = pd.DataFrame(all_augmented_data)\n",
        "        balanced_df = pd.concat([df, augmented_df], ignore_index=True)\n",
        "    else:\n",
        "        balanced_df = df.copy()\n",
        "\n",
        "    print(f\"\\n🎉 Completado!\")\n",
        "    print(f\"Total original: {len(df):,}\")\n",
        "    print(f\"Total final: {len(balanced_df):,}\")\n",
        "    print(f\"Muestras añadidas: {len(all_augmented_data):,}\")\n",
        "\n",
        "    # Mostrar distribución final\n",
        "    final_counts = balanced_df[label_col].value_counts()\n",
        "    print(f\"\\nDistribución final:\")\n",
        "    for class_label, count in final_counts.items():\n",
        "        print(f\"  {class_label}: {count:,}\")\n",
        "\n",
        "    # Mostrar uso detallado por GPU\n",
        "    if len(all_augmented_data) > 0:\n",
        "        augmented_df_temp = pd.DataFrame(all_augmented_data)\n",
        "\n",
        "        print(\"\\n📊 Uso detallado por GPU:\")\n",
        "        gpu_usage = augmented_df_temp.groupby(['gpu_used', label_col]).size().reset_index(name='count')\n",
        "\n",
        "        for gpu_id in gpu_ids:\n",
        "            gpu_data = gpu_usage[gpu_usage['gpu_used'] == gpu_id]\n",
        "            total_gpu = gpu_data['count'].sum()\n",
        "            print(f\"\\n  {'GPU' if gpu_id != 'cpu' else 'CPU'} {gpu_id}: {total_gpu:,} muestras totales\")\n",
        "\n",
        "            for _, row in gpu_data.iterrows():\n",
        "                print(f\"    - {row[label_col]}: {row['count']:,}\")\n",
        "\n",
        "    return balanced_df"
      ]
    },
    {
      "cell_type": "code",
      "execution_count": 81,
      "id": "fVngzALZTSVA",
      "metadata": {
        "colab": {
          "base_uri": "https://localhost:8080/"
        },
        "id": "fVngzALZTSVA",
        "outputId": "c68daefe-e359-420f-9915-4da9e26165c9"
      },
      "outputs": [
        {
          "name": "stdout",
          "output_type": "stream",
          "text": [
            "GPUs disponibles: 0\n",
            "⚠️ No hay GPUs disponibles, usando CPU\n",
            "✅ Augmenter creado en CPU cpu\n",
            "\n",
            "Distribución actual:\n",
            "  ACCEPTED: 579,769\n",
            "  REJECTED: 178,623\n",
            "\n",
            "Objetivo: 579,769 muestras por clase\n",
            "Clase ACCEPTED ya tiene suficientes muestras (579,769)\n",
            "needed 401146 needed menos 1000\n",
            "\n",
            "🔥 Total de trabajos paralelos: 8\n",
            "max_workers 2 8 1\n",
            "actual_batch_size 125 batch_end 125 batch_start 0\n",
            "🚀 CPU cpu: Procesando clase REJECTED [0-125] (125 muestras)\n",
            "desde 0 hasta 16 mini_batch_size 16 actual_batch_size 125\n",
            "  Procesando mini-batch 1, i 0, mini_end 16, mini_texts 16\n",
            "actual_batch_size 125 batch_end 250 batch_start 125\n",
            "🚀 CPU cpu: Procesando clase REJECTED [125-250] (125 muestras)\n",
            "desde 0 hasta 16 mini_batch_size 16 actual_batch_size 125\n",
            "  Procesando mini-batch 1, i 0, mini_end 16, mini_texts 16\n",
            "✅ CPU cpu: Completado lote REJECTED batch 1 (16 muestras), i 0)\n",
            "desde 16 hasta 32 mini_batch_size 16 actual_batch_size 125\n",
            "  Procesando mini-batch 2, i 16, mini_end 32, mini_texts 16\n",
            "✅ CPU cpu: Completado lote REJECTED batch 1 (16 muestras), i 0)\n",
            "desde 16 hasta 32 mini_batch_size 16 actual_batch_size 125\n",
            "  Procesando mini-batch 2, i 16, mini_end 32, mini_texts 16\n",
            "✅ CPU cpu: Completado lote REJECTED batch 1 (32 muestras), i 16)\n",
            "desde 32 hasta 48 mini_batch_size 16 actual_batch_size 125\n",
            "  Procesando mini-batch 3, i 32, mini_end 48, mini_texts 16\n",
            "✅ CPU cpu: Completado lote REJECTED batch 1 (32 muestras), i 16)\n",
            "desde 32 hasta 48 mini_batch_size 16 actual_batch_size 125\n",
            "  Procesando mini-batch 3, i 32, mini_end 48, mini_texts 16\n",
            "✅ CPU cpu: Completado lote REJECTED batch 1 (48 muestras), i 32)\n",
            "desde 48 hasta 64 mini_batch_size 16 actual_batch_size 125\n",
            "  Procesando mini-batch 4, i 48, mini_end 64, mini_texts 16\n",
            "✅ CPU cpu: Completado lote REJECTED batch 1 (48 muestras), i 32)\n",
            "desde 48 hasta 64 mini_batch_size 16 actual_batch_size 125\n",
            "  Procesando mini-batch 4, i 48, mini_end 64, mini_texts 16\n",
            "✅ CPU cpu: Completado lote REJECTED batch 1 (64 muestras), i 48)\n",
            "desde 64 hasta 80 mini_batch_size 16 actual_batch_size 125\n",
            "  Procesando mini-batch 5, i 64, mini_end 80, mini_texts 16\n",
            "✅ CPU cpu: Completado lote REJECTED batch 1 (64 muestras), i 48)\n",
            "desde 64 hasta 80 mini_batch_size 16 actual_batch_size 125\n",
            "  Procesando mini-batch 5, i 64, mini_end 80, mini_texts 16\n",
            "✅ CPU cpu: Completado lote REJECTED batch 1 (80 muestras), i 64)\n",
            "desde 80 hasta 96 mini_batch_size 16 actual_batch_size 125\n",
            "  Procesando mini-batch 6, i 80, mini_end 96, mini_texts 16\n",
            "✅ CPU cpu: Completado lote REJECTED batch 1 (80 muestras), i 64)\n",
            "desde 80 hasta 96 mini_batch_size 16 actual_batch_size 125\n",
            "  Procesando mini-batch 6, i 80, mini_end 96, mini_texts 16\n",
            "✅ CPU cpu: Completado lote REJECTED batch 1 (96 muestras), i 80)\n",
            "desde 96 hasta 112 mini_batch_size 16 actual_batch_size 125\n",
            "  Procesando mini-batch 7, i 96, mini_end 112, mini_texts 16\n",
            "✅ CPU cpu: Completado lote REJECTED batch 1 (96 muestras), i 80)\n",
            "desde 96 hasta 112 mini_batch_size 16 actual_batch_size 125\n",
            "  Procesando mini-batch 7, i 96, mini_end 112, mini_texts 16\n",
            "✅ CPU cpu: Completado lote REJECTED batch 1 (112 muestras), i 96)\n",
            "desde 112 hasta 125 mini_batch_size 16 actual_batch_size 125\n",
            "  Procesando mini-batch 8, i 112, mini_end 125, mini_texts 13\n",
            "✅ CPU cpu: Completado lote REJECTED batch 1 (112 muestras), i 96)\n",
            "desde 112 hasta 125 mini_batch_size 16 actual_batch_size 125\n",
            "  Procesando mini-batch 8, i 112, mini_end 125, mini_texts 13\n",
            "✅ CPU cpu: Completado lote REJECTED batch 1 (125 muestras), i 112)\n",
            "✅ CPU cpu: Completado lote REJECTED [0-125] - 125 muestras generadas\n",
            "actual_batch_size 125 batch_end 375 batch_start 250\n",
            "🚀 CPU cpu: Procesando clase REJECTED [250-375] (125 muestras)\n",
            "desde 0 hasta 16 mini_batch_size 16 actual_batch_size 125\n",
            "  Procesando mini-batch 1, i 0, mini_end 16, mini_texts 16\n",
            "✅ CPU cpu: Completado lote REJECTED batch 1 (125 muestras), i 112)\n",
            "✅ CPU cpu: Completado lote REJECTED [125-250] - 125 muestras generadas\n",
            "actual_batch_size 125 batch_end 500 batch_start 375\n",
            "🚀 CPU cpu: Procesando clase REJECTED [375-500] (125 muestras)\n",
            "desde 0 hasta 16 mini_batch_size 16 actual_batch_size 125\n",
            "  Procesando mini-batch 1, i 0, mini_end 16, mini_texts 16\n",
            "✅ CPU cpu: Completado lote REJECTED batch 1 (16 muestras), i 0)\n",
            "desde 16 hasta 32 mini_batch_size 16 actual_batch_size 125\n",
            "  Procesando mini-batch 2, i 16, mini_end 32, mini_texts 16\n",
            "✅ CPU cpu: Completado lote REJECTED batch 1 (16 muestras), i 0)\n",
            "desde 16 hasta 32 mini_batch_size 16 actual_batch_size 125\n",
            "  Procesando mini-batch 2, i 16, mini_end 32, mini_texts 16\n",
            "✅ CPU cpu: Completado lote REJECTED batch 1 (32 muestras), i 16)\n",
            "desde 32 hasta 48 mini_batch_size 16 actual_batch_size 125\n",
            "  Procesando mini-batch 3, i 32, mini_end 48, mini_texts 16\n",
            "✅ CPU cpu: Completado lote REJECTED batch 1 (32 muestras), i 16)\n",
            "desde 32 hasta 48 mini_batch_size 16 actual_batch_size 125\n",
            "  Procesando mini-batch 3, i 32, mini_end 48, mini_texts 16\n",
            "✅ CPU cpu: Completado lote REJECTED batch 1 (48 muestras), i 32)\n",
            "desde 48 hasta 64 mini_batch_size 16 actual_batch_size 125\n",
            "  Procesando mini-batch 4, i 48, mini_end 64, mini_texts 16\n",
            "✅ CPU cpu: Completado lote REJECTED batch 1 (48 muestras), i 32)\n",
            "desde 48 hasta 64 mini_batch_size 16 actual_batch_size 125\n",
            "  Procesando mini-batch 4, i 48, mini_end 64, mini_texts 16\n",
            "✅ CPU cpu: Completado lote REJECTED batch 1 (64 muestras), i 48)\n",
            "desde 64 hasta 80 mini_batch_size 16 actual_batch_size 125\n",
            "  Procesando mini-batch 5, i 64, mini_end 80, mini_texts 16\n",
            "✅ CPU cpu: Completado lote REJECTED batch 1 (64 muestras), i 48)\n",
            "desde 64 hasta 80 mini_batch_size 16 actual_batch_size 125\n",
            "  Procesando mini-batch 5, i 64, mini_end 80, mini_texts 16\n",
            "✅ CPU cpu: Completado lote REJECTED batch 1 (80 muestras), i 64)\n",
            "desde 80 hasta 96 mini_batch_size 16 actual_batch_size 125\n",
            "  Procesando mini-batch 6, i 80, mini_end 96, mini_texts 16\n",
            "✅ CPU cpu: Completado lote REJECTED batch 1 (80 muestras), i 64)\n",
            "desde 80 hasta 96 mini_batch_size 16 actual_batch_size 125\n",
            "  Procesando mini-batch 6, i 80, mini_end 96, mini_texts 16\n",
            "✅ CPU cpu: Completado lote REJECTED batch 1 (96 muestras), i 80)\n",
            "desde 96 hasta 112 mini_batch_size 16 actual_batch_size 125\n",
            "  Procesando mini-batch 7, i 96, mini_end 112, mini_texts 16\n",
            "✅ CPU cpu: Completado lote REJECTED batch 1 (96 muestras), i 80)\n",
            "desde 96 hasta 112 mini_batch_size 16 actual_batch_size 125\n",
            "  Procesando mini-batch 7, i 96, mini_end 112, mini_texts 16\n",
            "✅ CPU cpu: Completado lote REJECTED batch 1 (112 muestras), i 96)\n",
            "desde 112 hasta 125 mini_batch_size 16 actual_batch_size 125\n",
            "  Procesando mini-batch 8, i 112, mini_end 125, mini_texts 13\n",
            "✅ CPU cpu: Completado lote REJECTED batch 1 (112 muestras), i 96)\n",
            "desde 112 hasta 125 mini_batch_size 16 actual_batch_size 125\n",
            "  Procesando mini-batch 8, i 112, mini_end 125, mini_texts 13\n",
            "✅ CPU cpu: Completado lote REJECTED batch 1 (125 muestras), i 112)\n",
            "✅ CPU cpu: Completado lote REJECTED [250-375] - 125 muestras generadas\n",
            "actual_batch_size 125 batch_end 625 batch_start 500\n",
            "🚀 CPU cpu: Procesando clase REJECTED [500-625] (125 muestras)\n",
            "desde 0 hasta 16 mini_batch_size 16 actual_batch_size 125\n",
            "  Procesando mini-batch 1, i 0, mini_end 16, mini_texts 16\n",
            "✅ CPU cpu: Completado lote REJECTED batch 1 (125 muestras), i 112)\n",
            "✅ CPU cpu: Completado lote REJECTED [375-500] - 125 muestras generadas\n",
            "actual_batch_size 125 batch_end 750 batch_start 625\n",
            "🚀 CPU cpu: Procesando clase REJECTED [625-750] (125 muestras)\n",
            "desde 0 hasta 16 mini_batch_size 16 actual_batch_size 125\n",
            "  Procesando mini-batch 1, i 0, mini_end 16, mini_texts 16\n",
            "✅ CPU cpu: Completado lote REJECTED batch 1 (16 muestras), i 0)\n",
            "desde 16 hasta 32 mini_batch_size 16 actual_batch_size 125\n",
            "  Procesando mini-batch 2, i 16, mini_end 32, mini_texts 16\n",
            "✅ CPU cpu: Completado lote REJECTED batch 1 (16 muestras), i 0)\n",
            "desde 16 hasta 32 mini_batch_size 16 actual_batch_size 125\n",
            "  Procesando mini-batch 2, i 16, mini_end 32, mini_texts 16\n",
            "✅ CPU cpu: Completado lote REJECTED batch 1 (32 muestras), i 16)\n",
            "desde 32 hasta 48 mini_batch_size 16 actual_batch_size 125\n",
            "  Procesando mini-batch 3, i 32, mini_end 48, mini_texts 16\n",
            "✅ CPU cpu: Completado lote REJECTED batch 1 (32 muestras), i 16)\n",
            "desde 32 hasta 48 mini_batch_size 16 actual_batch_size 125\n",
            "  Procesando mini-batch 3, i 32, mini_end 48, mini_texts 16\n",
            "✅ CPU cpu: Completado lote REJECTED batch 1 (48 muestras), i 32)\n",
            "desde 48 hasta 64 mini_batch_size 16 actual_batch_size 125\n",
            "  Procesando mini-batch 4, i 48, mini_end 64, mini_texts 16\n",
            "✅ CPU cpu: Completado lote REJECTED batch 1 (48 muestras), i 32)\n",
            "desde 48 hasta 64 mini_batch_size 16 actual_batch_size 125\n",
            "  Procesando mini-batch 4, i 48, mini_end 64, mini_texts 16\n",
            "✅ CPU cpu: Completado lote REJECTED batch 1 (64 muestras), i 48)\n",
            "desde 64 hasta 80 mini_batch_size 16 actual_batch_size 125\n",
            "  Procesando mini-batch 5, i 64, mini_end 80, mini_texts 16\n",
            "✅ CPU cpu: Completado lote REJECTED batch 1 (64 muestras), i 48)\n",
            "desde 64 hasta 80 mini_batch_size 16 actual_batch_size 125\n",
            "  Procesando mini-batch 5, i 64, mini_end 80, mini_texts 16\n",
            "✅ CPU cpu: Completado lote REJECTED batch 1 (80 muestras), i 64)\n",
            "desde 80 hasta 96 mini_batch_size 16 actual_batch_size 125\n",
            "  Procesando mini-batch 6, i 80, mini_end 96, mini_texts 16\n",
            "✅ CPU cpu: Completado lote REJECTED batch 1 (80 muestras), i 64)\n",
            "desde 80 hasta 96 mini_batch_size 16 actual_batch_size 125\n",
            "  Procesando mini-batch 6, i 80, mini_end 96, mini_texts 16\n",
            "✅ CPU cpu: Completado lote REJECTED batch 1 (96 muestras), i 80)\n",
            "desde 96 hasta 112 mini_batch_size 16 actual_batch_size 125\n",
            "  Procesando mini-batch 7, i 96, mini_end 112, mini_texts 16\n",
            "✅ CPU cpu: Completado lote REJECTED batch 1 (96 muestras), i 80)\n",
            "desde 96 hasta 112 mini_batch_size 16 actual_batch_size 125\n",
            "  Procesando mini-batch 7, i 96, mini_end 112, mini_texts 16\n",
            "✅ CPU cpu: Completado lote REJECTED batch 1 (112 muestras), i 96)\n",
            "desde 112 hasta 125 mini_batch_size 16 actual_batch_size 125\n",
            "  Procesando mini-batch 8, i 112, mini_end 125, mini_texts 13\n",
            "✅ CPU cpu: Completado lote REJECTED batch 1 (112 muestras), i 96)\n",
            "desde 112 hasta 125 mini_batch_size 16 actual_batch_size 125\n",
            "  Procesando mini-batch 8, i 112, mini_end 125, mini_texts 13\n",
            "✅ CPU cpu: Completado lote REJECTED batch 1 (125 muestras), i 112)\n",
            "✅ CPU cpu: Completado lote REJECTED [500-625] - 125 muestras generadas\n",
            "actual_batch_size 125 batch_end 875 batch_start 750\n",
            "🚀 CPU cpu: Procesando clase REJECTED [750-875] (125 muestras)\n",
            "desde 0 hasta 16 mini_batch_size 16 actual_batch_size 125\n",
            "  Procesando mini-batch 1, i 0, mini_end 16, mini_texts 16\n",
            "✅ CPU cpu: Completado lote REJECTED batch 1 (125 muestras), i 112)\n",
            "✅ CPU cpu: Completado lote REJECTED [625-750] - 125 muestras generadas\n",
            "actual_batch_size 125 batch_end 1000 batch_start 875\n",
            "🚀 CPU cpu: Procesando clase REJECTED [875-1,000] (125 muestras)\n",
            "desde 0 hasta 16 mini_batch_size 16 actual_batch_size 125\n",
            "  Procesando mini-batch 1, i 0, mini_end 16, mini_texts 16\n",
            "✅ CPU cpu: Completado lote REJECTED batch 1 (16 muestras), i 0)\n",
            "desde 16 hasta 32 mini_batch_size 16 actual_batch_size 125\n",
            "  Procesando mini-batch 2, i 16, mini_end 32, mini_texts 16\n",
            "✅ CPU cpu: Completado lote REJECTED batch 1 (16 muestras), i 0)\n",
            "desde 16 hasta 32 mini_batch_size 16 actual_batch_size 125\n",
            "  Procesando mini-batch 2, i 16, mini_end 32, mini_texts 16\n",
            "✅ CPU cpu: Completado lote REJECTED batch 1 (32 muestras), i 16)\n",
            "desde 32 hasta 48 mini_batch_size 16 actual_batch_size 125\n",
            "  Procesando mini-batch 3, i 32, mini_end 48, mini_texts 16\n",
            "✅ CPU cpu: Completado lote REJECTED batch 1 (32 muestras), i 16)\n",
            "desde 32 hasta 48 mini_batch_size 16 actual_batch_size 125\n",
            "  Procesando mini-batch 3, i 32, mini_end 48, mini_texts 16\n",
            "✅ CPU cpu: Completado lote REJECTED batch 1 (48 muestras), i 32)\n",
            "desde 48 hasta 64 mini_batch_size 16 actual_batch_size 125\n",
            "  Procesando mini-batch 4, i 48, mini_end 64, mini_texts 16\n",
            "✅ CPU cpu: Completado lote REJECTED batch 1 (48 muestras), i 32)\n",
            "desde 48 hasta 64 mini_batch_size 16 actual_batch_size 125\n",
            "  Procesando mini-batch 4, i 48, mini_end 64, mini_texts 16\n",
            "✅ CPU cpu: Completado lote REJECTED batch 1 (64 muestras), i 48)\n",
            "desde 64 hasta 80 mini_batch_size 16 actual_batch_size 125\n",
            "  Procesando mini-batch 5, i 64, mini_end 80, mini_texts 16\n",
            "✅ CPU cpu: Completado lote REJECTED batch 1 (64 muestras), i 48)\n",
            "desde 64 hasta 80 mini_batch_size 16 actual_batch_size 125\n",
            "  Procesando mini-batch 5, i 64, mini_end 80, mini_texts 16\n",
            "✅ CPU cpu: Completado lote REJECTED batch 1 (80 muestras), i 64)\n",
            "desde 80 hasta 96 mini_batch_size 16 actual_batch_size 125\n",
            "  Procesando mini-batch 6, i 80, mini_end 96, mini_texts 16\n",
            "✅ CPU cpu: Completado lote REJECTED batch 1 (80 muestras), i 64)\n",
            "desde 80 hasta 96 mini_batch_size 16 actual_batch_size 125\n",
            "  Procesando mini-batch 6, i 80, mini_end 96, mini_texts 16\n",
            "✅ CPU cpu: Completado lote REJECTED batch 1 (96 muestras), i 80)\n",
            "desde 96 hasta 112 mini_batch_size 16 actual_batch_size 125\n",
            "  Procesando mini-batch 7, i 96, mini_end 112, mini_texts 16\n",
            "✅ CPU cpu: Completado lote REJECTED batch 1 (96 muestras), i 80)\n",
            "desde 96 hasta 112 mini_batch_size 16 actual_batch_size 125\n",
            "  Procesando mini-batch 7, i 96, mini_end 112, mini_texts 16\n",
            "✅ CPU cpu: Completado lote REJECTED batch 1 (112 muestras), i 96)\n",
            "desde 112 hasta 125 mini_batch_size 16 actual_batch_size 125\n",
            "  Procesando mini-batch 8, i 112, mini_end 125, mini_texts 13\n",
            "✅ CPU cpu: Completado lote REJECTED batch 1 (112 muestras), i 96)\n",
            "desde 112 hasta 125 mini_batch_size 16 actual_batch_size 125\n",
            "  Procesando mini-batch 8, i 112, mini_end 125, mini_texts 13\n",
            "✅ CPU cpu: Completado lote REJECTED batch 1 (125 muestras), i 112)\n",
            "✅ CPU cpu: Completado lote REJECTED [750-875] - 125 muestras generadas\n",
            "✅ CPU cpu: Completado lote REJECTED batch 1 (125 muestras), i 112)\n",
            "✅ CPU cpu: Completado lote REJECTED [875-1,000] - 125 muestras generadas\n",
            "\n",
            "🎉 Completado!\n",
            "Total original: 758,392\n",
            "Total final: 759,392\n",
            "Muestras añadidas: 1,000\n",
            "\n",
            "Distribución final:\n",
            "  ACCEPTED: 579,769\n",
            "  REJECTED: 179,623\n",
            "\n",
            "📊 Uso detallado por GPU:\n",
            "\n",
            "  CPU cpu: 1,000 muestras totales\n",
            "    - REJECTED: 1,000\n"
          ]
        }
      ],
      "source": [
        "balanced_df = balance_with_multi_gpu_parallel(df, gpu_ids=[0])\n",
        "# balanced_df = balance_with_multi_gpu_parallel(df, gpu_ids=[0, 1])\n",
        "\n",
        "# 100286 = 7h\n",
        "# 5000 = 424m local\n",
        "# 1000 = 90m local\n",
        "# 1000 = 93min local"
      ]
    },
    {
      "cell_type": "code",
      "execution_count": null,
      "id": "g6jvNVUKb495",
      "metadata": {
        "id": "g6jvNVUKb495"
      },
      "outputs": [],
      "source": [
        "balanced_df.to_csv(path_output + \"/patentes_target_balanced_15.csv\", index=False)"
      ]
    },
    {
      "cell_type": "code",
      "execution_count": null,
      "id": "72ec66f3",
      "metadata": {},
      "outputs": [
        {
          "name": "stdout",
          "output_type": "stream",
          "text": [
            "cantidad de 100286 en 8.702777777777778 horas\n"
          ]
        }
      ],
      "source": [
        "print(\"cantidad de\", ((((((579769 - 178623)//4))))), \"en\", ((((((579769 - 178623)//4)//32)*10)/60)/60), \"horas\")"
      ]
    },
    {
      "cell_type": "code",
      "execution_count": null,
      "id": "c315137e",
      "metadata": {},
      "outputs": [
        {
          "name": "stdout",
          "output_type": "stream",
          "text": [
            "cantidad de 6267 en 8.702777777777778 horas\n"
          ]
        }
      ],
      "source": [
        "print(\"cantidad de\", ((((((579769 - 178623)//64))))), \"en\", ((((((579769 - 178623)//4)//32)*10)/60)/60), \"horas\")\n"
      ]
    },
    {
      "cell_type": "markdown",
      "id": "32926ab9",
      "metadata": {},
      "source": [
        "72, 96"
      ]
    }
  ],
  "metadata": {
    "accelerator": "GPU",
    "colab": {
      "gpuType": "T4",
      "provenance": []
    },
    "kernelspec": {
      "display_name": "base",
      "language": "python",
      "name": "python3"
    },
    "language_info": {
      "codemirror_mode": {
        "name": "ipython",
        "version": 3
      },
      "file_extension": ".py",
      "mimetype": "text/x-python",
      "name": "python",
      "nbconvert_exporter": "python",
      "pygments_lexer": "ipython3",
      "version": "3.12.7"
    }
  },
  "nbformat": 4,
  "nbformat_minor": 5
}
