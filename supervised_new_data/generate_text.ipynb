{
 "cells": [
  {
   "cell_type": "code",
   "execution_count": 1,
   "id": "45ea98b8",
   "metadata": {},
   "outputs": [],
   "source": [
    "import pandas as pd"
   ]
  },
  {
   "cell_type": "code",
   "execution_count": 5,
   "id": "a1ab0456",
   "metadata": {},
   "outputs": [],
   "source": [
    "pd.set_option('display.max_columns', None)"
   ]
  },
  {
   "cell_type": "code",
   "execution_count": 3,
   "id": "d8634dd5",
   "metadata": {},
   "outputs": [],
   "source": [
    "df = pd.read_csv(\"./dataset/patentes_target_update.csv\")"
   ]
  },
  {
   "cell_type": "code",
   "execution_count": 6,
   "id": "f3de0827",
   "metadata": {},
   "outputs": [
    {
     "data": {
      "text/html": [
       "<div>\n",
       "<style scoped>\n",
       "    .dataframe tbody tr th:only-of-type {\n",
       "        vertical-align: middle;\n",
       "    }\n",
       "\n",
       "    .dataframe tbody tr th {\n",
       "        vertical-align: top;\n",
       "    }\n",
       "\n",
       "    .dataframe thead th {\n",
       "        text-align: right;\n",
       "    }\n",
       "</style>\n",
       "<table border=\"1\" class=\"dataframe\">\n",
       "  <thead>\n",
       "    <tr style=\"text-align: right;\">\n",
       "      <th></th>\n",
       "      <th>aplication_number</th>\n",
       "      <th>publication_number</th>\n",
       "      <th>title</th>\n",
       "      <th>abstract</th>\n",
       "      <th>decision</th>\n",
       "      <th>text</th>\n",
       "      <th>gpu_used</th>\n",
       "      <th>batch_id</th>\n",
       "    </tr>\n",
       "  </thead>\n",
       "  <tbody>\n",
       "    <tr>\n",
       "      <th>0</th>\n",
       "      <td>14176610</td>\n",
       "      <td>US20140159107A1-20140612</td>\n",
       "      <td>SEMICONDUCTOR DEVICE</td>\n",
       "      <td>Some aspects of the invention include a trench...</td>\n",
       "      <td>ACCEPTED</td>\n",
       "      <td>semiconductor device some aspects of the inven...</td>\n",
       "      <td>NaN</td>\n",
       "      <td>NaN</td>\n",
       "    </tr>\n",
       "    <tr>\n",
       "      <th>1</th>\n",
       "      <td>14176611</td>\n",
       "      <td>US20140225674A1-20140814</td>\n",
       "      <td>BI-DIRECTIONAL POWER SUPPLY SIGNAL BASED LINEA...</td>\n",
       "      <td>Circuitry, which includes a linear amplifier, ...</td>\n",
       "      <td>ACCEPTED</td>\n",
       "      <td>bi directional power supply signal based linea...</td>\n",
       "      <td>NaN</td>\n",
       "      <td>NaN</td>\n",
       "    </tr>\n",
       "    <tr>\n",
       "      <th>2</th>\n",
       "      <td>14176612</td>\n",
       "      <td>US20140212394A1-20140731</td>\n",
       "      <td>NOVEL VIP3 TOXINS AND METHODS OF USE</td>\n",
       "      <td>Nucleic acid molecules encoding novel Vip3 tox...</td>\n",
       "      <td>ACCEPTED</td>\n",
       "      <td>novel vip toxins and methods of use nucleic ac...</td>\n",
       "      <td>NaN</td>\n",
       "      <td>NaN</td>\n",
       "    </tr>\n",
       "    <tr>\n",
       "      <th>3</th>\n",
       "      <td>14176614</td>\n",
       "      <td>US20140227940A1-20140814</td>\n",
       "      <td>SOLAR-POWERED ROTATING ORNAMENTAL DEVICE</td>\n",
       "      <td>A device providing a spinning ornamental desig...</td>\n",
       "      <td>REJECTED</td>\n",
       "      <td>solar powered rotating ornamental device a dev...</td>\n",
       "      <td>NaN</td>\n",
       "      <td>NaN</td>\n",
       "    </tr>\n",
       "    <tr>\n",
       "      <th>4</th>\n",
       "      <td>14176615</td>\n",
       "      <td>US20140153098A1-20140605</td>\n",
       "      <td>OPTICAL FILTER AND OPTICAL MODULE HAVING OPTIC...</td>\n",
       "      <td>An optical filter includes a first substrate, ...</td>\n",
       "      <td>ACCEPTED</td>\n",
       "      <td>optical filter and optical module having optic...</td>\n",
       "      <td>NaN</td>\n",
       "      <td>NaN</td>\n",
       "    </tr>\n",
       "  </tbody>\n",
       "</table>\n",
       "</div>"
      ],
      "text/plain": [
       "   aplication_number        publication_number  \\\n",
       "0           14176610  US20140159107A1-20140612   \n",
       "1           14176611  US20140225674A1-20140814   \n",
       "2           14176612  US20140212394A1-20140731   \n",
       "3           14176614  US20140227940A1-20140814   \n",
       "4           14176615  US20140153098A1-20140605   \n",
       "\n",
       "                                               title  \\\n",
       "0                               SEMICONDUCTOR DEVICE   \n",
       "1  BI-DIRECTIONAL POWER SUPPLY SIGNAL BASED LINEA...   \n",
       "2               NOVEL VIP3 TOXINS AND METHODS OF USE   \n",
       "3           SOLAR-POWERED ROTATING ORNAMENTAL DEVICE   \n",
       "4  OPTICAL FILTER AND OPTICAL MODULE HAVING OPTIC...   \n",
       "\n",
       "                                            abstract  decision  \\\n",
       "0  Some aspects of the invention include a trench...  ACCEPTED   \n",
       "1  Circuitry, which includes a linear amplifier, ...  ACCEPTED   \n",
       "2  Nucleic acid molecules encoding novel Vip3 tox...  ACCEPTED   \n",
       "3  A device providing a spinning ornamental desig...  REJECTED   \n",
       "4  An optical filter includes a first substrate, ...  ACCEPTED   \n",
       "\n",
       "                                                text  gpu_used  batch_id  \n",
       "0  semiconductor device some aspects of the inven...       NaN       NaN  \n",
       "1  bi directional power supply signal based linea...       NaN       NaN  \n",
       "2  novel vip toxins and methods of use nucleic ac...       NaN       NaN  \n",
       "3  solar powered rotating ornamental device a dev...       NaN       NaN  \n",
       "4  optical filter and optical module having optic...       NaN       NaN  "
      ]
     },
     "execution_count": 6,
     "metadata": {},
     "output_type": "execute_result"
    }
   ],
   "source": [
    "df.head()"
   ]
  },
  {
   "cell_type": "code",
   "execution_count": 7,
   "id": "1b81aebd",
   "metadata": {},
   "outputs": [
    {
     "data": {
      "text/plain": [
       "5600664"
      ]
     },
     "execution_count": 7,
     "metadata": {},
     "output_type": "execute_result"
    }
   ],
   "source": [
    "df.size"
   ]
  },
  {
   "cell_type": "code",
   "execution_count": 8,
   "id": "584d474e",
   "metadata": {},
   "outputs": [
    {
     "data": {
      "text/plain": [
       "decision\n",
       "ACCEPTED    530501\n",
       "REJECTED    169582\n",
       "Name: count, dtype: int64"
      ]
     },
     "execution_count": 8,
     "metadata": {},
     "output_type": "execute_result"
    }
   ],
   "source": [
    "df[\"decision\"].value_counts()"
   ]
  },
  {
   "cell_type": "code",
   "execution_count": 12,
   "id": "13eabe53",
   "metadata": {},
   "outputs": [],
   "source": [
    "df_copy = df[[\"title\", \"abstract\", \"decision\"]].copy()\n",
    "# df_copy[\"text\"] = df_copy[\"title\"] + \" \" + df_copy[\"abstract\"]"
   ]
  },
  {
   "cell_type": "code",
   "execution_count": 13,
   "id": "37b070cc",
   "metadata": {},
   "outputs": [],
   "source": [
    "def equal_size_values(df: pd.DataFrame, column_target: str, l: int) -> pd.DataFrame:\n",
    "    \"\"\"\n",
    "    Selecciona las últimas l filas de cada valor único en column_target.\n",
    "    Si hay menos de l//2 muestras, repite aleatoriamente hasta alcanzar l//2.\n",
    "    \"\"\"\n",
    "    df_balanced = pd.DataFrame()\n",
    "    min_count = l // 2\n",
    "\n",
    "    for value in df[column_target].unique():\n",
    "        subset = df[df[column_target] == value]\n",
    "        # Selecciona las últimas l filas\n",
    "        subset_last = subset.iloc[-l:]\n",
    "        # Si hay menos de min_count, repite aleatoriamente hasta llegar a min_count\n",
    "        if len(subset_last) < min_count:\n",
    "            subset_last = subset_last.sample(min_count, replace=True, random_state=42)\n",
    "        df_balanced = pd.concat([df_balanced, subset_last], ignore_index=True)\n",
    "\n",
    "    return df_balanced"
   ]
  },
  {
   "cell_type": "code",
   "execution_count": 14,
   "id": "b4690f46",
   "metadata": {},
   "outputs": [],
   "source": [
    "count_rows = 100\n",
    "df_2 = equal_size_values(df_copy, 'decision', l=100)"
   ]
  },
  {
   "cell_type": "code",
   "execution_count": 15,
   "id": "1e8c77b7",
   "metadata": {},
   "outputs": [
    {
     "data": {
      "text/html": [
       "<div>\n",
       "<style scoped>\n",
       "    .dataframe tbody tr th:only-of-type {\n",
       "        vertical-align: middle;\n",
       "    }\n",
       "\n",
       "    .dataframe tbody tr th {\n",
       "        vertical-align: top;\n",
       "    }\n",
       "\n",
       "    .dataframe thead th {\n",
       "        text-align: right;\n",
       "    }\n",
       "</style>\n",
       "<table border=\"1\" class=\"dataframe\">\n",
       "  <thead>\n",
       "    <tr style=\"text-align: right;\">\n",
       "      <th></th>\n",
       "      <th>title</th>\n",
       "      <th>abstract</th>\n",
       "      <th>decision</th>\n",
       "    </tr>\n",
       "  </thead>\n",
       "  <tbody>\n",
       "    <tr>\n",
       "      <th>0</th>\n",
       "      <td>STOVE TOP FIRE EXTINGUISHING DEVICE</td>\n",
       "      <td>An apparatus is disclosed for extinguishing a ...</td>\n",
       "      <td>ACCEPTED</td>\n",
       "    </tr>\n",
       "    <tr>\n",
       "      <th>1</th>\n",
       "      <td>INTEGRATED CIRCUIT THAT CONTROLS A SEARCH SPAC...</td>\n",
       "      <td>An integrated circuit, for example, included i...</td>\n",
       "      <td>ACCEPTED</td>\n",
       "    </tr>\n",
       "    <tr>\n",
       "      <th>2</th>\n",
       "      <td>LONG CAMPAIGN LIFE STAVE COOLERS FOR CIRCULAR ...</td>\n",
       "      <td>Cast-iron and cast-copper stave coolers improv...</td>\n",
       "      <td>ACCEPTED</td>\n",
       "    </tr>\n",
       "    <tr>\n",
       "      <th>3</th>\n",
       "      <td>SEMICONDUCTOR PACKAGE STRUCTURE AND METHOD FOR...</td>\n",
       "      <td>A method for manufacturing a semiconductor pac...</td>\n",
       "      <td>ACCEPTED</td>\n",
       "    </tr>\n",
       "    <tr>\n",
       "      <th>4</th>\n",
       "      <td>FORECASTING AND CLASSIFYING CYBER-ATTACKS USIN...</td>\n",
       "      <td>A first collection including a first feature v...</td>\n",
       "      <td>ACCEPTED</td>\n",
       "    </tr>\n",
       "  </tbody>\n",
       "</table>\n",
       "</div>"
      ],
      "text/plain": [
       "                                               title  \\\n",
       "0                STOVE TOP FIRE EXTINGUISHING DEVICE   \n",
       "1  INTEGRATED CIRCUIT THAT CONTROLS A SEARCH SPAC...   \n",
       "2  LONG CAMPAIGN LIFE STAVE COOLERS FOR CIRCULAR ...   \n",
       "3  SEMICONDUCTOR PACKAGE STRUCTURE AND METHOD FOR...   \n",
       "4  FORECASTING AND CLASSIFYING CYBER-ATTACKS USIN...   \n",
       "\n",
       "                                            abstract  decision  \n",
       "0  An apparatus is disclosed for extinguishing a ...  ACCEPTED  \n",
       "1  An integrated circuit, for example, included i...  ACCEPTED  \n",
       "2  Cast-iron and cast-copper stave coolers improv...  ACCEPTED  \n",
       "3  A method for manufacturing a semiconductor pac...  ACCEPTED  \n",
       "4  A first collection including a first feature v...  ACCEPTED  "
      ]
     },
     "execution_count": 15,
     "metadata": {},
     "output_type": "execute_result"
    }
   ],
   "source": [
    "df_2.head()"
   ]
  },
  {
   "cell_type": "code",
   "execution_count": 16,
   "id": "af0ca90c",
   "metadata": {},
   "outputs": [
    {
     "data": {
      "text/plain": [
       "decision\n",
       "ACCEPTED    100\n",
       "REJECTED    100\n",
       "Name: count, dtype: int64"
      ]
     },
     "execution_count": 16,
     "metadata": {},
     "output_type": "execute_result"
    }
   ],
   "source": [
    "df_2[\"decision\"].value_counts()"
   ]
  },
  {
   "cell_type": "code",
   "execution_count": 18,
   "id": "5f9b3b6e",
   "metadata": {},
   "outputs": [],
   "source": [
    "df_2.to_csv(\"./dataset/dataset_test.csv\", index=False)"
   ]
  }
 ],
 "metadata": {
  "kernelspec": {
   "display_name": "base",
   "language": "python",
   "name": "python3"
  },
  "language_info": {
   "codemirror_mode": {
    "name": "ipython",
    "version": 3
   },
   "file_extension": ".py",
   "mimetype": "text/x-python",
   "name": "python",
   "nbconvert_exporter": "python",
   "pygments_lexer": "ipython3",
   "version": "3.12.7"
  }
 },
 "nbformat": 4,
 "nbformat_minor": 5
}
