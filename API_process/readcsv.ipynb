{
 "cells": [
  {
   "cell_type": "code",
   "execution_count": 180,
   "id": "1d6db7e1",
   "metadata": {},
   "outputs": [],
   "source": [
    "import glob\n",
    "import pandas as pd"
   ]
  },
  {
   "cell_type": "code",
   "execution_count": 181,
   "id": "41aa6923",
   "metadata": {},
   "outputs": [
    {
     "data": {
      "text/plain": [
       "21"
      ]
     },
     "execution_count": 181,
     "metadata": {},
     "output_type": "execute_result"
    }
   ],
   "source": [
    "all_files = glob.glob(\"..\\\\data\\\\create\\\\*_AFID_60072061.csv\")\n",
    "len(all_files)"
   ]
  },
  {
   "cell_type": "code",
   "execution_count": 182,
   "id": "6001ecaa",
   "metadata": {},
   "outputs": [
    {
     "data": {
      "text/plain": [
       "['..\\\\data\\\\create\\\\2005_AFID_60072061.csv',\n",
       " '..\\\\data\\\\create\\\\2006_AFID_60072061.csv',\n",
       " '..\\\\data\\\\create\\\\2007_AFID_60072061.csv',\n",
       " '..\\\\data\\\\create\\\\2008_AFID_60072061.csv',\n",
       " '..\\\\data\\\\create\\\\2009_AFID_60072061.csv',\n",
       " '..\\\\data\\\\create\\\\2010_AFID_60072061.csv',\n",
       " '..\\\\data\\\\create\\\\2011_AFID_60072061.csv',\n",
       " '..\\\\data\\\\create\\\\2012_AFID_60072061.csv',\n",
       " '..\\\\data\\\\create\\\\2013_AFID_60072061.csv',\n",
       " '..\\\\data\\\\create\\\\2014_AFID_60072061.csv',\n",
       " '..\\\\data\\\\create\\\\2015_AFID_60072061.csv',\n",
       " '..\\\\data\\\\create\\\\2016_AFID_60072061.csv',\n",
       " '..\\\\data\\\\create\\\\2017_AFID_60072061.csv',\n",
       " '..\\\\data\\\\create\\\\2018_AFID_60072061.csv',\n",
       " '..\\\\data\\\\create\\\\2019_AFID_60072061.csv',\n",
       " '..\\\\data\\\\create\\\\2020_AFID_60072061.csv',\n",
       " '..\\\\data\\\\create\\\\2021_AFID_60072061.csv',\n",
       " '..\\\\data\\\\create\\\\2022_AFID_60072061.csv',\n",
       " '..\\\\data\\\\create\\\\2023_AFID_60072061.csv',\n",
       " '..\\\\data\\\\create\\\\2024_AFID_60072061.csv',\n",
       " '..\\\\data\\\\create\\\\2025_AFID_60072061.csv']"
      ]
     },
     "execution_count": 182,
     "metadata": {},
     "output_type": "execute_result"
    }
   ],
   "source": [
    "all_files"
   ]
  },
  {
   "cell_type": "code",
   "execution_count": 183,
   "id": "01a1620d",
   "metadata": {},
   "outputs": [],
   "source": [
    "all_files = [\n",
    "    '..\\\\data\\\\create\\\\2010_AFID_60072061.csv',\n",
    "    '..\\\\data\\\\create\\\\2011_AFID_60072061.csv',\n",
    "    '..\\\\data\\\\create\\\\2012_AFID_60072061.csv',\n",
    "    '..\\\\data\\\\create\\\\2013_AFID_60072061.csv',\n",
    "    '..\\\\data\\\\create\\\\2014_AFID_60072061.csv',\n",
    "    '..\\\\data\\\\create\\\\2015_AFID_60072061.csv',\n",
    "    '..\\\\data\\\\create\\\\2016_AFID_60072061.csv',\n",
    "    '..\\\\data\\\\create\\\\2017_AFID_60072061.csv',\n",
    "    '..\\\\data\\\\create\\\\2018_AFID_60072061.csv',\n",
    "    '..\\\\data\\\\create\\\\2019_AFID_60072061.csv',\n",
    "    '..\\\\data\\\\create\\\\2020_AFID_60072061.csv',\n",
    "    '..\\\\data\\\\create\\\\2021_AFID_60072061.csv',\n",
    "    '..\\\\data\\\\create\\\\2022_AFID_60072061.csv',\n",
    "    '..\\\\data\\\\create\\\\2023_AFID_60072061.csv',\n",
    "    '..\\\\data\\\\create\\\\2024_AFID_60072061.csv',\n",
    "    '..\\\\data\\\\create\\\\2025_AFID_60072061.csv'\n",
    "]\n",
    "\n",
    "# all_files = [\n",
    "#     '..\\\\data\\\\create\\\\2005_AFID_60072061.csv',\n",
    "#     '..\\\\data\\\\create\\\\2006_AFID_60072061.csv',\n",
    "#     '..\\\\data\\\\create\\\\2007_AFID_60072061.csv',\n",
    "#     '..\\\\data\\\\create\\\\2008_AFID_60072061.csv',\n",
    "#     '..\\\\data\\\\create\\\\2009_AFID_60072061.csv',\n",
    "# ]"
   ]
  },
  {
   "cell_type": "code",
   "execution_count": 184,
   "id": "d4f10bb1",
   "metadata": {},
   "outputs": [
    {
     "name": "stdout",
     "output_type": "stream",
     "text": [
      "2010 (19, 15)\n",
      "2011 (29, 15)\n",
      "2012 (37, 15)\n",
      "2013 (45, 15)\n",
      "2014 (87, 15)\n",
      "2015 (108, 15)\n",
      "2016 (216, 15)\n",
      "2017 (319, 15)\n",
      "2018 (396, 15)\n",
      "2019 (386, 15)\n",
      "2020 (457, 15)\n",
      "2021 (480, 15)\n",
      "2022 (574, 15)\n",
      "2023 (579, 15)\n",
      "2024 (582, 15)\n",
      "2025 (199, 15)\n"
     ]
    }
   ],
   "source": [
    "step = 1\n",
    "for file in all_files:\n",
    "    df = pd.read_csv(file,delimiter=',')\n",
    "    año = int(file.split(\"\\\\\")[-1][:4])\n",
    "    df[\"año\"] = año\n",
    "    print(año, df.shape)\n",
    "\n",
    "    if step: \n",
    "        step = 0\n",
    "        big_df = df.copy()\n",
    "    else:\n",
    "        big_df = pd.concat([big_df, df], ignore_index=True)"
   ]
  },
  {
   "cell_type": "code",
   "execution_count": 185,
   "id": "061fbe87",
   "metadata": {},
   "outputs": [
    {
     "data": {
      "text/plain": [
       "(4513, 15)"
      ]
     },
     "execution_count": 185,
     "metadata": {},
     "output_type": "execute_result"
    }
   ],
   "source": [
    "big_df.shape"
   ]
  },
  {
   "cell_type": "code",
   "execution_count": 186,
   "id": "992000d2",
   "metadata": {},
   "outputs": [
    {
     "name": "stdout",
     "output_type": "stream",
     "text": [
      "<class 'pandas.core.frame.DataFrame'>\n",
      "RangeIndex: 4513 entries, 0 to 4512\n",
      "Data columns (total 15 columns):\n",
      " #   Column              Non-Null Count  Dtype  \n",
      "---  ------              --------------  -----  \n",
      " 0   eid                 4513 non-null   object \n",
      " 1   title               4513 non-null   object \n",
      " 2   identifier          4513 non-null   object \n",
      " 3   url                 4513 non-null   object \n",
      " 4   urlPage             4513 non-null   object \n",
      " 5   doi                 4168 non-null   object \n",
      " 6   aggregationType     4513 non-null   object \n",
      " 7   subtypeDescription  4513 non-null   object \n",
      " 8   affiliation         4506 non-null   object \n",
      " 9   publicationName     4511 non-null   object \n",
      " 10  coverDate           4513 non-null   object \n",
      " 11  sourceId            4510 non-null   float64\n",
      " 12  openaccess          4513 non-null   int64  \n",
      " 13  eIssn/issn/isbn     4489 non-null   object \n",
      " 14  año                 4513 non-null   int64  \n",
      "dtypes: float64(1), int64(2), object(12)\n",
      "memory usage: 529.0+ KB\n"
     ]
    }
   ],
   "source": [
    "big_df.info()"
   ]
  },
  {
   "cell_type": "code",
   "execution_count": 187,
   "id": "809eea45",
   "metadata": {},
   "outputs": [
    {
     "data": {
      "text/html": [
       "<div>\n",
       "<style scoped>\n",
       "    .dataframe tbody tr th:only-of-type {\n",
       "        vertical-align: middle;\n",
       "    }\n",
       "\n",
       "    .dataframe tbody tr th {\n",
       "        vertical-align: top;\n",
       "    }\n",
       "\n",
       "    .dataframe thead th {\n",
       "        text-align: right;\n",
       "    }\n",
       "</style>\n",
       "<table border=\"1\" class=\"dataframe\">\n",
       "  <thead>\n",
       "    <tr style=\"text-align: right;\">\n",
       "      <th></th>\n",
       "      <th>sourceId</th>\n",
       "      <th>openaccess</th>\n",
       "      <th>año</th>\n",
       "    </tr>\n",
       "  </thead>\n",
       "  <tbody>\n",
       "    <tr>\n",
       "      <th>count</th>\n",
       "      <td>4.510000e+03</td>\n",
       "      <td>4513.000000</td>\n",
       "      <td>4513.000000</td>\n",
       "    </tr>\n",
       "    <tr>\n",
       "      <th>mean</th>\n",
       "      <td>1.321528e+10</td>\n",
       "      <td>0.424994</td>\n",
       "      <td>2020.346776</td>\n",
       "    </tr>\n",
       "    <tr>\n",
       "      <th>std</th>\n",
       "      <td>9.600025e+09</td>\n",
       "      <td>0.494397</td>\n",
       "      <td>3.146902</td>\n",
       "    </tr>\n",
       "    <tr>\n",
       "      <th>min</th>\n",
       "      <td>1.207200e+04</td>\n",
       "      <td>0.000000</td>\n",
       "      <td>2010.000000</td>\n",
       "    </tr>\n",
       "    <tr>\n",
       "      <th>25%</th>\n",
       "      <td>3.348800e+04</td>\n",
       "      <td>0.000000</td>\n",
       "      <td>2018.000000</td>\n",
       "    </tr>\n",
       "    <tr>\n",
       "      <th>50%</th>\n",
       "      <td>2.110020e+10</td>\n",
       "      <td>0.000000</td>\n",
       "      <td>2021.000000</td>\n",
       "    </tr>\n",
       "    <tr>\n",
       "      <th>75%</th>\n",
       "      <td>2.110089e+10</td>\n",
       "      <td>1.000000</td>\n",
       "      <td>2023.000000</td>\n",
       "    </tr>\n",
       "    <tr>\n",
       "      <th>max</th>\n",
       "      <td>2.110128e+10</td>\n",
       "      <td>1.000000</td>\n",
       "      <td>2025.000000</td>\n",
       "    </tr>\n",
       "  </tbody>\n",
       "</table>\n",
       "</div>"
      ],
      "text/plain": [
       "           sourceId   openaccess          año\n",
       "count  4.510000e+03  4513.000000  4513.000000\n",
       "mean   1.321528e+10     0.424994  2020.346776\n",
       "std    9.600025e+09     0.494397     3.146902\n",
       "min    1.207200e+04     0.000000  2010.000000\n",
       "25%    3.348800e+04     0.000000  2018.000000\n",
       "50%    2.110020e+10     0.000000  2021.000000\n",
       "75%    2.110089e+10     1.000000  2023.000000\n",
       "max    2.110128e+10     1.000000  2025.000000"
      ]
     },
     "execution_count": 187,
     "metadata": {},
     "output_type": "execute_result"
    }
   ],
   "source": [
    "big_df.describe()"
   ]
  },
  {
   "cell_type": "code",
   "execution_count": 188,
   "metadata": {},
   "outputs": [
    {
     "data": {
      "text/html": [
       "<div>\n",
       "<style scoped>\n",
       "    .dataframe tbody tr th:only-of-type {\n",
       "        vertical-align: middle;\n",
       "    }\n",
       "\n",
       "    .dataframe tbody tr th {\n",
       "        vertical-align: top;\n",
       "    }\n",
       "\n",
       "    .dataframe thead th {\n",
       "        text-align: right;\n",
       "    }\n",
       "</style>\n",
       "<table border=\"1\" class=\"dataframe\">\n",
       "  <thead>\n",
       "    <tr style=\"text-align: right;\">\n",
       "      <th></th>\n",
       "      <th>eid</th>\n",
       "      <th>title</th>\n",
       "      <th>identifier</th>\n",
       "      <th>url</th>\n",
       "      <th>urlPage</th>\n",
       "      <th>doi</th>\n",
       "      <th>aggregationType</th>\n",
       "      <th>subtypeDescription</th>\n",
       "      <th>affiliation</th>\n",
       "      <th>publicationName</th>\n",
       "      <th>coverDate</th>\n",
       "      <th>sourceId</th>\n",
       "      <th>openaccess</th>\n",
       "      <th>eIssn/issn/isbn</th>\n",
       "      <th>año</th>\n",
       "    </tr>\n",
       "  </thead>\n",
       "  <tbody>\n",
       "    <tr>\n",
       "      <th>0</th>\n",
       "      <td>2-s2.0-78650019778</td>\n",
       "      <td>An experimental study of VoIP performance in W...</td>\n",
       "      <td>SCOPUS_ID:78650019778</td>\n",
       "      <td>https://api.elsevier.com/content/abstract/scop...</td>\n",
       "      <td>https://www.scopus.com/record/display.uri?eid=...</td>\n",
       "      <td>10.1109/ICSTE.2010.5608857</td>\n",
       "      <td>Conference Proceeding</td>\n",
       "      <td>Conference Paper</td>\n",
       "      <td>[{\"@_fa\": \"true\", \"affilname\": \"Escuela Superi...</td>\n",
       "      <td>ICSTE 2010 - 2010 2nd International Conference...</td>\n",
       "      <td>2010-12-16</td>\n",
       "      <td>1.970018e+10</td>\n",
       "      <td>0</td>\n",
       "      <td>[9781424486656]</td>\n",
       "      <td>2010</td>\n",
       "    </tr>\n",
       "    <tr>\n",
       "      <th>1</th>\n",
       "      <td>2-s2.0-84871434507</td>\n",
       "      <td>IEEE 802.11 b and g WLAN propagation model usi...</td>\n",
       "      <td>SCOPUS_ID:84871434507</td>\n",
       "      <td>https://api.elsevier.com/content/abstract/scop...</td>\n",
       "      <td>https://www.scopus.com/record/display.uri?eid=...</td>\n",
       "      <td>NaN</td>\n",
       "      <td>Journal</td>\n",
       "      <td>Article</td>\n",
       "      <td>[{\"@_fa\": \"true\", \"affilname\": \"Escuela Superi...</td>\n",
       "      <td>World Academy of Science, Engineering and Tech...</td>\n",
       "      <td>2010-12-01</td>\n",
       "      <td>2.110020e+10</td>\n",
       "      <td>0</td>\n",
       "      <td>20103778</td>\n",
       "      <td>2010</td>\n",
       "    </tr>\n",
       "    <tr>\n",
       "      <th>2</th>\n",
       "      <td>2-s2.0-84871312619</td>\n",
       "      <td>Mitigation of radiation levels for base transc...</td>\n",
       "      <td>SCOPUS_ID:84871312619</td>\n",
       "      <td>https://api.elsevier.com/content/abstract/scop...</td>\n",
       "      <td>https://www.scopus.com/record/display.uri?eid=...</td>\n",
       "      <td>NaN</td>\n",
       "      <td>Journal</td>\n",
       "      <td>Article</td>\n",
       "      <td>[{\"@_fa\": \"true\", \"affilname\": \"Escuela Superi...</td>\n",
       "      <td>World Academy of Science, Engineering and Tech...</td>\n",
       "      <td>2010-12-01</td>\n",
       "      <td>2.110020e+10</td>\n",
       "      <td>0</td>\n",
       "      <td>20103778</td>\n",
       "      <td>2010</td>\n",
       "    </tr>\n",
       "    <tr>\n",
       "      <th>3</th>\n",
       "      <td>2-s2.0-84860313321</td>\n",
       "      <td>Pre-feasibility analysis of a wind-solar-diese...</td>\n",
       "      <td>SCOPUS_ID:84860313321</td>\n",
       "      <td>https://api.elsevier.com/content/abstract/scop...</td>\n",
       "      <td>https://www.scopus.com/record/display.uri?eid=...</td>\n",
       "      <td>10.1115/ES2010-90446</td>\n",
       "      <td>Conference Proceeding</td>\n",
       "      <td>Conference Paper</td>\n",
       "      <td>[{\"@_fa\": \"true\", \"affilname\": \"Escuela Superi...</td>\n",
       "      <td>ASME 2010 4th International Conference on Ener...</td>\n",
       "      <td>2010-12-01</td>\n",
       "      <td>2.110020e+10</td>\n",
       "      <td>0</td>\n",
       "      <td>[9780791843949]</td>\n",
       "      <td>2010</td>\n",
       "    </tr>\n",
       "    <tr>\n",
       "      <th>4</th>\n",
       "      <td>2-s2.0-79953001636</td>\n",
       "      <td>Opportunistic channel allocation algorithms fo...</td>\n",
       "      <td>SCOPUS_ID:79953001636</td>\n",
       "      <td>https://api.elsevier.com/content/abstract/scop...</td>\n",
       "      <td>https://www.scopus.com/record/display.uri?eid=...</td>\n",
       "      <td>NaN</td>\n",
       "      <td>Conference Proceeding</td>\n",
       "      <td>Conference Paper</td>\n",
       "      <td>[{\"@_fa\": \"true\", \"affilname\": \"Escuela Superi...</td>\n",
       "      <td>2010 Future Network and Mobile Summit</td>\n",
       "      <td>2010-12-01</td>\n",
       "      <td>1.970020e+10</td>\n",
       "      <td>0</td>\n",
       "      <td>[9781905824182]</td>\n",
       "      <td>2010</td>\n",
       "    </tr>\n",
       "  </tbody>\n",
       "</table>\n",
       "</div>"
      ],
      "text/plain": [
       "                  eid                                              title  \\\n",
       "0  2-s2.0-78650019778  An experimental study of VoIP performance in W...   \n",
       "1  2-s2.0-84871434507  IEEE 802.11 b and g WLAN propagation model usi...   \n",
       "2  2-s2.0-84871312619  Mitigation of radiation levels for base transc...   \n",
       "3  2-s2.0-84860313321  Pre-feasibility analysis of a wind-solar-diese...   \n",
       "4  2-s2.0-79953001636  Opportunistic channel allocation algorithms fo...   \n",
       "\n",
       "              identifier                                                url  \\\n",
       "0  SCOPUS_ID:78650019778  https://api.elsevier.com/content/abstract/scop...   \n",
       "1  SCOPUS_ID:84871434507  https://api.elsevier.com/content/abstract/scop...   \n",
       "2  SCOPUS_ID:84871312619  https://api.elsevier.com/content/abstract/scop...   \n",
       "3  SCOPUS_ID:84860313321  https://api.elsevier.com/content/abstract/scop...   \n",
       "4  SCOPUS_ID:79953001636  https://api.elsevier.com/content/abstract/scop...   \n",
       "\n",
       "                                             urlPage  \\\n",
       "0  https://www.scopus.com/record/display.uri?eid=...   \n",
       "1  https://www.scopus.com/record/display.uri?eid=...   \n",
       "2  https://www.scopus.com/record/display.uri?eid=...   \n",
       "3  https://www.scopus.com/record/display.uri?eid=...   \n",
       "4  https://www.scopus.com/record/display.uri?eid=...   \n",
       "\n",
       "                          doi        aggregationType subtypeDescription  \\\n",
       "0  10.1109/ICSTE.2010.5608857  Conference Proceeding   Conference Paper   \n",
       "1                         NaN                Journal            Article   \n",
       "2                         NaN                Journal            Article   \n",
       "3        10.1115/ES2010-90446  Conference Proceeding   Conference Paper   \n",
       "4                         NaN  Conference Proceeding   Conference Paper   \n",
       "\n",
       "                                         affiliation  \\\n",
       "0  [{\"@_fa\": \"true\", \"affilname\": \"Escuela Superi...   \n",
       "1  [{\"@_fa\": \"true\", \"affilname\": \"Escuela Superi...   \n",
       "2  [{\"@_fa\": \"true\", \"affilname\": \"Escuela Superi...   \n",
       "3  [{\"@_fa\": \"true\", \"affilname\": \"Escuela Superi...   \n",
       "4  [{\"@_fa\": \"true\", \"affilname\": \"Escuela Superi...   \n",
       "\n",
       "                                     publicationName   coverDate  \\\n",
       "0  ICSTE 2010 - 2010 2nd International Conference...  2010-12-16   \n",
       "1  World Academy of Science, Engineering and Tech...  2010-12-01   \n",
       "2  World Academy of Science, Engineering and Tech...  2010-12-01   \n",
       "3  ASME 2010 4th International Conference on Ener...  2010-12-01   \n",
       "4              2010 Future Network and Mobile Summit  2010-12-01   \n",
       "\n",
       "       sourceId  openaccess  eIssn/issn/isbn   año  \n",
       "0  1.970018e+10           0  [9781424486656]  2010  \n",
       "1  2.110020e+10           0         20103778  2010  \n",
       "2  2.110020e+10           0         20103778  2010  \n",
       "3  2.110020e+10           0  [9780791843949]  2010  \n",
       "4  1.970020e+10           0  [9781905824182]  2010  "
      ]
     },
     "execution_count": 188,
     "metadata": {},
     "output_type": "execute_result"
    }
   ],
   "source": [
    "big_df.head()"
   ]
  },
  {
   "cell_type": "code",
   "execution_count": 189,
   "id": "aad2e8f3",
   "metadata": {},
   "outputs": [],
   "source": [
    "# big_df.to_csv(\"../data/create/all_data_2005_to_2009.csv\", index=False)\n",
    "big_df.to_csv(\"../data/create/all_data_2010_to_2025.csv\", index=False)"
   ]
  },
  {
   "cell_type": "code",
   "execution_count": 190,
   "metadata": {},
   "outputs": [
    {
     "data": {
      "text/plain": [
       "'https://www.scopus.com/record/display.uri?eid=2-s2.0-84871434507&origin=resultslist'"
      ]
     },
     "execution_count": 190,
     "metadata": {},
     "output_type": "execute_result"
    }
   ],
   "source": [
    "big_df[\"urlPage\"][1]"
   ]
  },
  {
   "cell_type": "code",
   "execution_count": 191,
   "id": "d5c2f52e",
   "metadata": {},
   "outputs": [
    {
     "data": {
      "text/plain": [
       "(4513, 15)"
      ]
     },
     "execution_count": 191,
     "metadata": {},
     "output_type": "execute_result"
    }
   ],
   "source": [
    "big_df[(~big_df[\"urlPage\"].isna() & big_df[\"urlPage\"].str.contains(\"scopus.com\"))].shape"
   ]
  },
  {
   "cell_type": "code",
   "execution_count": 192,
   "id": "8eae86ba",
   "metadata": {},
   "outputs": [],
   "source": [
    "df_scopu = big_df[(~big_df[\"urlPage\"].isna() & big_df[\"urlPage\"].str.contains(\"scopus.com\"))]"
   ]
  },
  {
   "cell_type": "code",
   "execution_count": 193,
   "id": "e97c7e4a",
   "metadata": {},
   "outputs": [
    {
     "name": "stdout",
     "output_type": "stream",
     "text": [
      "https://www.scopus.com/record/display.uri?eid=2-s2.0-78650019778&origin=resultslist\n",
      "                  eid                                              title  \\\n",
      "0  2-s2.0-78650019778  An experimental study of VoIP performance in W...   \n",
      "\n",
      "              identifier                                                url  \\\n",
      "0  SCOPUS_ID:78650019778  https://api.elsevier.com/content/abstract/scop...   \n",
      "\n",
      "                                             urlPage  \\\n",
      "0  https://www.scopus.com/record/display.uri?eid=...   \n",
      "\n",
      "                          doi        aggregationType subtypeDescription  \\\n",
      "0  10.1109/ICSTE.2010.5608857  Conference Proceeding   Conference Paper   \n",
      "\n",
      "                                         affiliation  \\\n",
      "0  [{\"@_fa\": \"true\", \"affilname\": \"Escuela Superi...   \n",
      "\n",
      "                                     publicationName   coverDate  \\\n",
      "0  ICSTE 2010 - 2010 2nd International Conference...  2010-12-16   \n",
      "\n",
      "       sourceId  openaccess  eIssn/issn/isbn   año  \n",
      "0  1.970018e+10           0  [9781424486656]  2010  \n"
     ]
    }
   ],
   "source": [
    "for url_actual in df_scopu[\"urlPage\"]:\n",
    "    print(url_actual)\n",
    "\n",
    "    print(df_scopu[df_scopu[\"urlPage\"] == url_actual])\n",
    "    break"
   ]
  }
 ],
 "metadata": {
  "kernelspec": {
   "display_name": "Python 3",
   "language": "python",
   "name": "python3"
  },
  "language_info": {
   "codemirror_mode": {
    "name": "ipython",
    "version": 3
   },
   "file_extension": ".py",
   "mimetype": "text/x-python",
   "name": "python",
   "nbconvert_exporter": "python",
   "pygments_lexer": "ipython3",
   "version": "3.12.10"
  }
 },
 "nbformat": 4,
 "nbformat_minor": 5
}
