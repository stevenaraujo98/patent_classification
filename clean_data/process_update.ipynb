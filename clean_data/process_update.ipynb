{
 "cells": [
  {
   "cell_type": "code",
   "execution_count": 1,
   "id": "9dec7650",
   "metadata": {},
   "outputs": [],
   "source": [
    "import pandas as pd\n",
    "import numpy as np"
   ]
  },
  {
   "cell_type": "code",
   "execution_count": 2,
   "id": "070b0fe8",
   "metadata": {},
   "outputs": [],
   "source": [
    "pd.set_option('display.max_columns', None)"
   ]
  },
  {
   "cell_type": "markdown",
   "id": "1cd1a04e",
   "metadata": {},
   "source": [
    "### Antes de scrap\n",
    "\n",
    "con negativos \"-\""
   ]
  },
  {
   "cell_type": "code",
   "execution_count": 3,
   "id": "cf2f8d7a",
   "metadata": {},
   "outputs": [],
   "source": [
    "df_scrap = pd.read_csv(\"../data/scrap_.csv\")\n",
    "df_scrap_less = pd.read_csv(\"../data/scrap_page_less.csv\")"
   ]
  },
  {
   "cell_type": "code",
   "execution_count": 4,
   "id": "48c9048b",
   "metadata": {},
   "outputs": [
    {
     "name": "stdout",
     "output_type": "stream",
     "text": [
      "<class 'pandas.core.frame.DataFrame'>\n",
      "RangeIndex: 4605 entries, 0 to 4604\n",
      "Data columns (total 30 columns):\n",
      " #   Column                  Non-Null Count  Dtype  \n",
      "---  ------                  --------------  -----  \n",
      " 0   eid                     4605 non-null   object \n",
      " 1   url                     4605 non-null   object \n",
      " 2   title                   4605 non-null   object \n",
      " 3   abstract                4494 non-null   object \n",
      " 4   key_words               3953 non-null   object \n",
      " 5   doi                     4239 non-null   object \n",
      " 6   isbn                    1462 non-null   object \n",
      " 7   issn                    3754 non-null   object \n",
      " 8   cuartil                 3477 non-null   object \n",
      " 9   document_type           4605 non-null   object \n",
      " 10  source_type             4605 non-null   object \n",
      " 11  publisher               4438 non-null   object \n",
      " 12  language                4604 non-null   object \n",
      " 13  sponsors                499 non-null    object \n",
      " 14  publication_year        4293 non-null   float64\n",
      " 15  page_count              4084 non-null   object \n",
      " 16  info_more_full          4605 non-null   object \n",
      " 17  citations_quartile      3480 non-null   object \n",
      " 18  fwci_quartile           3271 non-null   object \n",
      " 19  indexed_keywords        2933 non-null   object \n",
      " 20  topic_prominence_name   4482 non-null   object \n",
      " 21  topic_prominence_value  4482 non-null   float64\n",
      " 22  readers_count           4305 non-null   float64\n",
      " 23  news_mentions_count     437 non-null    float64\n",
      " 24  citations_scopus_count  2934 non-null   object \n",
      " 25  fwci_value              3271 non-null   float64\n",
      " 26  zero_hunger             176 non-null    object \n",
      " 27  clean_water             216 non-null    object \n",
      " 28  affordable_energy       405 non-null    object \n",
      " 29  industry_innovation     342 non-null    object \n",
      "dtypes: float64(5), object(25)\n",
      "memory usage: 1.1+ MB\n"
     ]
    }
   ],
   "source": [
    "df_scrap.info()"
   ]
  },
  {
   "cell_type": "code",
   "execution_count": 5,
   "id": "f78beaca",
   "metadata": {},
   "outputs": [
    {
     "data": {
      "text/html": [
       "<div>\n",
       "<style scoped>\n",
       "    .dataframe tbody tr th:only-of-type {\n",
       "        vertical-align: middle;\n",
       "    }\n",
       "\n",
       "    .dataframe tbody tr th {\n",
       "        vertical-align: top;\n",
       "    }\n",
       "\n",
       "    .dataframe thead th {\n",
       "        text-align: right;\n",
       "    }\n",
       "</style>\n",
       "<table border=\"1\" class=\"dataframe\">\n",
       "  <thead>\n",
       "    <tr style=\"text-align: right;\">\n",
       "      <th></th>\n",
       "      <th>publication_year</th>\n",
       "      <th>topic_prominence_value</th>\n",
       "      <th>readers_count</th>\n",
       "      <th>news_mentions_count</th>\n",
       "      <th>fwci_value</th>\n",
       "    </tr>\n",
       "  </thead>\n",
       "  <tbody>\n",
       "    <tr>\n",
       "      <th>count</th>\n",
       "      <td>4293.000000</td>\n",
       "      <td>4482.000000</td>\n",
       "      <td>4305.000000</td>\n",
       "      <td>437.000000</td>\n",
       "      <td>3271.000000</td>\n",
       "    </tr>\n",
       "    <tr>\n",
       "      <th>mean</th>\n",
       "      <td>2439.139995</td>\n",
       "      <td>82.942189</td>\n",
       "      <td>37.461092</td>\n",
       "      <td>1.807780</td>\n",
       "      <td>1.443412</td>\n",
       "    </tr>\n",
       "    <tr>\n",
       "      <th>std</th>\n",
       "      <td>5026.580624</td>\n",
       "      <td>20.459220</td>\n",
       "      <td>72.191797</td>\n",
       "      <td>7.333762</td>\n",
       "      <td>2.517771</td>\n",
       "    </tr>\n",
       "    <tr>\n",
       "      <th>min</th>\n",
       "      <td>1900.000000</td>\n",
       "      <td>0.682000</td>\n",
       "      <td>1.000000</td>\n",
       "      <td>1.000000</td>\n",
       "      <td>0.040000</td>\n",
       "    </tr>\n",
       "    <tr>\n",
       "      <th>25%</th>\n",
       "      <td>2018.000000</td>\n",
       "      <td>73.747500</td>\n",
       "      <td>6.000000</td>\n",
       "      <td>1.000000</td>\n",
       "      <td>0.400000</td>\n",
       "    </tr>\n",
       "    <tr>\n",
       "      <th>50%</th>\n",
       "      <td>2021.000000</td>\n",
       "      <td>91.502000</td>\n",
       "      <td>16.000000</td>\n",
       "      <td>1.000000</td>\n",
       "      <td>0.800000</td>\n",
       "    </tr>\n",
       "    <tr>\n",
       "      <th>75%</th>\n",
       "      <td>2023.000000</td>\n",
       "      <td>97.978000</td>\n",
       "      <td>41.000000</td>\n",
       "      <td>1.000000</td>\n",
       "      <td>1.605000</td>\n",
       "    </tr>\n",
       "    <tr>\n",
       "      <th>max</th>\n",
       "      <td>92024.000000</td>\n",
       "      <td>99.999000</td>\n",
       "      <td>2142.000000</td>\n",
       "      <td>134.000000</td>\n",
       "      <td>59.250000</td>\n",
       "    </tr>\n",
       "  </tbody>\n",
       "</table>\n",
       "</div>"
      ],
      "text/plain": [
       "       publication_year  topic_prominence_value  readers_count  \\\n",
       "count       4293.000000             4482.000000    4305.000000   \n",
       "mean        2439.139995               82.942189      37.461092   \n",
       "std         5026.580624               20.459220      72.191797   \n",
       "min         1900.000000                0.682000       1.000000   \n",
       "25%         2018.000000               73.747500       6.000000   \n",
       "50%         2021.000000               91.502000      16.000000   \n",
       "75%         2023.000000               97.978000      41.000000   \n",
       "max        92024.000000               99.999000    2142.000000   \n",
       "\n",
       "       news_mentions_count   fwci_value  \n",
       "count           437.000000  3271.000000  \n",
       "mean              1.807780     1.443412  \n",
       "std               7.333762     2.517771  \n",
       "min               1.000000     0.040000  \n",
       "25%               1.000000     0.400000  \n",
       "50%               1.000000     0.800000  \n",
       "75%               1.000000     1.605000  \n",
       "max             134.000000    59.250000  "
      ]
     },
     "execution_count": 5,
     "metadata": {},
     "output_type": "execute_result"
    }
   ],
   "source": [
    "df_scrap.describe()"
   ]
  },
  {
   "cell_type": "code",
   "execution_count": 6,
   "id": "8994e5c5",
   "metadata": {},
   "outputs": [
    {
     "data": {
      "text/plain": [
       "(1419, 30)"
      ]
     },
     "execution_count": 6,
     "metadata": {},
     "output_type": "execute_result"
    }
   ],
   "source": [
    "df_art_page = df_scrap[(df_scrap[\"page_count\"].str.contains(\"Art. No. \", na=False))]\n",
    "df_art_page.shape"
   ]
  },
  {
   "cell_type": "code",
   "execution_count": 7,
   "id": "cf03b2b7",
   "metadata": {},
   "outputs": [
    {
     "data": {
      "text/plain": [
       "page_count\n",
       "Art. No. 63         4\n",
       "Art. No. 3          4\n",
       "Art. No. 8          4\n",
       "Art. No. 25         3\n",
       "Art. No. 813        3\n",
       "                   ..\n",
       "Art. No. 1048       1\n",
       "Art. No. 117284     1\n",
       "Art. No. 401        1\n",
       "Art. No. 130032     1\n",
       "Art. No. 2472588    1\n",
       "Name: count, Length: 1354, dtype: int64"
      ]
     },
     "execution_count": 7,
     "metadata": {},
     "output_type": "execute_result"
    }
   ],
   "source": [
    "df_art_page[\"page_count\"].value_counts()"
   ]
  },
  {
   "cell_type": "code",
   "execution_count": 8,
   "id": "3731207e",
   "metadata": {},
   "outputs": [
    {
     "data": {
      "text/html": [
       "<div>\n",
       "<style scoped>\n",
       "    .dataframe tbody tr th:only-of-type {\n",
       "        vertical-align: middle;\n",
       "    }\n",
       "\n",
       "    .dataframe tbody tr th {\n",
       "        vertical-align: top;\n",
       "    }\n",
       "\n",
       "    .dataframe thead th {\n",
       "        text-align: right;\n",
       "    }\n",
       "</style>\n",
       "<table border=\"1\" class=\"dataframe\">\n",
       "  <thead>\n",
       "    <tr style=\"text-align: right;\">\n",
       "      <th></th>\n",
       "      <th>eid</th>\n",
       "      <th>url</th>\n",
       "      <th>title</th>\n",
       "      <th>abstract</th>\n",
       "      <th>key_words</th>\n",
       "      <th>doi</th>\n",
       "      <th>isbn</th>\n",
       "      <th>issn</th>\n",
       "      <th>cuartil</th>\n",
       "      <th>document_type</th>\n",
       "      <th>source_type</th>\n",
       "      <th>publisher</th>\n",
       "      <th>language</th>\n",
       "      <th>sponsors</th>\n",
       "      <th>publication_year</th>\n",
       "      <th>page_count</th>\n",
       "      <th>info_more_full</th>\n",
       "      <th>citations_quartile</th>\n",
       "      <th>fwci_quartile</th>\n",
       "      <th>indexed_keywords</th>\n",
       "      <th>topic_prominence_name</th>\n",
       "      <th>topic_prominence_value</th>\n",
       "      <th>readers_count</th>\n",
       "      <th>news_mentions_count</th>\n",
       "      <th>citations_scopus_count</th>\n",
       "      <th>fwci_value</th>\n",
       "      <th>zero_hunger</th>\n",
       "      <th>clean_water</th>\n",
       "      <th>affordable_energy</th>\n",
       "      <th>industry_innovation</th>\n",
       "    </tr>\n",
       "  </thead>\n",
       "  <tbody>\n",
       "  </tbody>\n",
       "</table>\n",
       "</div>"
      ],
      "text/plain": [
       "Empty DataFrame\n",
       "Columns: [eid, url, title, abstract, key_words, doi, isbn, issn, cuartil, document_type, source_type, publisher, language, sponsors, publication_year, page_count, info_more_full, citations_quartile, fwci_quartile, indexed_keywords, topic_prominence_name, topic_prominence_value, readers_count, news_mentions_count, citations_scopus_count, fwci_value, zero_hunger, clean_water, affordable_energy, industry_innovation]\n",
       "Index: []"
      ]
     },
     "execution_count": 8,
     "metadata": {},
     "output_type": "execute_result"
    }
   ],
   "source": [
    "df_art_page[df_art_page[\"page_count\"].isna()]"
   ]
  },
  {
   "cell_type": "code",
   "execution_count": 9,
   "id": "faeee3b0",
   "metadata": {},
   "outputs": [
    {
     "data": {
      "text/plain": [
       "(2665, 30)"
      ]
     },
     "execution_count": 9,
     "metadata": {},
     "output_type": "execute_result"
    }
   ],
   "source": [
    "df_number_page = df_scrap[(~df_scrap[\"page_count\"].isna() & ~(df_scrap[\"page_count\"].str.contains(\"Art. No. \", na=False)))]#[\"page_count\"].value_counts()#[[\"url\", \"page_count\"]]\n",
    "df_number_page.shape"
   ]
  },
  {
   "cell_type": "code",
   "execution_count": 10,
   "id": "3b01a116",
   "metadata": {},
   "outputs": [
    {
     "data": {
      "text/plain": [
       "page_count\n",
       "6       332\n",
       "8       208\n",
       "10      186\n",
       "12      183\n",
       "7       152\n",
       "       ... \n",
       "117       1\n",
       "50        1\n",
       "-895      1\n",
       "48        1\n",
       "63        1\n",
       "Name: count, Length: 78, dtype: int64"
      ]
     },
     "execution_count": 10,
     "metadata": {},
     "output_type": "execute_result"
    }
   ],
   "source": [
    "df_number_page[\"page_count\"].value_counts()"
   ]
  },
  {
   "cell_type": "code",
   "execution_count": 11,
   "id": "166cfaef",
   "metadata": {},
   "outputs": [
    {
     "data": {
      "text/plain": [
       "array(['6', '13', '10', '12', '16', '18', '7', '8', '9', '5', '4', '57',\n",
       "       '11', '-7', '14', '17', '23', '24', '-4', '15', '1', '-86', '25',\n",
       "       '19', '20', '21', '3', '22', '28', '2', '32', '50', '-79', '26',\n",
       "       '117', '35', '37', '-84', '-2', '-80', '-85', '70', '-87', '-72',\n",
       "       '33', '-74', '-82', '46', '30', '-8996', '27', '-892', '-88', '39',\n",
       "       '0', '-78', '48', '-1', '43', '-5', '38', '-6', '-895', '31', '40',\n",
       "       '-3', '34', '-62', '42', '-884', '44', '47', '29', '41', '-83',\n",
       "       '-81', '-76', '63'], dtype=object)"
      ]
     },
     "execution_count": 11,
     "metadata": {},
     "output_type": "execute_result"
    }
   ],
   "source": [
    "df_number_page[\"page_count\"].unique()"
   ]
  },
  {
   "cell_type": "code",
   "execution_count": 12,
   "id": "b0069a2a",
   "metadata": {},
   "outputs": [
    {
     "data": {
      "text/html": [
       "<div>\n",
       "<style scoped>\n",
       "    .dataframe tbody tr th:only-of-type {\n",
       "        vertical-align: middle;\n",
       "    }\n",
       "\n",
       "    .dataframe tbody tr th {\n",
       "        vertical-align: top;\n",
       "    }\n",
       "\n",
       "    .dataframe thead th {\n",
       "        text-align: right;\n",
       "    }\n",
       "</style>\n",
       "<table border=\"1\" class=\"dataframe\">\n",
       "  <thead>\n",
       "    <tr style=\"text-align: right;\">\n",
       "      <th></th>\n",
       "      <th>eid</th>\n",
       "      <th>url</th>\n",
       "      <th>title</th>\n",
       "      <th>abstract</th>\n",
       "      <th>key_words</th>\n",
       "      <th>doi</th>\n",
       "      <th>isbn</th>\n",
       "      <th>issn</th>\n",
       "      <th>cuartil</th>\n",
       "      <th>document_type</th>\n",
       "      <th>source_type</th>\n",
       "      <th>publisher</th>\n",
       "      <th>language</th>\n",
       "      <th>sponsors</th>\n",
       "      <th>publication_year</th>\n",
       "      <th>page_count</th>\n",
       "      <th>info_more_full</th>\n",
       "      <th>citations_quartile</th>\n",
       "      <th>fwci_quartile</th>\n",
       "      <th>indexed_keywords</th>\n",
       "      <th>topic_prominence_name</th>\n",
       "      <th>topic_prominence_value</th>\n",
       "      <th>readers_count</th>\n",
       "      <th>news_mentions_count</th>\n",
       "      <th>citations_scopus_count</th>\n",
       "      <th>fwci_value</th>\n",
       "      <th>zero_hunger</th>\n",
       "      <th>clean_water</th>\n",
       "      <th>affordable_energy</th>\n",
       "      <th>industry_innovation</th>\n",
       "    </tr>\n",
       "  </thead>\n",
       "  <tbody>\n",
       "  </tbody>\n",
       "</table>\n",
       "</div>"
      ],
      "text/plain": [
       "Empty DataFrame\n",
       "Columns: [eid, url, title, abstract, key_words, doi, isbn, issn, cuartil, document_type, source_type, publisher, language, sponsors, publication_year, page_count, info_more_full, citations_quartile, fwci_quartile, indexed_keywords, topic_prominence_name, topic_prominence_value, readers_count, news_mentions_count, citations_scopus_count, fwci_value, zero_hunger, clean_water, affordable_energy, industry_innovation]\n",
       "Index: []"
      ]
     },
     "execution_count": 12,
     "metadata": {},
     "output_type": "execute_result"
    }
   ],
   "source": [
    "df_number_page[df_number_page[\"page_count\"].isna()]"
   ]
  },
  {
   "cell_type": "code",
   "execution_count": 13,
   "id": "1e602abb",
   "metadata": {},
   "outputs": [
    {
     "data": {
      "text/plain": [
       "((1419, 30), (2665, 30), (521, 30))"
      ]
     },
     "execution_count": 13,
     "metadata": {},
     "output_type": "execute_result"
    }
   ],
   "source": [
    "df_art_page.shape, df_number_page.shape, df_scrap[df_scrap[\"page_count\"].isna()].shape"
   ]
  },
  {
   "cell_type": "code",
   "execution_count": 14,
   "id": "38b0aaf8",
   "metadata": {},
   "outputs": [
    {
     "data": {
      "text/plain": [
       "(4605, (4605, 30))"
      ]
     },
     "execution_count": 14,
     "metadata": {},
     "output_type": "execute_result"
    }
   ],
   "source": [
    "df_art_page.shape[0] + df_number_page.shape[0] + df_scrap[df_scrap[\"page_count\"].isna()].shape[0], df_scrap.shape"
   ]
  },
  {
   "cell_type": "code",
   "execution_count": 15,
   "id": "33d49835",
   "metadata": {},
   "outputs": [
    {
     "data": {
      "text/plain": [
       "(82, 30)"
      ]
     },
     "execution_count": 15,
     "metadata": {},
     "output_type": "execute_result"
    }
   ],
   "source": [
    "df_number_page_less = df_number_page[df_number_page[\"page_count\"].str.contains(\"-\")]\n",
    "df_number_page_less.shape"
   ]
  },
  {
   "cell_type": "code",
   "execution_count": 16,
   "id": "d49bc55c",
   "metadata": {},
   "outputs": [
    {
     "data": {
      "text/plain": [
       "('https://www.scopus.com/record/display.uri?eid=2-s2.0-33751302754&origin=resultslist',\n",
       " '6',\n",
       " 2005.0)"
      ]
     },
     "execution_count": 16,
     "metadata": {},
     "output_type": "execute_result"
    }
   ],
   "source": [
    "item_n = 1\n",
    "df_number_page[\"url\"].iloc[item_n], df_number_page[\"page_count\"].iloc[item_n], df_number_page[\"publication_year\"].iloc[item_n]"
   ]
  },
  {
   "cell_type": "code",
   "execution_count": 17,
   "id": "60274be5",
   "metadata": {},
   "outputs": [
    {
     "data": {
      "text/plain": [
       "('https://www.scopus.com/record/display.uri?eid=2-s2.0-80053124586&origin=resultslist',\n",
       " '-7',\n",
       " 72011.0)"
      ]
     },
     "execution_count": 17,
     "metadata": {},
     "output_type": "execute_result"
    }
   ],
   "source": [
    "item_n = 3\n",
    "df_number_page_less[\"url\"].iloc[item_n], df_number_page_less[\"page_count\"].iloc[item_n], df_number_page_less[\"publication_year\"].iloc[item_n]"
   ]
  },
  {
   "cell_type": "code",
   "execution_count": null,
   "id": "1fc1a399",
   "metadata": {},
   "outputs": [],
   "source": [
    "df_number_page_less[[\"url\", \"page_count\"]].to_csv(\"../data/data_update/page_less.csv\", index=False)"
   ]
  },
  {
   "cell_type": "code",
   "execution_count": 18,
   "id": "26306c83",
   "metadata": {},
   "outputs": [
    {
     "data": {
      "text/plain": [
       "('https://www.scopus.com/record/display.uri?eid=2-s2.0-85029932056&origin=resultslist',\n",
       " 90056)"
      ]
     },
     "execution_count": 18,
     "metadata": {},
     "output_type": "execute_result"
    }
   ],
   "source": [
    "item_num = 0\n",
    "df_scrap_less[df_scrap_less[\"page_count\"] > 100][[\"url\", \"page_count\"]].iloc[item_num, 0], df_scrap_less[df_scrap_less[\"page_count\"] > 100][[\"url\", \"page_count\"]].iloc[item_num, 1]"
   ]
  },
  {
   "cell_type": "markdown",
   "id": "c04f9a8a",
   "metadata": {},
   "source": [
    "### Despues de scrap"
   ]
  },
  {
   "cell_type": "code",
   "execution_count": 3,
   "id": "152316f6",
   "metadata": {},
   "outputs": [],
   "source": [
    "df_scrap = pd.read_csv(\"../data/scrap_.csv\")\n",
    "df_scrap_update = pd.read_csv(\"../data/scrap_page_less.csv\")"
   ]
  },
  {
   "cell_type": "code",
   "execution_count": 4,
   "id": "ff181d5d",
   "metadata": {},
   "outputs": [],
   "source": [
    "df_scrap_original_copia = df_scrap.copy()"
   ]
  },
  {
   "cell_type": "code",
   "execution_count": 5,
   "id": "66fe149e",
   "metadata": {},
   "outputs": [],
   "source": [
    "# 2. Establecer 'eid' como índice en ambos DataFrames\n",
    "# Es importante que el DataFrame que se va a actualizar (df_scrap_actualizado)\n",
    "# tenga 'eid' como índice ANTES de llamar a .update()\n",
    "df_scrap_original_copia_idx = df_scrap_original_copia.set_index('eid')\n",
    "df_scrap_update_idx = df_scrap_update.set_index('eid')\n",
    "\n",
    "# 3. Usar update()\n",
    "# Esto modificará df_scrap_actualizado_idx en el lugar.\n",
    "# Solo las columnas que existen en AMBOS DataFrames (con índice 'eid') serán actualizadas en df_scrap_actualizado_idx.\n",
    "# Si df_scrap_update_idx tiene columnas adicionales, estas NO se agregarán a df_scrap_actualizado_idx.\n",
    "# Si df_scrap_update_idx tiene valores NaN, estos SÍ sobrescribirán los valores existentes en df_scrap_actualizado_idx.\n",
    "df_scrap_original_copia_idx.update(df_scrap_update_idx)\n",
    "\n",
    "# 4. Restablecer el índice (opcional, si quieres 'eid' de nuevo como columna)\n",
    "df_resultado_final = df_scrap_original_copia_idx.reset_index()\n"
   ]
  },
  {
   "cell_type": "code",
   "execution_count": 6,
   "id": "78e83a91",
   "metadata": {},
   "outputs": [
    {
     "data": {
      "text/html": [
       "<div>\n",
       "<style scoped>\n",
       "    .dataframe tbody tr th:only-of-type {\n",
       "        vertical-align: middle;\n",
       "    }\n",
       "\n",
       "    .dataframe tbody tr th {\n",
       "        vertical-align: top;\n",
       "    }\n",
       "\n",
       "    .dataframe thead th {\n",
       "        text-align: right;\n",
       "    }\n",
       "</style>\n",
       "<table border=\"1\" class=\"dataframe\">\n",
       "  <thead>\n",
       "    <tr style=\"text-align: right;\">\n",
       "      <th></th>\n",
       "      <th>eid</th>\n",
       "      <th>url</th>\n",
       "      <th>title</th>\n",
       "      <th>abstract</th>\n",
       "      <th>key_words</th>\n",
       "      <th>doi</th>\n",
       "      <th>isbn</th>\n",
       "      <th>issn</th>\n",
       "      <th>cuartil</th>\n",
       "      <th>document_type</th>\n",
       "      <th>source_type</th>\n",
       "      <th>publisher</th>\n",
       "      <th>language</th>\n",
       "      <th>sponsors</th>\n",
       "      <th>publication_year</th>\n",
       "      <th>page_count</th>\n",
       "      <th>info_more_full</th>\n",
       "      <th>citations_quartile</th>\n",
       "      <th>fwci_quartile</th>\n",
       "      <th>indexed_keywords</th>\n",
       "      <th>topic_prominence_name</th>\n",
       "      <th>topic_prominence_value</th>\n",
       "      <th>readers_count</th>\n",
       "      <th>news_mentions_count</th>\n",
       "      <th>citations_scopus_count</th>\n",
       "      <th>fwci_value</th>\n",
       "      <th>zero_hunger</th>\n",
       "      <th>clean_water</th>\n",
       "      <th>affordable_energy</th>\n",
       "      <th>industry_innovation</th>\n",
       "    </tr>\n",
       "  </thead>\n",
       "  <tbody>\n",
       "  </tbody>\n",
       "</table>\n",
       "</div>"
      ],
      "text/plain": [
       "Empty DataFrame\n",
       "Columns: [eid, url, title, abstract, key_words, doi, isbn, issn, cuartil, document_type, source_type, publisher, language, sponsors, publication_year, page_count, info_more_full, citations_quartile, fwci_quartile, indexed_keywords, topic_prominence_name, topic_prominence_value, readers_count, news_mentions_count, citations_scopus_count, fwci_value, zero_hunger, clean_water, affordable_energy, industry_innovation]\n",
       "Index: []"
      ]
     },
     "execution_count": 6,
     "metadata": {},
     "output_type": "execute_result"
    }
   ],
   "source": [
    "df_resultado_final[df_resultado_final[\"page_count\"].str.contains(\"-\", na=False)]"
   ]
  },
  {
   "cell_type": "code",
   "execution_count": 7,
   "id": "1a24df39",
   "metadata": {},
   "outputs": [],
   "source": [
    "# merged_df = pd.merge(df_scrap_original_copia, df_scrap_update, on=\"eid\", how=\"left\", suffixes=(\"_original\", \"_update\"))\n",
    "\n",
    "# columnas_a_actualizar = [col for col in df_scrap_update.columns if col != \"eid\"]\n",
    "\n",
    "# for col in columnas_a_actualizar:\n",
    "#     col_original = col + '_original'\n",
    "#     col_update = col + '_update'\n",
    "    \n",
    "#     if col_update in merged_df.columns and col_original in merged_df.columns:\n",
    "#         # Usar el valor de la columna _update si no es NaN, sino usar el de _original\n",
    "#         df_scrap_original_copia[col] = np.where(merged_df[col_update].notna(), merged_df[col_update], merged_df[col_original])\n",
    "#     elif col_update in merged_df.columns and col not in df_scrap_original_copia.columns:\n",
    "#         # Si la columna solo existe en la actualización y quieres añadirla (no es el caso de update())\n",
    "#         # df_scrap_original_copia[col] = merged_df[col_update]\n",
    "#         pass # Por defecto, update() no añade nuevas columnas"
   ]
  },
  {
   "cell_type": "code",
   "execution_count": 15,
   "id": "9a500ba0",
   "metadata": {},
   "outputs": [],
   "source": [
    "# df_scrap_original_copia[df_scrap_original_copia[\"page_count\"].str.contains(\"-\", na=False)]"
   ]
  },
  {
   "cell_type": "code",
   "execution_count": 9,
   "id": "3170f7fd",
   "metadata": {},
   "outputs": [],
   "source": [
    "url_selected = df_scrap_update[\"url\"].iloc[0]"
   ]
  },
  {
   "cell_type": "code",
   "execution_count": 10,
   "id": "5cf18ff5",
   "metadata": {},
   "outputs": [],
   "source": [
    "# merged_df[merged_df[\"url_original\"] == url_selected]\n"
   ]
  },
  {
   "cell_type": "code",
   "execution_count": 11,
   "id": "421d0a15",
   "metadata": {},
   "outputs": [
    {
     "data": {
      "text/html": [
       "<div>\n",
       "<style scoped>\n",
       "    .dataframe tbody tr th:only-of-type {\n",
       "        vertical-align: middle;\n",
       "    }\n",
       "\n",
       "    .dataframe tbody tr th {\n",
       "        vertical-align: top;\n",
       "    }\n",
       "\n",
       "    .dataframe thead th {\n",
       "        text-align: right;\n",
       "    }\n",
       "</style>\n",
       "<table border=\"1\" class=\"dataframe\">\n",
       "  <thead>\n",
       "    <tr style=\"text-align: right;\">\n",
       "      <th></th>\n",
       "      <th>eid</th>\n",
       "      <th>url</th>\n",
       "      <th>title</th>\n",
       "      <th>abstract</th>\n",
       "      <th>key_words</th>\n",
       "      <th>doi</th>\n",
       "      <th>isbn</th>\n",
       "      <th>issn</th>\n",
       "      <th>cuartil</th>\n",
       "      <th>document_type</th>\n",
       "      <th>source_type</th>\n",
       "      <th>publisher</th>\n",
       "      <th>language</th>\n",
       "      <th>sponsors</th>\n",
       "      <th>publication_year</th>\n",
       "      <th>page_count</th>\n",
       "      <th>info_more_full</th>\n",
       "      <th>citations_quartile</th>\n",
       "      <th>fwci_quartile</th>\n",
       "      <th>indexed_keywords</th>\n",
       "      <th>topic_prominence_name</th>\n",
       "      <th>topic_prominence_value</th>\n",
       "      <th>readers_count</th>\n",
       "      <th>news_mentions_count</th>\n",
       "      <th>citations_scopus_count</th>\n",
       "      <th>fwci_value</th>\n",
       "      <th>zero_hunger</th>\n",
       "      <th>clean_water</th>\n",
       "      <th>affordable_energy</th>\n",
       "      <th>industry_innovation</th>\n",
       "    </tr>\n",
       "  </thead>\n",
       "  <tbody>\n",
       "    <tr>\n",
       "      <th>27</th>\n",
       "      <td>2-s2.0-34547699521</td>\n",
       "      <td>https://www.scopus.com/record/display.uri?eid=...</td>\n",
       "      <td>Use of contextualized attention metadata for r...</td>\n",
       "      <td>The tools used to search and find Learning Obj...</td>\n",
       "      <td>Attention metadata, Learning objects, Ranking,...</td>\n",
       "      <td>10.1145/1183604.1183608</td>\n",
       "      <td>159593524X, 978-159593524-3</td>\n",
       "      <td>NaN</td>\n",
       "      <td>Q1</td>\n",
       "      <td>Conference Paper• Green Open Access</td>\n",
       "      <td>Conference Proceedings</td>\n",
       "      <td>NaN</td>\n",
       "      <td>English</td>\n",
       "      <td>ACM Special Interest Group on Information Retr...</td>\n",
       "      <td>2006.0</td>\n",
       "      <td>-7</td>\n",
       "      <td>Proceedings of CAMA 2006: 1st International AC...</td>\n",
       "      <td>Q3</td>\n",
       "      <td>Q4</td>\n",
       "      <td>Computer software;, Digital libraries;, Metada...</td>\n",
       "      <td>Learning Objects; E-learning; Ontology</td>\n",
       "      <td>44.577</td>\n",
       "      <td>72.0</td>\n",
       "      <td>NaN</td>\n",
       "      <td>4896th percentile</td>\n",
       "      <td>5.06</td>\n",
       "      <td>NaN</td>\n",
       "      <td>NaN</td>\n",
       "      <td>NaN</td>\n",
       "      <td>NaN</td>\n",
       "    </tr>\n",
       "  </tbody>\n",
       "</table>\n",
       "</div>"
      ],
      "text/plain": [
       "                   eid                                                url  \\\n",
       "27  2-s2.0-34547699521  https://www.scopus.com/record/display.uri?eid=...   \n",
       "\n",
       "                                                title  \\\n",
       "27  Use of contextualized attention metadata for r...   \n",
       "\n",
       "                                             abstract  \\\n",
       "27  The tools used to search and find Learning Obj...   \n",
       "\n",
       "                                            key_words  \\\n",
       "27  Attention metadata, Learning objects, Ranking,...   \n",
       "\n",
       "                        doi                         isbn issn cuartil  \\\n",
       "27  10.1145/1183604.1183608  159593524X, 978-159593524-3  NaN      Q1   \n",
       "\n",
       "                          document_type             source_type publisher  \\\n",
       "27  Conference Paper• Green Open Access  Conference Proceedings       NaN   \n",
       "\n",
       "   language                                           sponsors  \\\n",
       "27  English  ACM Special Interest Group on Information Retr...   \n",
       "\n",
       "    publication_year page_count  \\\n",
       "27            2006.0         -7   \n",
       "\n",
       "                                       info_more_full citations_quartile  \\\n",
       "27  Proceedings of CAMA 2006: 1st International AC...                 Q3   \n",
       "\n",
       "   fwci_quartile                                   indexed_keywords  \\\n",
       "27            Q4  Computer software;, Digital libraries;, Metada...   \n",
       "\n",
       "                     topic_prominence_name  topic_prominence_value  \\\n",
       "27  Learning Objects; E-learning; Ontology                  44.577   \n",
       "\n",
       "    readers_count  news_mentions_count citations_scopus_count  fwci_value  \\\n",
       "27           72.0                  NaN      4896th percentile        5.06   \n",
       "\n",
       "   zero_hunger clean_water affordable_energy industry_innovation  \n",
       "27         NaN         NaN               NaN                 NaN  "
      ]
     },
     "execution_count": 11,
     "metadata": {},
     "output_type": "execute_result"
    }
   ],
   "source": [
    "df_scrap[df_scrap[\"url\"] == url_selected]"
   ]
  },
  {
   "cell_type": "code",
   "execution_count": 12,
   "id": "664aebb7",
   "metadata": {},
   "outputs": [
    {
     "data": {
      "text/html": [
       "<div>\n",
       "<style scoped>\n",
       "    .dataframe tbody tr th:only-of-type {\n",
       "        vertical-align: middle;\n",
       "    }\n",
       "\n",
       "    .dataframe tbody tr th {\n",
       "        vertical-align: top;\n",
       "    }\n",
       "\n",
       "    .dataframe thead th {\n",
       "        text-align: right;\n",
       "    }\n",
       "</style>\n",
       "<table border=\"1\" class=\"dataframe\">\n",
       "  <thead>\n",
       "    <tr style=\"text-align: right;\">\n",
       "      <th></th>\n",
       "      <th>eid</th>\n",
       "      <th>url</th>\n",
       "      <th>title</th>\n",
       "      <th>abstract</th>\n",
       "      <th>key_words</th>\n",
       "      <th>doi</th>\n",
       "      <th>isbn</th>\n",
       "      <th>issn</th>\n",
       "      <th>cuartil</th>\n",
       "      <th>document_type</th>\n",
       "      <th>source_type</th>\n",
       "      <th>publisher</th>\n",
       "      <th>language</th>\n",
       "      <th>sponsors</th>\n",
       "      <th>publication_year</th>\n",
       "      <th>page_count</th>\n",
       "      <th>info_more_full</th>\n",
       "      <th>citations_quartile</th>\n",
       "      <th>fwci_quartile</th>\n",
       "      <th>indexed_keywords</th>\n",
       "      <th>topic_prominence_name</th>\n",
       "      <th>topic_prominence_value</th>\n",
       "      <th>readers_count</th>\n",
       "      <th>news_mentions_count</th>\n",
       "      <th>citations_scopus_count</th>\n",
       "      <th>fwci_value</th>\n",
       "      <th>zero_hunger</th>\n",
       "      <th>clean_water</th>\n",
       "      <th>affordable_energy</th>\n",
       "      <th>industry_innovation</th>\n",
       "    </tr>\n",
       "  </thead>\n",
       "  <tbody>\n",
       "    <tr>\n",
       "      <th>27</th>\n",
       "      <td>2-s2.0-34547699521</td>\n",
       "      <td>https://www.scopus.com/record/display.uri?eid=...</td>\n",
       "      <td>Use of contextualized attention metadata for r...</td>\n",
       "      <td>The tools used to search and find Learning Obj...</td>\n",
       "      <td>Attention metadata, Learning objects, Ranking,...</td>\n",
       "      <td>10.1145/1183604.1183608</td>\n",
       "      <td>159593524X, 978-159593524-3</td>\n",
       "      <td>NaN</td>\n",
       "      <td>Q4</td>\n",
       "      <td>Conference Paper• Green Open Access</td>\n",
       "      <td>Conference Proceedings</td>\n",
       "      <td>NaN</td>\n",
       "      <td>English</td>\n",
       "      <td>ACM Special Interest Group on Information Retr...</td>\n",
       "      <td>2006.0</td>\n",
       "      <td>7.0</td>\n",
       "      <td>Proceedings of CAMA 2006: 1st International AC...</td>\n",
       "      <td>Q4</td>\n",
       "      <td>Q4</td>\n",
       "      <td>Computer software;, Digital libraries;, Metada...</td>\n",
       "      <td>Learning Objects; E-learning; Ontology</td>\n",
       "      <td>44.577</td>\n",
       "      <td>72.0</td>\n",
       "      <td>NaN</td>\n",
       "      <td>4896th percentile</td>\n",
       "      <td>5.06</td>\n",
       "      <td>NaN</td>\n",
       "      <td>NaN</td>\n",
       "      <td>NaN</td>\n",
       "      <td>NaN</td>\n",
       "    </tr>\n",
       "  </tbody>\n",
       "</table>\n",
       "</div>"
      ],
      "text/plain": [
       "                   eid                                                url  \\\n",
       "27  2-s2.0-34547699521  https://www.scopus.com/record/display.uri?eid=...   \n",
       "\n",
       "                                                title  \\\n",
       "27  Use of contextualized attention metadata for r...   \n",
       "\n",
       "                                             abstract  \\\n",
       "27  The tools used to search and find Learning Obj...   \n",
       "\n",
       "                                            key_words  \\\n",
       "27  Attention metadata, Learning objects, Ranking,...   \n",
       "\n",
       "                        doi                         isbn issn cuartil  \\\n",
       "27  10.1145/1183604.1183608  159593524X, 978-159593524-3  NaN      Q4   \n",
       "\n",
       "                          document_type             source_type publisher  \\\n",
       "27  Conference Paper• Green Open Access  Conference Proceedings       NaN   \n",
       "\n",
       "   language                                           sponsors  \\\n",
       "27  English  ACM Special Interest Group on Information Retr...   \n",
       "\n",
       "    publication_year page_count  \\\n",
       "27            2006.0        7.0   \n",
       "\n",
       "                                       info_more_full citations_quartile  \\\n",
       "27  Proceedings of CAMA 2006: 1st International AC...                 Q4   \n",
       "\n",
       "   fwci_quartile                                   indexed_keywords  \\\n",
       "27            Q4  Computer software;, Digital libraries;, Metada...   \n",
       "\n",
       "                     topic_prominence_name  topic_prominence_value  \\\n",
       "27  Learning Objects; E-learning; Ontology                  44.577   \n",
       "\n",
       "    readers_count  news_mentions_count citations_scopus_count  fwci_value  \\\n",
       "27           72.0                  NaN      4896th percentile        5.06   \n",
       "\n",
       "   zero_hunger clean_water affordable_energy industry_innovation  \n",
       "27         NaN         NaN               NaN                 NaN  "
      ]
     },
     "execution_count": 12,
     "metadata": {},
     "output_type": "execute_result"
    }
   ],
   "source": [
    "df_resultado_final[df_resultado_final[\"url\"] == url_selected]"
   ]
  },
  {
   "cell_type": "code",
   "execution_count": 13,
   "id": "683b711e",
   "metadata": {},
   "outputs": [
    {
     "data": {
      "text/html": [
       "<div>\n",
       "<style scoped>\n",
       "    .dataframe tbody tr th:only-of-type {\n",
       "        vertical-align: middle;\n",
       "    }\n",
       "\n",
       "    .dataframe tbody tr th {\n",
       "        vertical-align: top;\n",
       "    }\n",
       "\n",
       "    .dataframe thead th {\n",
       "        text-align: right;\n",
       "    }\n",
       "</style>\n",
       "<table border=\"1\" class=\"dataframe\">\n",
       "  <thead>\n",
       "    <tr style=\"text-align: right;\">\n",
       "      <th></th>\n",
       "      <th>eid</th>\n",
       "      <th>url</th>\n",
       "      <th>title</th>\n",
       "      <th>abstract</th>\n",
       "      <th>key_words</th>\n",
       "      <th>doi</th>\n",
       "      <th>isbn</th>\n",
       "      <th>issn</th>\n",
       "      <th>cuartil</th>\n",
       "      <th>document_type</th>\n",
       "      <th>source_type</th>\n",
       "      <th>publisher</th>\n",
       "      <th>language</th>\n",
       "      <th>sponsors</th>\n",
       "      <th>publication_year</th>\n",
       "      <th>page_count</th>\n",
       "      <th>info_more_full</th>\n",
       "      <th>citations_quartile</th>\n",
       "      <th>fwci_quartile</th>\n",
       "      <th>indexed_keywords</th>\n",
       "      <th>topic_prominence_name</th>\n",
       "      <th>topic_prominence_value</th>\n",
       "      <th>readers_count</th>\n",
       "      <th>news_mentions_count</th>\n",
       "      <th>citations_scopus_count</th>\n",
       "      <th>fwci_value</th>\n",
       "      <th>zero_hunger</th>\n",
       "      <th>clean_water</th>\n",
       "      <th>affordable_energy</th>\n",
       "      <th>industry_innovation</th>\n",
       "    </tr>\n",
       "  </thead>\n",
       "  <tbody>\n",
       "    <tr>\n",
       "      <th>27</th>\n",
       "      <td>2-s2.0-34547699521</td>\n",
       "      <td>https://www.scopus.com/record/display.uri?eid=...</td>\n",
       "      <td>Use of contextualized attention metadata for r...</td>\n",
       "      <td>The tools used to search and find Learning Obj...</td>\n",
       "      <td>Attention metadata, Learning objects, Ranking,...</td>\n",
       "      <td>10.1145/1183604.1183608</td>\n",
       "      <td>159593524X, 978-159593524-3</td>\n",
       "      <td>NaN</td>\n",
       "      <td>Q1</td>\n",
       "      <td>Conference Paper• Green Open Access</td>\n",
       "      <td>Conference Proceedings</td>\n",
       "      <td>NaN</td>\n",
       "      <td>English</td>\n",
       "      <td>ACM Special Interest Group on Information Retr...</td>\n",
       "      <td>2006.0</td>\n",
       "      <td>-7</td>\n",
       "      <td>Proceedings of CAMA 2006: 1st International AC...</td>\n",
       "      <td>Q3</td>\n",
       "      <td>Q4</td>\n",
       "      <td>Computer software;, Digital libraries;, Metada...</td>\n",
       "      <td>Learning Objects; E-learning; Ontology</td>\n",
       "      <td>44.577</td>\n",
       "      <td>72.0</td>\n",
       "      <td>NaN</td>\n",
       "      <td>4896th percentile</td>\n",
       "      <td>5.06</td>\n",
       "      <td>NaN</td>\n",
       "      <td>NaN</td>\n",
       "      <td>NaN</td>\n",
       "      <td>NaN</td>\n",
       "    </tr>\n",
       "  </tbody>\n",
       "</table>\n",
       "</div>"
      ],
      "text/plain": [
       "                   eid                                                url  \\\n",
       "27  2-s2.0-34547699521  https://www.scopus.com/record/display.uri?eid=...   \n",
       "\n",
       "                                                title  \\\n",
       "27  Use of contextualized attention metadata for r...   \n",
       "\n",
       "                                             abstract  \\\n",
       "27  The tools used to search and find Learning Obj...   \n",
       "\n",
       "                                            key_words  \\\n",
       "27  Attention metadata, Learning objects, Ranking,...   \n",
       "\n",
       "                        doi                         isbn issn cuartil  \\\n",
       "27  10.1145/1183604.1183608  159593524X, 978-159593524-3  NaN      Q1   \n",
       "\n",
       "                          document_type             source_type publisher  \\\n",
       "27  Conference Paper• Green Open Access  Conference Proceedings       NaN   \n",
       "\n",
       "   language                                           sponsors  \\\n",
       "27  English  ACM Special Interest Group on Information Retr...   \n",
       "\n",
       "    publication_year page_count  \\\n",
       "27            2006.0         -7   \n",
       "\n",
       "                                       info_more_full citations_quartile  \\\n",
       "27  Proceedings of CAMA 2006: 1st International AC...                 Q3   \n",
       "\n",
       "   fwci_quartile                                   indexed_keywords  \\\n",
       "27            Q4  Computer software;, Digital libraries;, Metada...   \n",
       "\n",
       "                     topic_prominence_name  topic_prominence_value  \\\n",
       "27  Learning Objects; E-learning; Ontology                  44.577   \n",
       "\n",
       "    readers_count  news_mentions_count citations_scopus_count  fwci_value  \\\n",
       "27           72.0                  NaN      4896th percentile        5.06   \n",
       "\n",
       "   zero_hunger clean_water affordable_energy industry_innovation  \n",
       "27         NaN         NaN               NaN                 NaN  "
      ]
     },
     "execution_count": 13,
     "metadata": {},
     "output_type": "execute_result"
    }
   ],
   "source": [
    "df_scrap_original_copia[df_scrap_original_copia[\"url\"] == url_selected]"
   ]
  },
  {
   "cell_type": "code",
   "execution_count": null,
   "id": "93219421",
   "metadata": {},
   "outputs": [],
   "source": [
    "df_resultado_final.to_csv(\"../data/data_update/scrap_1.csv\", index=False)"
   ]
  },
  {
   "cell_type": "markdown",
   "id": "6b1f3da3",
   "metadata": {},
   "source": [
    "### Antes de scrap\n",
    "\n",
    "con valores gigantes \"-\""
   ]
  },
  {
   "cell_type": "code",
   "execution_count": 26,
   "id": "cda9a2d4",
   "metadata": {},
   "outputs": [],
   "source": [
    "df_scrap = pd.read_csv(\"../data/data_update/scrap_1.csv\")"
   ]
  },
  {
   "cell_type": "code",
   "execution_count": 27,
   "id": "51f81aaa",
   "metadata": {},
   "outputs": [
    {
     "data": {
      "text/plain": [
       "(3186, 30)"
      ]
     },
     "execution_count": 27,
     "metadata": {},
     "output_type": "execute_result"
    }
   ],
   "source": [
    "df_scrap_not_art = df_scrap[~(df_scrap[\"page_count\"].str.contains(\"Art. No. \", na=False))]\n",
    "df_scrap_not_art.shape"
   ]
  },
  {
   "cell_type": "code",
   "execution_count": 28,
   "id": "c3b94a1d",
   "metadata": {},
   "outputs": [
    {
     "data": {
      "text/plain": [
       "(2665, 30)"
      ]
     },
     "execution_count": 28,
     "metadata": {},
     "output_type": "execute_result"
    }
   ],
   "source": [
    "df_scrap_only_number = df_scrap_not_art[~df_scrap_not_art[\"page_count\"].isna()]\n",
    "df_scrap_only_number.shape"
   ]
  },
  {
   "cell_type": "code",
   "execution_count": 29,
   "id": "fbec7035",
   "metadata": {},
   "outputs": [
    {
     "name": "stderr",
     "output_type": "stream",
     "text": [
      "C:\\Users\\saraujo\\AppData\\Local\\Temp\\ipykernel_12148\\702730889.py:1: SettingWithCopyWarning: \n",
      "A value is trying to be set on a copy of a slice from a DataFrame.\n",
      "Try using .loc[row_indexer,col_indexer] = value instead\n",
      "\n",
      "See the caveats in the documentation: https://pandas.pydata.org/pandas-docs/stable/user_guide/indexing.html#returning-a-view-versus-a-copy\n",
      "  df_scrap_only_number[\"page_count\"] = df_scrap_only_number[\"page_count\"].astype(float)\n"
     ]
    }
   ],
   "source": [
    "df_scrap_only_number[\"page_count\"] = df_scrap_only_number[\"page_count\"].astype(float)"
   ]
  },
  {
   "cell_type": "code",
   "execution_count": 35,
   "id": "61948c11",
   "metadata": {},
   "outputs": [
    {
     "data": {
      "text/plain": [
       "(12, 30)"
      ]
     },
     "execution_count": 35,
     "metadata": {},
     "output_type": "execute_result"
    }
   ],
   "source": [
    "df_scrap_only_number_more_than_100 = df_scrap_only_number[df_scrap_only_number[\"page_count\"] > 100]\n",
    "df_scrap_only_number_more_than_100.shape"
   ]
  },
  {
   "cell_type": "code",
   "execution_count": 36,
   "metadata": {},
   "outputs": [],
   "source": [
    "df_scrap_only_number_more_than_100[[\"url\", \"page_count\"]].to_csv(\"../data/data_update/scrap_numbers.csv\", index=False)"
   ]
  },
  {
   "cell_type": "markdown",
   "id": "3d377c3e",
   "metadata": {},
   "source": [
    "### scrap_page_numbers"
   ]
  },
  {
   "cell_type": "code",
   "execution_count": 50,
   "id": "efeb1539",
   "metadata": {},
   "outputs": [],
   "source": [
    "df_scrap = pd.read_csv(\"..\\\\data\\\\data_update\\\\scrap_1.csv\")\n",
    "df_scrap_update = pd.read_csv(\"../data/scrap_page_numbers.csv\")"
   ]
  },
  {
   "cell_type": "code",
   "execution_count": 51,
   "id": "49b7c78d",
   "metadata": {},
   "outputs": [],
   "source": [
    "df_scrap_original_copia = df_scrap.copy()"
   ]
  },
  {
   "cell_type": "code",
   "execution_count": 52,
   "id": "b72b9541",
   "metadata": {},
   "outputs": [],
   "source": [
    "# 2. Establecer 'eid' como índice en ambos DataFrames\n",
    "# Es importante que el DataFrame que se va a actualizar (df_scrap_actualizado)\n",
    "# tenga 'eid' como índice ANTES de llamar a .update()\n",
    "df_scrap_original_copia_idx = df_scrap_original_copia.set_index('eid')\n",
    "df_scrap_update_idx = df_scrap_update.set_index('eid')\n",
    "\n",
    "# 3. Usar update()\n",
    "# Esto modificará df_scrap_actualizado_idx en el lugar.\n",
    "# Solo las columnas que existen en AMBOS DataFrames (con índice 'eid') serán actualizadas en df_scrap_actualizado_idx.\n",
    "# Si df_scrap_update_idx tiene columnas adicionales, estas NO se agregarán a df_scrap_actualizado_idx.\n",
    "# Si df_scrap_update_idx tiene valores NaN, estos SÍ sobrescribirán los valores existentes en df_scrap_actualizado_idx.\n",
    "df_scrap_original_copia_idx.update(df_scrap_update_idx)\n",
    "\n",
    "# 4. Restablecer el índice (opcional, si quieres 'eid' de nuevo como columna)\n",
    "df_resultado_final = df_scrap_original_copia_idx.reset_index()\n"
   ]
  },
  {
   "cell_type": "code",
   "execution_count": 57,
   "id": "16f02f38",
   "metadata": {},
   "outputs": [],
   "source": [
    "str_url = df_scrap_update[\"url\"].iloc[1]"
   ]
  },
  {
   "cell_type": "code",
   "execution_count": 58,
   "id": "67b8f8d2",
   "metadata": {},
   "outputs": [
    {
     "data": {
      "text/html": [
       "<div>\n",
       "<style scoped>\n",
       "    .dataframe tbody tr th:only-of-type {\n",
       "        vertical-align: middle;\n",
       "    }\n",
       "\n",
       "    .dataframe tbody tr th {\n",
       "        vertical-align: top;\n",
       "    }\n",
       "\n",
       "    .dataframe thead th {\n",
       "        text-align: right;\n",
       "    }\n",
       "</style>\n",
       "<table border=\"1\" class=\"dataframe\">\n",
       "  <thead>\n",
       "    <tr style=\"text-align: right;\">\n",
       "      <th></th>\n",
       "      <th>eid</th>\n",
       "      <th>url</th>\n",
       "      <th>title</th>\n",
       "      <th>abstract</th>\n",
       "      <th>key_words</th>\n",
       "      <th>doi</th>\n",
       "      <th>isbn</th>\n",
       "      <th>issn</th>\n",
       "      <th>cuartil</th>\n",
       "      <th>document_type</th>\n",
       "      <th>source_type</th>\n",
       "      <th>publisher</th>\n",
       "      <th>language</th>\n",
       "      <th>sponsors</th>\n",
       "      <th>publication_year</th>\n",
       "      <th>page_count</th>\n",
       "      <th>info_more_full</th>\n",
       "      <th>citations_quartile</th>\n",
       "      <th>fwci_quartile</th>\n",
       "      <th>indexed_keywords</th>\n",
       "      <th>topic_prominence_name</th>\n",
       "      <th>topic_prominence_value</th>\n",
       "      <th>readers_count</th>\n",
       "      <th>news_mentions_count</th>\n",
       "      <th>citations_scopus_count</th>\n",
       "      <th>fwci_value</th>\n",
       "      <th>zero_hunger</th>\n",
       "      <th>clean_water</th>\n",
       "      <th>affordable_energy</th>\n",
       "      <th>industry_innovation</th>\n",
       "    </tr>\n",
       "  </thead>\n",
       "  <tbody>\n",
       "    <tr>\n",
       "      <th>694</th>\n",
       "      <td>2-s2.0-85029932056</td>\n",
       "      <td>https://www.scopus.com/record/display.uri?eid=...</td>\n",
       "      <td>Interaction of the Lipopeptide Biosurfactant L...</td>\n",
       "      <td>Lichenysins produced by Bacillus licheniformis...</td>\n",
       "      <td>NaN</td>\n",
       "      <td>10.1021/acs.langmuir.7b01827</td>\n",
       "      <td>NaN</td>\n",
       "      <td>07437463</td>\n",
       "      <td>Q4</td>\n",
       "      <td>Article</td>\n",
       "      <td>Journal</td>\n",
       "      <td>American Chemical Society</td>\n",
       "      <td>English</td>\n",
       "      <td>NaN</td>\n",
       "      <td>2017.0</td>\n",
       "      <td>90056.0</td>\n",
       "      <td>LangmuirVolume 33, Issue 38, Pages 9997 - 1000...</td>\n",
       "      <td>Q4</td>\n",
       "      <td>Q4</td>\n",
       "      <td>1,2-Dipalmitoylphosphatidylcholine;, Calorimet...</td>\n",
       "      <td>Bacilli; Lipopeptide; Biological Control</td>\n",
       "      <td>98.524</td>\n",
       "      <td>58.0</td>\n",
       "      <td>NaN</td>\n",
       "      <td>2054th percentile</td>\n",
       "      <td>0.53</td>\n",
       "      <td>NaN</td>\n",
       "      <td>NaN</td>\n",
       "      <td>NaN</td>\n",
       "      <td>NaN</td>\n",
       "    </tr>\n",
       "  </tbody>\n",
       "</table>\n",
       "</div>"
      ],
      "text/plain": [
       "                    eid                                                url  \\\n",
       "694  2-s2.0-85029932056  https://www.scopus.com/record/display.uri?eid=...   \n",
       "\n",
       "                                                 title  \\\n",
       "694  Interaction of the Lipopeptide Biosurfactant L...   \n",
       "\n",
       "                                              abstract key_words  \\\n",
       "694  Lichenysins produced by Bacillus licheniformis...       NaN   \n",
       "\n",
       "                              doi isbn      issn cuartil document_type  \\\n",
       "694  10.1021/acs.langmuir.7b01827  NaN  07437463      Q4       Article   \n",
       "\n",
       "    source_type                  publisher language sponsors  \\\n",
       "694     Journal  American Chemical Society  English      NaN   \n",
       "\n",
       "     publication_year page_count  \\\n",
       "694            2017.0    90056.0   \n",
       "\n",
       "                                        info_more_full citations_quartile  \\\n",
       "694  LangmuirVolume 33, Issue 38, Pages 9997 - 1000...                 Q4   \n",
       "\n",
       "    fwci_quartile                                   indexed_keywords  \\\n",
       "694            Q4  1,2-Dipalmitoylphosphatidylcholine;, Calorimet...   \n",
       "\n",
       "                        topic_prominence_name  topic_prominence_value  \\\n",
       "694  Bacilli; Lipopeptide; Biological Control                  98.524   \n",
       "\n",
       "     readers_count  news_mentions_count citations_scopus_count  fwci_value  \\\n",
       "694           58.0                  NaN      2054th percentile        0.53   \n",
       "\n",
       "    zero_hunger clean_water affordable_energy industry_innovation  \n",
       "694         NaN         NaN               NaN                 NaN  "
      ]
     },
     "execution_count": 58,
     "metadata": {},
     "output_type": "execute_result"
    }
   ],
   "source": [
    "df_scrap[df_scrap[\"url\"] == str_url]"
   ]
  },
  {
   "cell_type": "code",
   "execution_count": 59,
   "id": "8a8efdeb",
   "metadata": {},
   "outputs": [
    {
     "data": {
      "text/html": [
       "<div>\n",
       "<style scoped>\n",
       "    .dataframe tbody tr th:only-of-type {\n",
       "        vertical-align: middle;\n",
       "    }\n",
       "\n",
       "    .dataframe tbody tr th {\n",
       "        vertical-align: top;\n",
       "    }\n",
       "\n",
       "    .dataframe thead th {\n",
       "        text-align: right;\n",
       "    }\n",
       "</style>\n",
       "<table border=\"1\" class=\"dataframe\">\n",
       "  <thead>\n",
       "    <tr style=\"text-align: right;\">\n",
       "      <th></th>\n",
       "      <th>eid</th>\n",
       "      <th>url</th>\n",
       "      <th>title</th>\n",
       "      <th>abstract</th>\n",
       "      <th>key_words</th>\n",
       "      <th>doi</th>\n",
       "      <th>isbn</th>\n",
       "      <th>issn</th>\n",
       "      <th>cuartil</th>\n",
       "      <th>document_type</th>\n",
       "      <th>source_type</th>\n",
       "      <th>publisher</th>\n",
       "      <th>language</th>\n",
       "      <th>sponsors</th>\n",
       "      <th>publication_year</th>\n",
       "      <th>page_count</th>\n",
       "      <th>info_more_full</th>\n",
       "      <th>citations_quartile</th>\n",
       "      <th>fwci_quartile</th>\n",
       "      <th>indexed_keywords</th>\n",
       "      <th>topic_prominence_name</th>\n",
       "      <th>topic_prominence_value</th>\n",
       "      <th>readers_count</th>\n",
       "      <th>news_mentions_count</th>\n",
       "      <th>citations_scopus_count</th>\n",
       "      <th>fwci_value</th>\n",
       "      <th>zero_hunger</th>\n",
       "      <th>clean_water</th>\n",
       "      <th>affordable_energy</th>\n",
       "      <th>industry_innovation</th>\n",
       "    </tr>\n",
       "  </thead>\n",
       "  <tbody>\n",
       "    <tr>\n",
       "      <th>694</th>\n",
       "      <td>2-s2.0-85029932056</td>\n",
       "      <td>https://www.scopus.com/record/display.uri?eid=...</td>\n",
       "      <td>Interaction of the Lipopeptide Biosurfactant L...</td>\n",
       "      <td>Lichenysins produced by Bacillus licheniformis...</td>\n",
       "      <td>NaN</td>\n",
       "      <td>10.1021/acs.langmuir.7b01827</td>\n",
       "      <td>NaN</td>\n",
       "      <td>07437463</td>\n",
       "      <td>Q2</td>\n",
       "      <td>Article</td>\n",
       "      <td>Journal</td>\n",
       "      <td>American Chemical Society</td>\n",
       "      <td>English</td>\n",
       "      <td>NaN</td>\n",
       "      <td>2017.0</td>\n",
       "      <td>9.0</td>\n",
       "      <td>LangmuirVolume 33, Issue 38, Pages 9997 - 1000...</td>\n",
       "      <td>Q4</td>\n",
       "      <td>Q4</td>\n",
       "      <td>1,2-Dipalmitoylphosphatidylcholine;, Calorimet...</td>\n",
       "      <td>Bacilli; Lipopeptide; Biological Control</td>\n",
       "      <td>98.524</td>\n",
       "      <td>58.0</td>\n",
       "      <td>NaN</td>\n",
       "      <td>2054th percentile</td>\n",
       "      <td>0.53</td>\n",
       "      <td>NaN</td>\n",
       "      <td>NaN</td>\n",
       "      <td>NaN</td>\n",
       "      <td>NaN</td>\n",
       "    </tr>\n",
       "  </tbody>\n",
       "</table>\n",
       "</div>"
      ],
      "text/plain": [
       "                    eid                                                url  \\\n",
       "694  2-s2.0-85029932056  https://www.scopus.com/record/display.uri?eid=...   \n",
       "\n",
       "                                                 title  \\\n",
       "694  Interaction of the Lipopeptide Biosurfactant L...   \n",
       "\n",
       "                                              abstract key_words  \\\n",
       "694  Lichenysins produced by Bacillus licheniformis...       NaN   \n",
       "\n",
       "                              doi isbn      issn cuartil document_type  \\\n",
       "694  10.1021/acs.langmuir.7b01827  NaN  07437463      Q2       Article   \n",
       "\n",
       "    source_type                  publisher language sponsors  \\\n",
       "694     Journal  American Chemical Society  English      NaN   \n",
       "\n",
       "     publication_year page_count  \\\n",
       "694            2017.0        9.0   \n",
       "\n",
       "                                        info_more_full citations_quartile  \\\n",
       "694  LangmuirVolume 33, Issue 38, Pages 9997 - 1000...                 Q4   \n",
       "\n",
       "    fwci_quartile                                   indexed_keywords  \\\n",
       "694            Q4  1,2-Dipalmitoylphosphatidylcholine;, Calorimet...   \n",
       "\n",
       "                        topic_prominence_name  topic_prominence_value  \\\n",
       "694  Bacilli; Lipopeptide; Biological Control                  98.524   \n",
       "\n",
       "     readers_count  news_mentions_count citations_scopus_count  fwci_value  \\\n",
       "694           58.0                  NaN      2054th percentile        0.53   \n",
       "\n",
       "    zero_hunger clean_water affordable_energy industry_innovation  \n",
       "694         NaN         NaN               NaN                 NaN  "
      ]
     },
     "execution_count": 59,
     "metadata": {},
     "output_type": "execute_result"
    }
   ],
   "source": [
    "df_resultado_final[df_resultado_final[\"url\"] == str_url]"
   ]
  },
  {
   "cell_type": "code",
   "execution_count": 53,
   "id": "64457f55",
   "metadata": {},
   "outputs": [],
   "source": [
    "df_resultado_final.to_csv(\"../data/data_update/scrap_2.csv\", index=False)"
   ]
  }
 ],
 "metadata": {
  "kernelspec": {
   "display_name": "Python 3",
   "language": "python",
   "name": "python3"
  },
  "language_info": {
   "codemirror_mode": {
    "name": "ipython",
    "version": 3
   },
   "file_extension": ".py",
   "mimetype": "text/x-python",
   "name": "python",
   "nbconvert_exporter": "python",
   "pygments_lexer": "ipython3",
   "version": "3.12.10"
  }
 },
 "nbformat": 4,
 "nbformat_minor": 5
}
