{
 "cells": [
  {
   "cell_type": "code",
   "execution_count": 1,
   "id": "94bfae42",
   "metadata": {},
   "outputs": [],
   "source": [
    "import pandas as pd\n",
    "\n",
    "from sklearn.model_selection import train_test_split\n",
    "from sklearn.metrics import adjusted_rand_score\n",
    "\n",
    "from sklearn.manifold import Isomap\n",
    "from sklearn.cluster import KMeans\n",
    "from sklearn.cluster import MeanShift"
   ]
  },
  {
   "cell_type": "code",
   "execution_count": 2,
   "id": "ea783baa",
   "metadata": {},
   "outputs": [],
   "source": [
    "type_standar = \"minmax\"\n",
    "# type_standar = \"zscore\""
   ]
  },
  {
   "cell_type": "code",
   "execution_count": 3,
   "id": "284c51b1",
   "metadata": {},
   "outputs": [],
   "source": [
    "# file_path = 'data/embeddings/df_tfidf_' + type_standar + '.csv'\n",
    "file_path = 'data/embeddingstrain/df_embeddings_' + type_standar + '.csv'\n",
    "df_embeddings = pd.read_csv(file_path, delimiter=',')"
   ]
  },
  {
   "cell_type": "code",
   "execution_count": 4,
   "id": "d7ddb82e",
   "metadata": {},
   "outputs": [
    {
     "data": {
      "text/html": [
       "<div>\n",
       "<style scoped>\n",
       "    .dataframe tbody tr th:only-of-type {\n",
       "        vertical-align: middle;\n",
       "    }\n",
       "\n",
       "    .dataframe tbody tr th {\n",
       "        vertical-align: top;\n",
       "    }\n",
       "\n",
       "    .dataframe thead th {\n",
       "        text-align: right;\n",
       "    }\n",
       "</style>\n",
       "<table border=\"1\" class=\"dataframe\">\n",
       "  <thead>\n",
       "    <tr style=\"text-align: right;\">\n",
       "      <th></th>\n",
       "      <th>embed_0</th>\n",
       "      <th>embed_1</th>\n",
       "      <th>embed_2</th>\n",
       "      <th>embed_3</th>\n",
       "      <th>embed_4</th>\n",
       "      <th>embed_5</th>\n",
       "      <th>embed_6</th>\n",
       "      <th>embed_7</th>\n",
       "      <th>embed_8</th>\n",
       "      <th>embed_9</th>\n",
       "      <th>...</th>\n",
       "      <th>embed_378</th>\n",
       "      <th>embed_379</th>\n",
       "      <th>embed_380</th>\n",
       "      <th>embed_381</th>\n",
       "      <th>embed_382</th>\n",
       "      <th>embed_383</th>\n",
       "      <th>ANIO</th>\n",
       "      <th>VOLUMEN</th>\n",
       "      <th>CUARTIL</th>\n",
       "      <th>PAGINAS</th>\n",
       "    </tr>\n",
       "  </thead>\n",
       "  <tbody>\n",
       "    <tr>\n",
       "      <th>0</th>\n",
       "      <td>-0.229880</td>\n",
       "      <td>0.249529</td>\n",
       "      <td>0.081523</td>\n",
       "      <td>0.202636</td>\n",
       "      <td>-0.193608</td>\n",
       "      <td>-0.030638</td>\n",
       "      <td>0.188579</td>\n",
       "      <td>-0.098298</td>\n",
       "      <td>-0.218437</td>\n",
       "      <td>-0.088780</td>\n",
       "      <td>...</td>\n",
       "      <td>-0.042838</td>\n",
       "      <td>-0.232117</td>\n",
       "      <td>-0.262647</td>\n",
       "      <td>0.127149</td>\n",
       "      <td>-0.106181</td>\n",
       "      <td>-0.089396</td>\n",
       "      <td>1.000000</td>\n",
       "      <td>0.000009</td>\n",
       "      <td>0.00</td>\n",
       "      <td>0.113402</td>\n",
       "    </tr>\n",
       "    <tr>\n",
       "      <th>1</th>\n",
       "      <td>-0.012822</td>\n",
       "      <td>0.149340</td>\n",
       "      <td>0.024315</td>\n",
       "      <td>-0.009801</td>\n",
       "      <td>0.088035</td>\n",
       "      <td>-0.033907</td>\n",
       "      <td>0.111280</td>\n",
       "      <td>-0.171367</td>\n",
       "      <td>-0.193791</td>\n",
       "      <td>0.289990</td>\n",
       "      <td>...</td>\n",
       "      <td>0.178573</td>\n",
       "      <td>-0.004228</td>\n",
       "      <td>-0.047453</td>\n",
       "      <td>-0.051901</td>\n",
       "      <td>0.115226</td>\n",
       "      <td>0.034473</td>\n",
       "      <td>1.000000</td>\n",
       "      <td>0.000010</td>\n",
       "      <td>0.25</td>\n",
       "      <td>0.164948</td>\n",
       "    </tr>\n",
       "    <tr>\n",
       "      <th>2</th>\n",
       "      <td>-0.055708</td>\n",
       "      <td>0.190835</td>\n",
       "      <td>-0.065515</td>\n",
       "      <td>0.225034</td>\n",
       "      <td>0.369172</td>\n",
       "      <td>0.113739</td>\n",
       "      <td>0.287937</td>\n",
       "      <td>-0.156514</td>\n",
       "      <td>-0.296518</td>\n",
       "      <td>0.024632</td>\n",
       "      <td>...</td>\n",
       "      <td>0.300612</td>\n",
       "      <td>-0.066641</td>\n",
       "      <td>-0.076587</td>\n",
       "      <td>-0.150014</td>\n",
       "      <td>0.088423</td>\n",
       "      <td>-0.016509</td>\n",
       "      <td>1.000000</td>\n",
       "      <td>0.000006</td>\n",
       "      <td>0.25</td>\n",
       "      <td>0.154639</td>\n",
       "    </tr>\n",
       "    <tr>\n",
       "      <th>3</th>\n",
       "      <td>0.137942</td>\n",
       "      <td>0.176798</td>\n",
       "      <td>-0.032310</td>\n",
       "      <td>0.311785</td>\n",
       "      <td>0.261316</td>\n",
       "      <td>0.186766</td>\n",
       "      <td>0.018803</td>\n",
       "      <td>-0.187183</td>\n",
       "      <td>-0.103112</td>\n",
       "      <td>0.044219</td>\n",
       "      <td>...</td>\n",
       "      <td>0.363133</td>\n",
       "      <td>0.012749</td>\n",
       "      <td>-0.090156</td>\n",
       "      <td>-0.091900</td>\n",
       "      <td>-0.104825</td>\n",
       "      <td>0.144255</td>\n",
       "      <td>0.888889</td>\n",
       "      <td>0.000010</td>\n",
       "      <td>0.25</td>\n",
       "      <td>0.185567</td>\n",
       "    </tr>\n",
       "    <tr>\n",
       "      <th>4</th>\n",
       "      <td>-0.118311</td>\n",
       "      <td>-0.016865</td>\n",
       "      <td>0.039658</td>\n",
       "      <td>0.219906</td>\n",
       "      <td>-0.250331</td>\n",
       "      <td>0.054814</td>\n",
       "      <td>-0.052862</td>\n",
       "      <td>0.115424</td>\n",
       "      <td>-0.129113</td>\n",
       "      <td>-0.247627</td>\n",
       "      <td>...</td>\n",
       "      <td>-0.027158</td>\n",
       "      <td>-0.341358</td>\n",
       "      <td>-0.035781</td>\n",
       "      <td>0.166203</td>\n",
       "      <td>-0.286782</td>\n",
       "      <td>0.024610</td>\n",
       "      <td>1.000000</td>\n",
       "      <td>0.000810</td>\n",
       "      <td>0.75</td>\n",
       "      <td>0.082474</td>\n",
       "    </tr>\n",
       "  </tbody>\n",
       "</table>\n",
       "<p>5 rows × 388 columns</p>\n",
       "</div>"
      ],
      "text/plain": [
       "    embed_0   embed_1   embed_2   embed_3   embed_4   embed_5   embed_6  \\\n",
       "0 -0.229880  0.249529  0.081523  0.202636 -0.193608 -0.030638  0.188579   \n",
       "1 -0.012822  0.149340  0.024315 -0.009801  0.088035 -0.033907  0.111280   \n",
       "2 -0.055708  0.190835 -0.065515  0.225034  0.369172  0.113739  0.287937   \n",
       "3  0.137942  0.176798 -0.032310  0.311785  0.261316  0.186766  0.018803   \n",
       "4 -0.118311 -0.016865  0.039658  0.219906 -0.250331  0.054814 -0.052862   \n",
       "\n",
       "    embed_7   embed_8   embed_9  ...  embed_378  embed_379  embed_380  \\\n",
       "0 -0.098298 -0.218437 -0.088780  ...  -0.042838  -0.232117  -0.262647   \n",
       "1 -0.171367 -0.193791  0.289990  ...   0.178573  -0.004228  -0.047453   \n",
       "2 -0.156514 -0.296518  0.024632  ...   0.300612  -0.066641  -0.076587   \n",
       "3 -0.187183 -0.103112  0.044219  ...   0.363133   0.012749  -0.090156   \n",
       "4  0.115424 -0.129113 -0.247627  ...  -0.027158  -0.341358  -0.035781   \n",
       "\n",
       "   embed_381  embed_382  embed_383      ANIO   VOLUMEN  CUARTIL   PAGINAS  \n",
       "0   0.127149  -0.106181  -0.089396  1.000000  0.000009     0.00  0.113402  \n",
       "1  -0.051901   0.115226   0.034473  1.000000  0.000010     0.25  0.164948  \n",
       "2  -0.150014   0.088423  -0.016509  1.000000  0.000006     0.25  0.154639  \n",
       "3  -0.091900  -0.104825   0.144255  0.888889  0.000010     0.25  0.185567  \n",
       "4   0.166203  -0.286782   0.024610  1.000000  0.000810     0.75  0.082474  \n",
       "\n",
       "[5 rows x 388 columns]"
      ]
     },
     "execution_count": 4,
     "metadata": {},
     "output_type": "execute_result"
    }
   ],
   "source": [
    "df_embeddings.head()"
   ]
  },
  {
   "cell_type": "code",
   "execution_count": 5,
   "id": "ed8bcda7",
   "metadata": {},
   "outputs": [],
   "source": [
    "# Parámetros del modelo\n",
    "n_clusters = 2\n",
    "n_components = 2  # Dimensiones para Isomap\n",
    "\n",
    "# Paso 1: Aplicar Isomap a todos los datos\n",
    "isomap = Isomap(n_components=n_components)\n",
    "data_reducido = isomap.fit_transform(df_embeddings)  # Aplicar Isomap a todo el \n",
    "\n",
    "df_reducido = pd.DataFrame(data_reducido, columns=['Isomap1', 'Isomap2'])"
   ]
  },
  {
   "cell_type": "code",
   "execution_count": 6,
   "id": "11dc26de",
   "metadata": {},
   "outputs": [],
   "source": [
    "# Paso 2: Dividir en entrenamiento y prueba\n",
    "train_data, test_data = train_test_split(df_reducido, test_size=0.2, random_state=42)"
   ]
  },
  {
   "cell_type": "code",
   "execution_count": 7,
   "id": "b3904991",
   "metadata": {},
   "outputs": [],
   "source": [
    "# Paso 3: Entrenar K-Means en todo el dataset reducido para obtener los clusters completos\n",
    "kmeans_completo = KMeans(n_clusters=n_clusters, random_state=42)\n",
    "kmeans_completo.fit(df_reducido)\n",
    "clusters_completos = kmeans_completo.predict(df_reducido)\n",
    "df_reducido['Cluster_Completo'] = clusters_completos  # Añadir columna de clusters completos\n",
    "\n",
    "# ms_completo = MeanShift(bin_seeding=True)\n",
    "# ms_completo.fit(df_reducido)\n",
    "# clusters_completos = ms_completo.predict(df_reducido)\n",
    "# df_reducido['Cluster_Completo'] = clusters_completos"
   ]
  },
  {
   "cell_type": "code",
   "execution_count": 8,
   "id": "32b77c8d",
   "metadata": {},
   "outputs": [],
   "source": [
    "# Paso 4: Entrenar K-Means en el conjunto de entrenamiento\n",
    "kmeans_train = KMeans(n_clusters=n_clusters, random_state=42)\n",
    "kmeans_train.fit(train_data)\n",
    "clusters_train = kmeans_train.predict(test_data)\n",
    "\n",
    "# ms_train = MeanShift(bin_seeding=True)\n",
    "# ms_train.fit(train_data)\n",
    "# clusters_train = ms_train.predict(test_data)"
   ]
  },
  {
   "cell_type": "code",
   "execution_count": 9,
   "id": "159b62e9",
   "metadata": {},
   "outputs": [
    {
     "name": "stdout",
     "output_type": "stream",
     "text": [
      "Concordancia entre clusters en conjunto de prueba y modelo completo (Adjusted Rand Index): -0.020788246787776857\n"
     ]
    }
   ],
   "source": [
    "# Paso 5: Comparar los clusters del conjunto de prueba con los clusters originales generados con todo el dataset\n",
    "# (utilizamos adjusted_rand_score para ver la concordancia entre los dos agrupamientos)\n",
    "\n",
    "clusters_test_original = kmeans_completo.predict(test_data)  # Clusters originales en el conjunto de prueba\n",
    "# clusters_test_original = ms_completo.predict(test_data)  # Clusters originales en el conjunto de prueba\n",
    "\n",
    "concordancia = adjusted_rand_score(clusters_test_original, clusters_train)\n",
    "\n",
    "print(\"Concordancia entre clusters en conjunto de prueba y modelo completo (Adjusted Rand Index):\", concordancia)"
   ]
  },
  {
   "cell_type": "code",
   "execution_count": 10,
   "id": "207a5fc1",
   "metadata": {},
   "outputs": [
    {
     "data": {
      "text/plain": [
       "array([1, 0, 1, 0, 0, 0, 0, 0, 1, 0, 1, 0, 0, 0, 0, 0, 1, 1, 1, 0, 0, 0,\n",
       "       0, 1, 1, 1, 0, 1, 0, 0, 0, 0, 0, 1, 0, 0, 1, 1, 0, 0, 0, 0, 0, 0,\n",
       "       1, 0, 0, 0, 0, 1, 0, 0, 0, 0, 1, 0, 0, 0, 0, 1, 0, 0, 0, 1, 0, 0,\n",
       "       1])"
      ]
     },
     "execution_count": 10,
     "metadata": {},
     "output_type": "execute_result"
    }
   ],
   "source": [
    "clusters_test_original"
   ]
  },
  {
   "cell_type": "code",
   "execution_count": 11,
   "id": "35f7300f",
   "metadata": {},
   "outputs": [
    {
     "data": {
      "text/plain": [
       "array([0, 1, 1, 1, 1, 1, 1, 1, 1, 0, 0, 1, 0, 1, 0, 0, 1, 1, 1, 0, 1, 1,\n",
       "       0, 1, 0, 1, 0, 1, 1, 1, 1, 0, 1, 1, 0, 0, 1, 1, 1, 0, 0, 1, 0, 1,\n",
       "       1, 0, 1, 1, 1, 0, 1, 1, 0, 1, 1, 0, 0, 0, 1, 1, 1, 1, 1, 1, 0, 0,\n",
       "       0])"
      ]
     },
     "execution_count": 11,
     "metadata": {},
     "output_type": "execute_result"
    }
   ],
   "source": [
    "clusters_train"
   ]
  }
 ],
 "metadata": {
  "kernelspec": {
   "display_name": "Python 3",
   "language": "python",
   "name": "python3"
  },
  "language_info": {
   "codemirror_mode": {
    "name": "ipython",
    "version": 3
   },
   "file_extension": ".py",
   "mimetype": "text/x-python",
   "name": "python",
   "nbconvert_exporter": "python",
   "pygments_lexer": "ipython3",
   "version": "3.12.10"
  }
 },
 "nbformat": 4,
 "nbformat_minor": 5
}
