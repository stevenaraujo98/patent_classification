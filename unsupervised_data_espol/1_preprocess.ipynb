{
 "cells": [
  {
   "cell_type": "code",
   "execution_count": 1,
   "id": "80eed832",
   "metadata": {},
   "outputs": [],
   "source": [
    "import pandas as pd\n",
    "import spacy\n",
    "from spacy.lang.es.stop_words import STOP_WORDS as STOP_WORDS_ES\n",
    "from spacy.lang.en.stop_words import STOP_WORDS as STOP_WORDS_EN\n",
    "import string"
   ]
  },
  {
   "cell_type": "code",
   "execution_count": 2,
   "id": "e211b4d9",
   "metadata": {},
   "outputs": [],
   "source": [
    "# pd.set_option('display.max_rows', None)\n",
    "pd.set_option('display.max_columns', None)"
   ]
  },
  {
   "cell_type": "code",
   "execution_count": 3,
   "id": "8d962152",
   "metadata": {},
   "outputs": [],
   "source": [
    "name_file = \"sample2.csv\""
   ]
  },
  {
   "cell_type": "code",
   "execution_count": 4,
   "id": "9ee1ef0e",
   "metadata": {},
   "outputs": [],
   "source": [
    "# Cargar los datos\n",
    "file_path = './data/originals/' + name_file\n",
    "df_all = pd.read_csv(file_path, delimiter=',')"
   ]
  },
  {
   "cell_type": "code",
   "execution_count": 5,
   "id": "6de11060",
   "metadata": {},
   "outputs": [
    {
     "data": {
      "text/plain": [
       "(494, 61)"
      ]
     },
     "execution_count": 5,
     "metadata": {},
     "output_type": "execute_result"
    }
   ],
   "source": [
    "df_all.shape"
   ]
  },
  {
   "cell_type": "code",
   "execution_count": 6,
   "id": "1733a69f",
   "metadata": {},
   "outputs": [
    {
     "data": {
      "text/plain": [
       "Index(['NOMBRE', 'IDDECINVPROYECTOPRODTERMIN', 'IDDECINVPROYECTO',\n",
       "       'IDDECINVTIPOPRODUCTOESPERADO', 'TITULO', 'ANIO', 'VOLUMEN', 'PAGINAS',\n",
       "       'NOMBREREVISTA', 'ISINDEX', 'BDREVISTA', 'ISSN', 'FACTIMPACTO',\n",
       "       'EDITORIAL', 'ESTADOPUBLICACION', 'ESPECIFICACION', 'URL',\n",
       "       'ULTIMO_CAMBIO', 'NEVENTO', 'LEVENTO', 'FEVENTO', 'ADJUNTO',\n",
       "       'FECHAPUBLICACION', 'RESUMEN', 'KEYS', 'ASIST_OBJETIV',\n",
       "       'INNOVA_VERIFIC', 'LOGROS_SISTEMAC', 'RETOS_COMUNIC', 'IDUNIDAD',\n",
       "       'TIPOLAB', 'MARCA', 'MODELO', 'SERIE', 'INVENTARIO', 'ESTADO',\n",
       "       'FRECUENCIA', 'FVENCIMIENTO', 'SJR', 'CUARTIL', 'IDDECINVREVISTA',\n",
       "       'APROBADO', 'IDDECINVMOTIVOPRODTERMIN', 'OBSERVACIONARPOB',\n",
       "       'IDPUBLICACIONPERSONA', 'ADJUNTO2', 'ADJUNTO3', 'ADJUNTO4',\n",
       "       'CODIGOPRODUCTO', 'TIPOTESIS', 'REVISIONPARES', 'DOI', 'INVENTOR',\n",
       "       'SUBCLASE', 'URLREVISTA', 'MATERIAINTEGRADORA', 'NUMEROSOLICITUD',\n",
       "       'OBJGENERAL', 'ESTAELIMINADO', 'REFARCHIVO', 'ENLACE_FINAL'],\n",
       "      dtype='object')"
      ]
     },
     "execution_count": 6,
     "metadata": {},
     "output_type": "execute_result"
    }
   ],
   "source": [
    "df_all.keys()"
   ]
  },
  {
   "cell_type": "code",
   "execution_count": 7,
   "id": "fc048ff5",
   "metadata": {},
   "outputs": [],
   "source": [
    "# df_all.head()"
   ]
  },
  {
   "cell_type": "code",
   "execution_count": 8,
   "id": "b32e7aea",
   "metadata": {},
   "outputs": [],
   "source": [
    "data = df_all[[#'IDDECINVPROYECTOPRODTERMIN', 'IDDECINVPROYECTO', \n",
    "                 'IDDECINVTIPOPRODUCTOESPERADO', \"TITULO\", \"ANIO\", \"VOLUMEN\", \"PAGINAS\", \"ISSN\", \"DOI\", \"RESUMEN\", \"KEYS\", \"ENLACE_FINAL\", \"CUARTIL\", \"OBJGENERAL\"]]"
   ]
  },
  {
   "cell_type": "markdown",
   "id": "2748d722",
   "metadata": {},
   "source": [
    "###### Eliminar filas resumen vacio"
   ]
  },
  {
   "cell_type": "code",
   "execution_count": 9,
   "id": "738ad6d9",
   "metadata": {},
   "outputs": [],
   "source": [
    "data = data.dropna(subset=['RESUMEN'])"
   ]
  },
  {
   "cell_type": "markdown",
   "id": "60832d88",
   "metadata": {},
   "source": [
    "##### Filtro de repetidos y nulos para DOI, CUARTIL Y PAGINAS"
   ]
  },
  {
   "cell_type": "code",
   "execution_count": 10,
   "id": "9fbc7403",
   "metadata": {},
   "outputs": [],
   "source": [
    "# Función mejorada para verificar si PAGINAS es numérica y menor a 100\n",
    "def es_pagina_valida(x):\n",
    "    try:\n",
    "        # Convertir a numérico y verificar si es menor a 100\n",
    "        return pd.to_numeric(x, errors='coerce') < 100\n",
    "    except:\n",
    "        return False"
   ]
  },
  {
   "cell_type": "code",
   "execution_count": 11,
   "id": "0045bdd1",
   "metadata": {},
   "outputs": [
    {
     "name": "stdout",
     "output_type": "stream",
     "text": [
      "Tipo de dato de la columna PAGINAS:\n",
      "object\n"
     ]
    }
   ],
   "source": [
    "# Mostrar el tipo de dato de la columna PAGINAS\n",
    "print(\"Tipo de dato de la columna PAGINAS:\")\n",
    "print(data['PAGINAS'].dtype)\n",
    "# print(\"\\nValores de PAGINAS:\")\n",
    "# print(data['PAGINAS'])\n",
    "\n",
    "# # Probar la función con cada valor\n",
    "# print(\"\\nPrueba de validación de páginas:\")\n",
    "# for pagina in data['PAGINAS']:\n",
    "#     print(f\"Página: {pagina}, Es válida?: {es_pagina_valida(pagina)}\")"
   ]
  },
  {
   "cell_type": "code",
   "execution_count": 12,
   "id": "4de4f31b",
   "metadata": {},
   "outputs": [],
   "source": [
    "# Crear columnas auxiliares para el ordenamiento\n",
    "data['doi_valido'] = data['DOI'].notna()\n",
    "data['cuartil_valido'] = data['CUARTIL'].notna()\n",
    "data['paginas_validas'] = data['PAGINAS'].apply(es_pagina_valida)\n",
    "\n",
    "# Ordenar el DataFrame por las condiciones\n",
    "df_sorted = data.sort_values(\n",
    "    by=['TITULO', 'doi_valido', 'cuartil_valido', 'paginas_validas'],\n",
    "    ascending=[True, False, False, False]\n",
    ")"
   ]
  },
  {
   "cell_type": "code",
   "execution_count": 13,
   "id": "cae9ff26",
   "metadata": {},
   "outputs": [],
   "source": [
    "# data[~data['cuartil_valido']]"
   ]
  },
  {
   "cell_type": "code",
   "execution_count": 14,
   "id": "839a0047",
   "metadata": {},
   "outputs": [],
   "source": [
    "# Eliminar duplicados manteniendo la primera ocurrencia\n",
    "df_final = df_sorted.drop_duplicates(subset=['TITULO'], keep='first')\n",
    "\n",
    "# Eliminar columnas auxiliares\n",
    "df_final = df_final.drop(['doi_valido', 'cuartil_valido', 'paginas_validas'], axis=1)"
   ]
  },
  {
   "cell_type": "code",
   "execution_count": 15,
   "id": "dc36282e",
   "metadata": {},
   "outputs": [
    {
     "name": "stdout",
     "output_type": "stream",
     "text": [
      "DataFrame final después de eliminar duplicados con las condiciones especificadas:\n"
     ]
    },
    {
     "data": {
      "text/plain": [
       "((443, 12), (467, 15))"
      ]
     },
     "execution_count": 15,
     "metadata": {},
     "output_type": "execute_result"
    }
   ],
   "source": [
    "print(\"DataFrame final después de eliminar duplicados con las condiciones especificadas:\")\n",
    "df_final.shape, data.shape"
   ]
  },
  {
   "cell_type": "code",
   "execution_count": 16,
   "id": "850acb18",
   "metadata": {},
   "outputs": [],
   "source": [
    "data = df_final.copy()"
   ]
  },
  {
   "cell_type": "markdown",
   "id": "00e2b6d0",
   "metadata": {},
   "source": [
    "##### Cuantificación de variables"
   ]
  },
  {
   "cell_type": "markdown",
   "id": "f6b9c9aa",
   "metadata": {},
   "source": [
    "###### CUARTIL"
   ]
  },
  {
   "cell_type": "code",
   "execution_count": 17,
   "id": "1874ea5e",
   "metadata": {},
   "outputs": [],
   "source": [
    "# Función para convertir cuartiles a números\n",
    "def convertir_cuartil(cuartil):\n",
    "    if pd.isna(cuartil):\n",
    "        return 0\n",
    "    # Usando un diccionario para el mapeo\n",
    "    cuartil_map = {'Q1': 1, 'Q2': 2, 'Q3': 3, 'Q4': 4, \"SQ\": 0}\n",
    "    return cuartil_map.get(cuartil, 5)"
   ]
  },
  {
   "cell_type": "code",
   "execution_count": 18,
   "id": "7fae7040",
   "metadata": {},
   "outputs": [],
   "source": [
    "# from sklearn.preprocessing import LabelEncoder\n",
    "\n",
    "# object_cols = [\"CUARTIL\"]\n",
    "# #Utilizamos el Label Encoding \n",
    "# LE=LabelEncoder()\n",
    "# for i in object_cols:\n",
    "#     data[i]=data[[i]].apply(LE.fit_transform)\n",
    "    \n",
    "# print(\"Ahora las características son numéricas\")\n",
    "# data"
   ]
  },
  {
   "cell_type": "code",
   "execution_count": 19,
   "id": "d9d528cc",
   "metadata": {},
   "outputs": [],
   "source": [
    "data['CUARTIL'] = data['CUARTIL'].apply(convertir_cuartil)"
   ]
  },
  {
   "cell_type": "code",
   "execution_count": 20,
   "id": "db822b5d",
   "metadata": {},
   "outputs": [
    {
     "data": {
      "text/plain": [
       "array([0, 1, 3, 2, 4], dtype=int64)"
      ]
     },
     "execution_count": 20,
     "metadata": {},
     "output_type": "execute_result"
    }
   ],
   "source": [
    "data['CUARTIL'].unique()"
   ]
  },
  {
   "cell_type": "markdown",
   "id": "c55c1ebc",
   "metadata": {},
   "source": [
    "###### PAGINAS"
   ]
  },
  {
   "cell_type": "code",
   "execution_count": 21,
   "id": "f7d5b670",
   "metadata": {},
   "outputs": [],
   "source": [
    "def extraer_paginas(texto):\n",
    "    limit_page = 150\n",
    "\n",
    "    if pd.isna(texto):\n",
    "        return None\n",
    "    \n",
    "    texto = str(texto).lower().strip()\n",
    "    \n",
    "    # Casos a descartar\n",
    "    if texto in ['nn', 's/n', 'online']:\n",
    "        return None\n",
    "        \n",
    "    # Caso: \"091002 (17 pages)\" - extraer número entre paréntesis\n",
    "    if 'pages)' in texto:\n",
    "        import re\n",
    "        match = re.search(r'\\((\\d+)\\s*pages\\)', texto)\n",
    "        if match:\n",
    "            return int(match.group(1))\n",
    "    \n",
    "    # Caso: \"p. 8843.\" - extraer número después de p. o pp.\n",
    "    if texto.startswith('p.') or texto.startswith('pp.'):\n",
    "        import re\n",
    "        numeros = re.findall(r'\\d+', texto)\n",
    "        if numeros:\n",
    "            num = int(numeros[0])\n",
    "            return num if num < limit_page else None\n",
    "    \n",
    "    # Caso: rango de páginas (e.g., \"1026-1042\")\n",
    "    if '-' in texto:\n",
    "        try:\n",
    "            inicio, fin = map(int, texto.replace('pp.', '').replace('p.', '').strip().split('-'))\n",
    "            if fin > inicio and (fin - inicio) < limit_page:  # verificación razonable\n",
    "                return fin - inicio + 1\n",
    "        except:\n",
    "            return None\n",
    "    \n",
    "    # Caso: número simple\n",
    "    try:\n",
    "        import re\n",
    "        numeros = re.findall(r'\\d+', texto)\n",
    "        if numeros:\n",
    "            num = int(numeros[0])\n",
    "            return num if num < limit_page else None\n",
    "    except:\n",
    "        return None\n",
    "    \n",
    "    return None"
   ]
  },
  {
   "cell_type": "code",
   "execution_count": 22,
   "id": "ca03fa81",
   "metadata": {},
   "outputs": [],
   "source": [
    "# Aplicar la función y convertir a tipo Int64\n",
    "data['PAGINAS'] = pd.Series(data['PAGINAS'].apply(extraer_paginas), dtype='Int64')"
   ]
  },
  {
   "cell_type": "code",
   "execution_count": 23,
   "id": "5724c21c",
   "metadata": {},
   "outputs": [
    {
     "data": {
      "text/plain": [
       "<IntegerArray>\n",
       "[  11, <NA>,   16,   15,   18,    8,    7,   10,    6,    5,   17,   21,    3,\n",
       "   14,   29,   12,    4,   20,    9,   33,    2,   25,   30,    0,   19,    1,\n",
       "   31,   32,   27,   22,   34,   69,   13,   37,   97,   35,   26,   53,   24,\n",
       "   23,   39,   42,   44,   49,   28]\n",
       "Length: 45, dtype: Int64"
      ]
     },
     "execution_count": 23,
     "metadata": {},
     "output_type": "execute_result"
    }
   ],
   "source": [
    "data['PAGINAS'].unique()"
   ]
  },
  {
   "cell_type": "code",
   "execution_count": 24,
   "id": "e6e95689",
   "metadata": {},
   "outputs": [],
   "source": [
    "# data[data['PAGINAS_NUM'] == 0]"
   ]
  },
  {
   "cell_type": "code",
   "execution_count": 25,
   "id": "ca90bcea",
   "metadata": {},
   "outputs": [
    {
     "name": "stdout",
     "output_type": "stream",
     "text": [
      "(443, 12)\n",
      "(333, 12)\n"
     ]
    }
   ],
   "source": [
    "# de la columna PAGINAS_NUM descartar los 0 y los nulos\n",
    "print(data.shape)\n",
    "data = data[(~data[\"PAGINAS\"].isna())] #& data[\"PAGINAS_NUM\"] > 0)]\n",
    "print(data.shape) # 340 o 148"
   ]
  },
  {
   "cell_type": "code",
   "execution_count": 26,
   "id": "b3861c39",
   "metadata": {},
   "outputs": [
    {
     "data": {
      "text/plain": [
       "<IntegerArray>\n",
       "[11, 16, 15, 18,  8,  7, 10,  6,  5, 17, 21,  3, 14, 29, 12,  4, 20,  9, 33,\n",
       "  2, 25, 30,  0, 19,  1, 31, 32, 27, 22, 34, 69, 13, 37, 97, 35, 26, 53, 24,\n",
       " 23, 39, 42, 44, 49, 28]\n",
       "Length: 44, dtype: Int64"
      ]
     },
     "execution_count": 26,
     "metadata": {},
     "output_type": "execute_result"
    }
   ],
   "source": [
    "data['PAGINAS'].unique()"
   ]
  },
  {
   "cell_type": "markdown",
   "id": "2e820df9",
   "metadata": {},
   "source": [
    "##### Preprocesamiento de textos \n",
    "Lematizacion y union de las variables TITULO, RESUMEN, KEYS"
   ]
  },
  {
   "cell_type": "code",
   "execution_count": null,
   "id": "993a21fa",
   "metadata": {},
   "outputs": [],
   "source": [
    "# # modelo en español de spaCy\n",
    "# !python -m spacy download es_core_news_sm"
   ]
  },
  {
   "cell_type": "code",
   "execution_count": null,
   "id": "d5260327",
   "metadata": {},
   "outputs": [],
   "source": [
    "# Cargar modelo spaCy español\n",
    "nlp = spacy.load(\"es_core_news_sm\")\n",
    "# Stopwords en español y en inglés\n",
    "stop_words = set(STOP_WORDS_ES) | set(STOP_WORDS_EN)\n",
    "\n",
    "\n",
    "# from nltk.corpus import stopwords\n",
    "# nltk.download('stopwords')\n",
    "# stopwords_es = set(stopwords.words('spanish'))\n",
    "# stopwords_en = set(stopwords.words('english'))\n",
    "# stop_words = stopwords_es | stopwords_en"
   ]
  },
  {
   "cell_type": "code",
   "execution_count": null,
   "id": "0017371f",
   "metadata": {},
   "outputs": [],
   "source": [
    "# Función de limpieza y lematización\n",
    "def procesar_texto(texto):\n",
    "    if pd.isna(texto):\n",
    "        return \"\"\n",
    "    # Unicode, minúsculas, quitar puntuación\n",
    "    texto = texto.lower().translate(str.maketrans('', '', string.punctuation))\n",
    "    # Procesar con spaCy\n",
    "    doc = nlp(texto)\n",
    "\n",
    "    # Lematizar y quitar stop_words\n",
    "    tokens = [token.lemma_ for token in doc if token.lemma_ not in stop_words and not token.is_punct and not token.is_space]\n",
    "    return \" \".join(tokens)\n",
    "\n",
    "# Unir columnas y procesar\n",
    "def crear_corpus(row):\n",
    "    texto = \" \".join([str(row['TITULO']), str(row['RESUMEN']), str(row['KEYS'])])\n",
    "    return procesar_texto(texto)"
   ]
  },
  {
   "cell_type": "code",
   "execution_count": 29,
   "id": "0ca76871",
   "metadata": {},
   "outputs": [],
   "source": [
    "# Crear campo corpus\n",
    "data['CORPUS'] = data.apply(crear_corpus, axis=1)\n",
    "\n",
    "# print(data[['corpus']])"
   ]
  },
  {
   "cell_type": "markdown",
   "id": "3afee549",
   "metadata": {},
   "source": [
    "##### Eliminacionde columnas innecesarias"
   ]
  },
  {
   "cell_type": "code",
   "execution_count": 30,
   "id": "676abdc0",
   "metadata": {},
   "outputs": [],
   "source": [
    "lista_de_columnas = ['TITULO', 'RESUMEN', 'KEYS', 'OBJGENERAL', 'ISSN', 'ENLACE_FINAL']\n",
    "# OBJGENERAL todo es nulo actualmente \n",
    "# ISSN hay algunos vacios\n",
    "data.drop(columns=lista_de_columnas, axis=1, inplace=True)"
   ]
  },
  {
   "cell_type": "code",
   "execution_count": 31,
   "id": "51af0103",
   "metadata": {},
   "outputs": [
    {
     "data": {
      "text/html": [
       "<div>\n",
       "<style scoped>\n",
       "    .dataframe tbody tr th:only-of-type {\n",
       "        vertical-align: middle;\n",
       "    }\n",
       "\n",
       "    .dataframe tbody tr th {\n",
       "        vertical-align: top;\n",
       "    }\n",
       "\n",
       "    .dataframe thead th {\n",
       "        text-align: right;\n",
       "    }\n",
       "</style>\n",
       "<table border=\"1\" class=\"dataframe\">\n",
       "  <thead>\n",
       "    <tr style=\"text-align: right;\">\n",
       "      <th></th>\n",
       "      <th>IDDECINVTIPOPRODUCTOESPERADO</th>\n",
       "      <th>ANIO</th>\n",
       "      <th>VOLUMEN</th>\n",
       "      <th>PAGINAS</th>\n",
       "      <th>DOI</th>\n",
       "      <th>CUARTIL</th>\n",
       "      <th>CORPUS</th>\n",
       "    </tr>\n",
       "  </thead>\n",
       "  <tbody>\n",
       "    <tr>\n",
       "      <th>287</th>\n",
       "      <td>25</td>\n",
       "      <td>2025</td>\n",
       "      <td>23</td>\n",
       "      <td>11</td>\n",
       "      <td>revistas.espol.edu.ec/index.php/matematica</td>\n",
       "      <td>0</td>\n",
       "      <td>generalization zariouh’s property gaz local sp...</td>\n",
       "    </tr>\n",
       "    <tr>\n",
       "      <th>376</th>\n",
       "      <td>24</td>\n",
       "      <td>2025</td>\n",
       "      <td>25</td>\n",
       "      <td>16</td>\n",
       "      <td>10.1186/s12870-025-06196-4</td>\n",
       "      <td>1</td>\n",
       "      <td>exploring benefits amf colonization improving ...</td>\n",
       "    </tr>\n",
       "    <tr>\n",
       "      <th>375</th>\n",
       "      <td>24</td>\n",
       "      <td>2025</td>\n",
       "      <td>15</td>\n",
       "      <td>15</td>\n",
       "      <td>I 10.3389/fpls.2024.1500894</td>\n",
       "      <td>1</td>\n",
       "      <td>inoculation micromonospora sp enhances carbohy...</td>\n",
       "    </tr>\n",
       "    <tr>\n",
       "      <th>377</th>\n",
       "      <td>24</td>\n",
       "      <td>2024</td>\n",
       "      <td>24</td>\n",
       "      <td>18</td>\n",
       "      <td>10.1186/s12870-024-05423-8</td>\n",
       "      <td>1</td>\n",
       "      <td>mitigating cold stress rice study genotype per...</td>\n",
       "    </tr>\n",
       "    <tr>\n",
       "      <th>386</th>\n",
       "      <td>24</td>\n",
       "      <td>2025</td>\n",
       "      <td>2025</td>\n",
       "      <td>8</td>\n",
       "      <td>10.1155/ijmm/5191108</td>\n",
       "      <td>3</td>\n",
       "      <td>characterization affinir primal topological sp...</td>\n",
       "    </tr>\n",
       "  </tbody>\n",
       "</table>\n",
       "</div>"
      ],
      "text/plain": [
       "     IDDECINVTIPOPRODUCTOESPERADO  ANIO  VOLUMEN  PAGINAS  \\\n",
       "287                            25  2025       23       11   \n",
       "376                            24  2025       25       16   \n",
       "375                            24  2025       15       15   \n",
       "377                            24  2024       24       18   \n",
       "386                            24  2025     2025        8   \n",
       "\n",
       "                                             DOI  CUARTIL  \\\n",
       "287   revistas.espol.edu.ec/index.php/matematica        0   \n",
       "376                   10.1186/s12870-025-06196-4        1   \n",
       "375                  I 10.3389/fpls.2024.1500894        1   \n",
       "377                   10.1186/s12870-024-05423-8        1   \n",
       "386                         10.1155/ijmm/5191108        3   \n",
       "\n",
       "                                                CORPUS  \n",
       "287  generalization zariouh’s property gaz local sp...  \n",
       "376  exploring benefits amf colonization improving ...  \n",
       "375  inoculation micromonospora sp enhances carbohy...  \n",
       "377  mitigating cold stress rice study genotype per...  \n",
       "386  characterization affinir primal topological sp...  "
      ]
     },
     "execution_count": 31,
     "metadata": {},
     "output_type": "execute_result"
    }
   ],
   "source": [
    "data.head()"
   ]
  },
  {
   "cell_type": "code",
   "execution_count": 32,
   "id": "20dcd2da",
   "metadata": {},
   "outputs": [
    {
     "data": {
      "text/plain": [
       "Index(['IDDECINVTIPOPRODUCTOESPERADO', 'ANIO', 'VOLUMEN', 'PAGINAS', 'DOI',\n",
       "       'CUARTIL', 'CORPUS'],\n",
       "      dtype='object')"
      ]
     },
     "execution_count": 32,
     "metadata": {},
     "output_type": "execute_result"
    }
   ],
   "source": [
    "data.keys()"
   ]
  },
  {
   "cell_type": "markdown",
   "id": "832ddf7b",
   "metadata": {},
   "source": [
    "##### View data"
   ]
  },
  {
   "cell_type": "code",
   "execution_count": 33,
   "id": "5efe443a",
   "metadata": {},
   "outputs": [
    {
     "data": {
      "text/plain": [
       "((333, 7), (494, 61))"
      ]
     },
     "execution_count": 33,
     "metadata": {},
     "output_type": "execute_result"
    }
   ],
   "source": [
    "data.shape, df_all.shape"
   ]
  },
  {
   "cell_type": "code",
   "execution_count": 34,
   "id": "493281fd",
   "metadata": {},
   "outputs": [
    {
     "data": {
      "text/html": [
       "<div>\n",
       "<style scoped>\n",
       "    .dataframe tbody tr th:only-of-type {\n",
       "        vertical-align: middle;\n",
       "    }\n",
       "\n",
       "    .dataframe tbody tr th {\n",
       "        vertical-align: top;\n",
       "    }\n",
       "\n",
       "    .dataframe thead th {\n",
       "        text-align: right;\n",
       "    }\n",
       "</style>\n",
       "<table border=\"1\" class=\"dataframe\">\n",
       "  <thead>\n",
       "    <tr style=\"text-align: right;\">\n",
       "      <th></th>\n",
       "      <th>IDDECINVTIPOPRODUCTOESPERADO</th>\n",
       "      <th>ANIO</th>\n",
       "      <th>VOLUMEN</th>\n",
       "      <th>PAGINAS</th>\n",
       "      <th>CUARTIL</th>\n",
       "    </tr>\n",
       "  </thead>\n",
       "  <tbody>\n",
       "    <tr>\n",
       "      <th>count</th>\n",
       "      <td>333.000000</td>\n",
       "      <td>333.000000</td>\n",
       "      <td>3.330000e+02</td>\n",
       "      <td>333.0</td>\n",
       "      <td>333.000000</td>\n",
       "    </tr>\n",
       "    <tr>\n",
       "      <th>mean</th>\n",
       "      <td>30.207207</td>\n",
       "      <td>2023.660661</td>\n",
       "      <td>7.706979e+03</td>\n",
       "      <td>13.15015</td>\n",
       "      <td>1.288288</td>\n",
       "    </tr>\n",
       "    <tr>\n",
       "      <th>std</th>\n",
       "      <td>9.788225</td>\n",
       "      <td>1.438137</td>\n",
       "      <td>1.370001e+05</td>\n",
       "      <td>10.154305</td>\n",
       "      <td>1.292150</td>\n",
       "    </tr>\n",
       "    <tr>\n",
       "      <th>min</th>\n",
       "      <td>24.000000</td>\n",
       "      <td>2016.000000</td>\n",
       "      <td>0.000000e+00</td>\n",
       "      <td>0.0</td>\n",
       "      <td>0.000000</td>\n",
       "    </tr>\n",
       "    <tr>\n",
       "      <th>25%</th>\n",
       "      <td>24.000000</td>\n",
       "      <td>2024.000000</td>\n",
       "      <td>1.000000e+00</td>\n",
       "      <td>7.0</td>\n",
       "      <td>0.000000</td>\n",
       "    </tr>\n",
       "    <tr>\n",
       "      <th>50%</th>\n",
       "      <td>24.000000</td>\n",
       "      <td>2024.000000</td>\n",
       "      <td>1.400000e+01</td>\n",
       "      <td>11.0</td>\n",
       "      <td>1.000000</td>\n",
       "    </tr>\n",
       "    <tr>\n",
       "      <th>75%</th>\n",
       "      <td>46.000000</td>\n",
       "      <td>2024.000000</td>\n",
       "      <td>5.100000e+01</td>\n",
       "      <td>17.0</td>\n",
       "      <td>2.000000</td>\n",
       "    </tr>\n",
       "    <tr>\n",
       "      <th>max</th>\n",
       "      <td>46.000000</td>\n",
       "      <td>2025.000000</td>\n",
       "      <td>2.500196e+06</td>\n",
       "      <td>97.0</td>\n",
       "      <td>4.000000</td>\n",
       "    </tr>\n",
       "  </tbody>\n",
       "</table>\n",
       "</div>"
      ],
      "text/plain": [
       "       IDDECINVTIPOPRODUCTOESPERADO         ANIO       VOLUMEN    PAGINAS  \\\n",
       "count                    333.000000   333.000000  3.330000e+02      333.0   \n",
       "mean                      30.207207  2023.660661  7.706979e+03   13.15015   \n",
       "std                        9.788225     1.438137  1.370001e+05  10.154305   \n",
       "min                       24.000000  2016.000000  0.000000e+00        0.0   \n",
       "25%                       24.000000  2024.000000  1.000000e+00        7.0   \n",
       "50%                       24.000000  2024.000000  1.400000e+01       11.0   \n",
       "75%                       46.000000  2024.000000  5.100000e+01       17.0   \n",
       "max                       46.000000  2025.000000  2.500196e+06       97.0   \n",
       "\n",
       "          CUARTIL  \n",
       "count  333.000000  \n",
       "mean     1.288288  \n",
       "std      1.292150  \n",
       "min      0.000000  \n",
       "25%      0.000000  \n",
       "50%      1.000000  \n",
       "75%      2.000000  \n",
       "max      4.000000  "
      ]
     },
     "execution_count": 34,
     "metadata": {},
     "output_type": "execute_result"
    }
   ],
   "source": [
    "data.describe()"
   ]
  },
  {
   "cell_type": "code",
   "execution_count": 35,
   "id": "98961312",
   "metadata": {},
   "outputs": [
    {
     "name": "stdout",
     "output_type": "stream",
     "text": [
      "<class 'pandas.core.frame.DataFrame'>\n",
      "Index: 333 entries, 287 to 68\n",
      "Data columns (total 7 columns):\n",
      " #   Column                        Non-Null Count  Dtype \n",
      "---  ------                        --------------  ----- \n",
      " 0   IDDECINVTIPOPRODUCTOESPERADO  333 non-null    int64 \n",
      " 1   ANIO                          333 non-null    int64 \n",
      " 2   VOLUMEN                       333 non-null    int64 \n",
      " 3   PAGINAS                       333 non-null    Int64 \n",
      " 4   DOI                           333 non-null    object\n",
      " 5   CUARTIL                       333 non-null    int64 \n",
      " 6   CORPUS                        333 non-null    object\n",
      "dtypes: Int64(1), int64(4), object(2)\n",
      "memory usage: 21.1+ KB\n"
     ]
    }
   ],
   "source": [
    "data.info()"
   ]
  },
  {
   "cell_type": "code",
   "execution_count": 36,
   "id": "91c5d734",
   "metadata": {},
   "outputs": [
    {
     "data": {
      "text/plain": [
       "IDDECINVTIPOPRODUCTOESPERADO    0\n",
       "ANIO                            0\n",
       "VOLUMEN                         0\n",
       "PAGINAS                         0\n",
       "DOI                             0\n",
       "CUARTIL                         0\n",
       "CORPUS                          0\n",
       "dtype: int64"
      ]
     },
     "execution_count": 36,
     "metadata": {},
     "output_type": "execute_result"
    }
   ],
   "source": [
    "data.isna().sum()"
   ]
  },
  {
   "cell_type": "code",
   "execution_count": 37,
   "id": "efdb2d5d",
   "metadata": {},
   "outputs": [
    {
     "data": {
      "text/html": [
       "<div>\n",
       "<style scoped>\n",
       "    .dataframe tbody tr th:only-of-type {\n",
       "        vertical-align: middle;\n",
       "    }\n",
       "\n",
       "    .dataframe tbody tr th {\n",
       "        vertical-align: top;\n",
       "    }\n",
       "\n",
       "    .dataframe thead th {\n",
       "        text-align: right;\n",
       "    }\n",
       "</style>\n",
       "<table border=\"1\" class=\"dataframe\">\n",
       "  <thead>\n",
       "    <tr style=\"text-align: right;\">\n",
       "      <th></th>\n",
       "      <th>IDDECINVTIPOPRODUCTOESPERADO</th>\n",
       "      <th>ANIO</th>\n",
       "      <th>VOLUMEN</th>\n",
       "      <th>PAGINAS</th>\n",
       "      <th>DOI</th>\n",
       "      <th>CUARTIL</th>\n",
       "      <th>CORPUS</th>\n",
       "    </tr>\n",
       "  </thead>\n",
       "  <tbody>\n",
       "    <tr>\n",
       "      <th>287</th>\n",
       "      <td>25</td>\n",
       "      <td>2025</td>\n",
       "      <td>23</td>\n",
       "      <td>11</td>\n",
       "      <td>revistas.espol.edu.ec/index.php/matematica</td>\n",
       "      <td>0</td>\n",
       "      <td>generalization zariouh’s property gaz local sp...</td>\n",
       "    </tr>\n",
       "    <tr>\n",
       "      <th>376</th>\n",
       "      <td>24</td>\n",
       "      <td>2025</td>\n",
       "      <td>25</td>\n",
       "      <td>16</td>\n",
       "      <td>10.1186/s12870-025-06196-4</td>\n",
       "      <td>1</td>\n",
       "      <td>exploring benefits amf colonization improving ...</td>\n",
       "    </tr>\n",
       "    <tr>\n",
       "      <th>375</th>\n",
       "      <td>24</td>\n",
       "      <td>2025</td>\n",
       "      <td>15</td>\n",
       "      <td>15</td>\n",
       "      <td>I 10.3389/fpls.2024.1500894</td>\n",
       "      <td>1</td>\n",
       "      <td>inoculation micromonospora sp enhances carbohy...</td>\n",
       "    </tr>\n",
       "    <tr>\n",
       "      <th>377</th>\n",
       "      <td>24</td>\n",
       "      <td>2024</td>\n",
       "      <td>24</td>\n",
       "      <td>18</td>\n",
       "      <td>10.1186/s12870-024-05423-8</td>\n",
       "      <td>1</td>\n",
       "      <td>mitigating cold stress rice study genotype per...</td>\n",
       "    </tr>\n",
       "    <tr>\n",
       "      <th>386</th>\n",
       "      <td>24</td>\n",
       "      <td>2025</td>\n",
       "      <td>2025</td>\n",
       "      <td>8</td>\n",
       "      <td>10.1155/ijmm/5191108</td>\n",
       "      <td>3</td>\n",
       "      <td>characterization affinir primal topological sp...</td>\n",
       "    </tr>\n",
       "  </tbody>\n",
       "</table>\n",
       "</div>"
      ],
      "text/plain": [
       "     IDDECINVTIPOPRODUCTOESPERADO  ANIO  VOLUMEN  PAGINAS  \\\n",
       "287                            25  2025       23       11   \n",
       "376                            24  2025       25       16   \n",
       "375                            24  2025       15       15   \n",
       "377                            24  2024       24       18   \n",
       "386                            24  2025     2025        8   \n",
       "\n",
       "                                             DOI  CUARTIL  \\\n",
       "287   revistas.espol.edu.ec/index.php/matematica        0   \n",
       "376                   10.1186/s12870-025-06196-4        1   \n",
       "375                  I 10.3389/fpls.2024.1500894        1   \n",
       "377                   10.1186/s12870-024-05423-8        1   \n",
       "386                         10.1155/ijmm/5191108        3   \n",
       "\n",
       "                                                CORPUS  \n",
       "287  generalization zariouh’s property gaz local sp...  \n",
       "376  exploring benefits amf colonization improving ...  \n",
       "375  inoculation micromonospora sp enhances carbohy...  \n",
       "377  mitigating cold stress rice study genotype per...  \n",
       "386  characterization affinir primal topological sp...  "
      ]
     },
     "execution_count": 37,
     "metadata": {},
     "output_type": "execute_result"
    }
   ],
   "source": [
    "data.head()"
   ]
  },
  {
   "cell_type": "code",
   "execution_count": 38,
   "id": "d92ecefa",
   "metadata": {},
   "outputs": [],
   "source": [
    "data.to_csv(\"data/cuantifications/\" + name_file, index=False)"
   ]
  }
 ],
 "metadata": {
  "kernelspec": {
   "display_name": "Python 3",
   "language": "python",
   "name": "python3"
  },
  "language_info": {
   "codemirror_mode": {
    "name": "ipython",
    "version": 3
   },
   "file_extension": ".py",
   "mimetype": "text/x-python",
   "name": "python",
   "nbconvert_exporter": "python",
   "pygments_lexer": "ipython3",
   "version": "3.12.10"
  }
 },
 "nbformat": 4,
 "nbformat_minor": 5
}
